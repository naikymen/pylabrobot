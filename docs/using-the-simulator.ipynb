{
 "cells": [
  {
   "cell_type": "markdown",
   "id": "c3c71913",
   "metadata": {},
   "source": [
    "# Using the simulator\n",
    "\n",
    "In this notebook you will learn how to use the simulator to test out methods."
   ]
  },
  {
   "attachments": {},
   "cell_type": "markdown",
   "id": "d6cdca52",
   "metadata": {},
   "source": [
    "## Setting up a connection with the robot\n",
    "\n",
    "As described in the [basic liquid handling tutorial](basic), we will use the {class}`~pylabrobot.liquid_handling.liquid_handler.LiquidHandler` class to control the robot. This time, however, instead of using the Hamilton {class}`~pylabrobot.liquid_handling.backends.hamilton.STAR.STAR` backend, we are using virtual the {class}`~pylabrobot.liquid_handling.backends.simulation.simulator_backend.SimulatorBackend` backend. This means that liquid handling will work exactly the same, but the commands are sent to the simulator instead of a real physical robot."
   ]
  },
  {
   "cell_type": "code",
   "execution_count": 1,
   "id": "e18d370e",
   "metadata": {},
   "outputs": [],
   "source": [
    "%load_ext autoreload\n",
    "%autoreload 2"
   ]
  },
  {
   "cell_type": "code",
   "execution_count": 2,
   "id": "7c5a2629",
   "metadata": {},
   "outputs": [],
   "source": [
    "from pylabrobot.liquid_handling import LiquidHandler\n",
    "from pylabrobot.liquid_handling.backends.simulation.simulator_backend import SimulatorBackend"
   ]
  },
  {
   "cell_type": "code",
   "execution_count": 3,
   "id": "272520d3",
   "metadata": {},
   "outputs": [],
   "source": [
    "from pylabrobot.resources.hamilton import STARLetDeck"
   ]
  },
  {
   "cell_type": "code",
   "execution_count": 4,
   "id": "2e280caa",
   "metadata": {},
   "outputs": [],
   "source": [
    "sb = SimulatorBackend(open_browser=False)\n",
    "lh = LiquidHandler(backend=sb, deck=STARLetDeck())"
   ]
  },
  {
   "attachments": {},
   "cell_type": "markdown",
   "id": "30dcf4a1",
   "metadata": {},
   "source": [
    "Calling {func}`~pylabrobot.liquid_handling.liquid_handler.LiquidHandler.setup` will set up the simulation server and open it in a new browser tab."
   ]
  },
  {
   "cell_type": "code",
   "execution_count": 5,
   "id": "1419f2b3",
   "metadata": {},
   "outputs": [
    {
     "name": "stdout",
     "output_type": "stream",
     "text": [
      "Websocket server started at http://127.0.0.1:2121\n",
      "File server started at http://127.0.0.1:1337 . Open this URL in your browser.\n"
     ]
    }
   ],
   "source": [
    "await lh.setup()"
   ]
  },
  {
   "cell_type": "markdown",
   "id": "871184ce",
   "metadata": {},
   "source": [
    "For the optimal experience, we recommend that you run the notebook and simulator side by side."
   ]
  },
  {
   "cell_type": "code",
   "execution_count": 6,
   "id": "165c9de4",
   "metadata": {},
   "outputs": [],
   "source": [
    "sb.wait_for_connection()"
   ]
  },
  {
   "cell_type": "markdown",
   "id": "3002429b",
   "metadata": {},
   "source": [
    "![The empty simulator](./img/simulator/empty.png)"
   ]
  },
  {
   "attachments": {},
   "cell_type": "markdown",
   "id": "050ccefd",
   "metadata": {},
   "source": [
    "## Assigning plates and tips\n",
    "\n",
    "With the simulator, {func}`assigning resources <pylabrobot.resources.Deck.assign_child_resource>` has the additional affect of placing the resources on the simulated deck. They will appear immediately."
   ]
  },
  {
   "cell_type": "code",
   "execution_count": 7,
   "id": "c8c464c8",
   "metadata": {},
   "outputs": [],
   "source": [
    "from pylabrobot.resources import (\n",
    "    TIP_CAR_480_A00,\n",
    "    PLT_CAR_L5AC_A00,\n",
    "    Cos_96_DW_1mL,\n",
    "    HTF_L\n",
    ")"
   ]
  },
  {
   "cell_type": "code",
   "execution_count": 8,
   "id": "b14e3628",
   "metadata": {},
   "outputs": [],
   "source": [
    "tip_car = TIP_CAR_480_A00(name='tip carrier')\n",
    "tip_car[0] = tips = HTF_L(name='tips_01')\n",
    "tip_car[1] = HTF_L(name='tips_02')\n",
    "tip_car[2] = HTF_L(name='tips_03')\n",
    "tip_car[3] = HTF_L(name='tips_04')\n",
    "tip_car[4] = HTF_L(name='tips_05')"
   ]
  },
  {
   "cell_type": "code",
   "execution_count": 9,
   "id": "140872be",
   "metadata": {},
   "outputs": [],
   "source": [
    "lh.deck.assign_child_resource(tip_car, rails=15)"
   ]
  },
  {
   "cell_type": "code",
   "execution_count": 10,
   "id": "13cbc612",
   "metadata": {},
   "outputs": [],
   "source": [
    "plt_car = PLT_CAR_L5AC_A00(name='plate carrier')\n",
    "plt_car[0] = plate_1 = Cos_96_DW_1mL(name='plate_01')\n",
    "plt_car[1] = plate_2 = Cos_96_DW_1mL(name='plate_02')\n",
    "plt_car[2] = plate_3 = Cos_96_DW_1mL(name='plate_03')"
   ]
  },
  {
   "cell_type": "code",
   "execution_count": 11,
   "id": "d618ec6a",
   "metadata": {},
   "outputs": [],
   "source": [
    "lh.deck.assign_child_resource(plt_car, rails=8)"
   ]
  },
  {
   "cell_type": "markdown",
   "id": "21835f31",
   "metadata": {},
   "source": [
    "![The simulator after the resources have been assigned](./img/simulator/assignment.png)"
   ]
  },
  {
   "cell_type": "markdown",
   "id": "68a9721b",
   "metadata": {},
   "source": [
    "## Build the deck layout: placing resources\n",
    "\n",
    "Where you would manually place the resources like tips and liquid on the deck when using a physical system, with the Simulator you can add them using code."
   ]
  },
  {
   "attachments": {},
   "cell_type": "markdown",
   "id": "daf99520",
   "metadata": {},
   "source": [
    "### Tips\n",
    "\n",
    "Let's use {func}`~pylabrobot.liquid_handling.backends.simulation.SimulatorBackend.fill_tip_rack` to place tips at all spots in the tip rack in location `0`."
   ]
  },
  {
   "cell_type": "code",
   "execution_count": 12,
   "id": "717550b3",
   "metadata": {},
   "outputs": [
    {
     "data": {
      "text/plain": [
       "TipRack(name=tips_01, size_x=122.4, size_y=82.6, size_z=20.0, location=(000.000, 000.000, 000.000))"
      ]
     },
     "execution_count": 12,
     "metadata": {},
     "output_type": "execute_result"
    }
   ],
   "source": [
    "tiprack = lh.get_resource(\"tips_01\")\n",
    "tiprack"
   ]
  },
  {
   "cell_type": "code",
   "execution_count": 13,
   "id": "ca3152d0",
   "metadata": {
    "scrolled": true
   },
   "outputs": [],
   "source": [
    "await sb.fill_tip_rack(tiprack)"
   ]
  },
  {
   "attachments": {},
   "cell_type": "markdown",
   "id": "26f036c6",
   "metadata": {},
   "source": [
    "\n",
    "You can precisely control the presence of tips using {func}`~pylabrobot.liquid_handling.backends.simulation.SimulatorBackend.edit_tips`."
   ]
  },
  {
   "cell_type": "code",
   "execution_count": 14,
   "id": "8f574b8d",
   "metadata": {},
   "outputs": [],
   "source": [
    "tips4 = lh.get_resource(\"tips_04\")\n",
    "await sb.edit_tips(tips4, pattern=[[True]*6 + [False]*6]*8)"
   ]
  },
  {
   "cell_type": "code",
   "execution_count": 15,
   "id": "8e1ed1e6",
   "metadata": {},
   "outputs": [],
   "source": [
    "await sb.edit_tips(lh.get_resource(\"tips_03\"), pattern=[[True, False]*6]*8)"
   ]
  },
  {
   "cell_type": "code",
   "execution_count": 16,
   "id": "579da35b",
   "metadata": {},
   "outputs": [],
   "source": [
    "await sb.edit_tips(lh.get_resource(\"tips_02\"), pattern=[[True, True, False, False]*3]*8)"
   ]
  },
  {
   "attachments": {},
   "cell_type": "markdown",
   "id": "594d8016",
   "metadata": {},
   "source": [
    "### Liquids\n",
    "\n",
    "Adding liquid to wells works similarly. You can use {func}`~pylabrobot.liquid_handling.backends.simulation.SimulatorBackend.adjust_well_volume` to adjust the volume of individual wells in each resource. Note that the opacity of the well matches the volume of the well."
   ]
  },
  {
   "cell_type": "code",
   "execution_count": 17,
   "id": "5b76aac2",
   "metadata": {},
   "outputs": [],
   "source": [
    "plate_1_liquids = [[(None, 500)]]*96\n",
    "await sb.adjust_wells_liquids(plate_1, liquids=plate_1_liquids)"
   ]
  },
  {
   "cell_type": "code",
   "execution_count": 18,
   "id": "400208c7",
   "metadata": {},
   "outputs": [],
   "source": [
    "plate_2_liquids = [[(None, 100)], [(None, 500)]]*(96//2)\n",
    "await sb.adjust_wells_liquids(plate_2, liquids=plate_2_liquids)"
   ]
  },
  {
   "attachments": {},
   "cell_type": "markdown",
   "id": "66281459",
   "metadata": {},
   "source": [
    "Using the simulator backend we have adjusted the volume in the simulator, which you can best compare to adding liquid in reality. Now we need to update the wells (that live in Python) to reflect how much volume is in them, so that LiquidHandler can validate your actions. This is done using {func}`~pylabrobot.resources.Plate.set_well_liquids`. Note that this can be done in all liquid handling protocols, not just the simulator."
   ]
  },
  {
   "cell_type": "code",
   "execution_count": 19,
   "id": "7275f8c4",
   "metadata": {},
   "outputs": [],
   "source": [
    "plate_1.set_well_liquids(plate_1_liquids)\n",
    "plate_2.set_well_liquids(plate_2_liquids)"
   ]
  },
  {
   "cell_type": "markdown",
   "id": "66a27cfc",
   "metadata": {},
   "source": [
    "![Simulator after the tips have been placed and the volumes adjusted](./img/simulator/resources.png)"
   ]
  },
  {
   "cell_type": "markdown",
   "id": "27af93d8",
   "metadata": {},
   "source": [
    "## Liquid handling\n",
    "\n",
    "Once the layout is complete, you can run the same commands as described in the [basic liquid handling tutorial](basic)."
   ]
  },
  {
   "cell_type": "markdown",
   "id": "21c3f2cd",
   "metadata": {},
   "source": [
    "### Picking up tips"
   ]
  },
  {
   "cell_type": "code",
   "execution_count": 20,
   "id": "899f07e4",
   "metadata": {},
   "outputs": [],
   "source": [
    "tip_0 = lh.get_resource(\"tips_01\")"
   ]
  },
  {
   "cell_type": "code",
   "execution_count": 21,
   "id": "f97eadd4",
   "metadata": {},
   "outputs": [],
   "source": [
    "await lh.pick_up_tips(tip_0[\"A1\", \"B2\", \"C3\", \"D4\"])"
   ]
  },
  {
   "cell_type": "code",
   "execution_count": 22,
   "id": "bf46e476",
   "metadata": {},
   "outputs": [],
   "source": [
    "await lh.drop_tips(tip_0[\"A1\", \"B2\", \"C3\", \"D4\"])"
   ]
  },
  {
   "cell_type": "markdown",
   "id": "5c6948b2",
   "metadata": {},
   "source": [
    "### Aspirating and dispensing"
   ]
  },
  {
   "cell_type": "code",
   "execution_count": 23,
   "id": "947977c7",
   "metadata": {},
   "outputs": [],
   "source": [
    "await lh.pick_up_tips(tip_0[\"A1\"])"
   ]
  },
  {
   "cell_type": "code",
   "execution_count": 24,
   "id": "2e82aaa6",
   "metadata": {},
   "outputs": [],
   "source": [
    "plate = lh.get_resource(\"plate_01\")"
   ]
  },
  {
   "cell_type": "code",
   "execution_count": 25,
   "id": "c25a147f",
   "metadata": {},
   "outputs": [],
   "source": [
    "await lh.aspirate(plate[\"A2\"], vols=[300])"
   ]
  },
  {
   "cell_type": "code",
   "execution_count": 26,
   "id": "e86428ea",
   "metadata": {},
   "outputs": [],
   "source": [
    "await lh.dispense(plate_2[\"A1\"], vols=[300])"
   ]
  },
  {
   "cell_type": "code",
   "execution_count": 27,
   "id": "70117e04",
   "metadata": {},
   "outputs": [],
   "source": [
    "await lh.drop_tips(tip_0[\"A1\"])"
   ]
  },
  {
   "attachments": {},
   "cell_type": "markdown",
   "id": "8a8b3d59",
   "metadata": {},
   "source": [
    "### Aspirating using CoRe 96\n",
    "\n",
    "The CoRe 96 head supports liquid handling operations for 96 channels at once. Here's how to use:\n",
    "\n",
    "- {func}`~pylabrobot.liquid_handling.liquid_handler.LiquidHandler.pick_up_tips96` for picking up 96 tips;\n",
    "- {func}`~pylabrobot.liquid_handling.liquid_handler.LiquidHandler.aspirate_plate` for aspirating liquid from an entire plate at once;\n",
    "- {func}`~pylabrobot.liquid_handling.liquid_handler.LiquidHandler.dispense_plate` for dispensing liquid to an entire plate at once;\n",
    "- {func}`~pylabrobot.liquid_handling.liquid_handler.LiquidHandler.drop_tips96` for dropping tips to the tip rack.\n"
   ]
  },
  {
   "cell_type": "code",
   "execution_count": 28,
   "id": "b8c5706d",
   "metadata": {},
   "outputs": [],
   "source": [
    "await lh.pick_up_tips96(tiprack)"
   ]
  },
  {
   "cell_type": "code",
   "execution_count": 29,
   "id": "c09144c9",
   "metadata": {},
   "outputs": [],
   "source": [
    "await lh.aspirate_plate(plt_car[0].resource, volume=200)"
   ]
  },
  {
   "cell_type": "code",
   "execution_count": 30,
   "id": "2ba711bb",
   "metadata": {},
   "outputs": [],
   "source": [
    "await lh.dispense_plate(plt_car[2].resource, volume=200)"
   ]
  },
  {
   "cell_type": "code",
   "execution_count": 31,
   "id": "6d205ea7",
   "metadata": {},
   "outputs": [],
   "source": [
    "await lh.drop_tips96(tiprack)"
   ]
  },
  {
   "cell_type": "markdown",
   "id": "9cc77505",
   "metadata": {},
   "source": [
    "![The simulator after the liquid handling operations completed](./img/simulator/after_lh.png)"
   ]
  },
  {
   "attachments": {},
   "cell_type": "markdown",
   "id": "e49020a5",
   "metadata": {},
   "source": [
    "## Shutting down\n",
    "\n",
    "When you're done, remember to shut down the simulator by calling {func}`~pylabrobot.liquid_handling.liquid_handler.LiquidHandler.stop`."
   ]
  },
  {
   "cell_type": "code",
   "execution_count": 32,
   "id": "44a61431",
   "metadata": {},
   "outputs": [],
   "source": [
    "await lh.stop()"
   ]
  }
 ],
 "metadata": {
  "kernelspec": {
   "display_name": "Python 3 (ipykernel)",
   "language": "python",
   "name": "python3"
  },
  "language_info": {
   "codemirror_mode": {
    "name": "ipython",
    "version": 3
   },
   "file_extension": ".py",
   "mimetype": "text/x-python",
   "name": "python",
   "nbconvert_exporter": "python",
   "pygments_lexer": "ipython3",
   "version": "3.10.12"
  },
  "toc": {
   "base_numbering": 1,
   "nav_menu": {},
   "number_sections": true,
   "sideBar": true,
   "skip_h1_title": false,
   "title_cell": "Table of Contents",
   "title_sidebar": "Contents",
   "toc_cell": false,
   "toc_position": {},
   "toc_section_display": true,
   "toc_window_display": false
  },
  "varInspector": {
   "cols": {
    "lenName": 16,
    "lenType": 16,
    "lenVar": 40
   },
   "kernels_config": {
    "python": {
     "delete_cmd_postfix": "",
     "delete_cmd_prefix": "del ",
     "library": "var_list.py",
     "varRefreshCmd": "print(var_dic_list())"
    },
    "r": {
     "delete_cmd_postfix": ") ",
     "delete_cmd_prefix": "rm(",
     "library": "var_list.r",
     "varRefreshCmd": "cat(var_dic_list()) "
    }
   },
   "types_to_exclude": [
    "module",
    "function",
    "builtin_function_or_method",
    "instance",
    "_Feature"
   ],
   "window_display": false
  },
  "vscode": {
   "interpreter": {
    "hash": "bf274dfc1b974177267b6b8fba8543eeb0bb4c5d64c637dde420829b05625268"
   }
  }
 },
 "nbformat": 4,
 "nbformat_minor": 5
}
