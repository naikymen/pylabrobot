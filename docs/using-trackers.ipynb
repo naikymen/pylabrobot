{
  "cells": [
    {
      "cell_type": "markdown",
      "metadata": {},
      "source": [
        "# Using trackers\n",
        "\n",
        "Trackers in PyLabRobot are objects that keep track of the state of the deck throughout a protocol. Two types of trackers currently exist: tip trackers (tracking the presence of tips in tip racks and on the pipetting channels) and volume trackers (tracking the volume in pipetting tips and wells)."
      ]
    },
    {
      "cell_type": "code",
      "execution_count": 1,
      "metadata": {},
      "outputs": [],
      "source": [
        "from pylabrobot.liquid_handling import LiquidHandler, SerializingSavingBackend\n",
        "from pylabrobot.resources import (\n",
        "  TIP_CAR_480_A00,\n",
        "  HTF_L,\n",
        "  PLT_CAR_L5AC_A00,\n",
        "  Cos_96_EZWash,\n",
        ")\n",
        "from pylabrobot.resources.hamilton import STARLetDeck\n",
        "\n",
        "lh = LiquidHandler(backend=SerializingSavingBackend(num_channels=8), deck=STARLetDeck())\n",
        "lh.setup()"
      ]
    },
    {
      "cell_type": "code",
      "execution_count": 2,
      "metadata": {},
      "outputs": [],
      "source": [
        "tip_carrier = TIP_CAR_480_A00(name=\"tip carrier\") # initialize a tip carrier"
      ]
    },
    {
      "cell_type": "code",
      "execution_count": 3,
      "metadata": {},
      "outputs": [],
      "source": [
        "plt_carrier = PLT_CAR_L5AC_A00(name=\"plate carrier\") # initialize a plate carrier"
      ]
    },
    {
      "cell_type": "markdown",
      "metadata": {},
      "source": [
        "## Tip trackers\n",
        "\n",
        "The tip tracker is a simple class that keeps track of the current tip, and the previous operations that have been performed on an object. This enables features like {meth}`~pylabrobot.liquid_handling.LiquidHandler.return_tips` and automated tip type detection."
      ]
    },
    {
      "cell_type": "markdown",
      "metadata": {},
      "source": [
        "### Initializing tip racks\n",
        "\n",
        "Whether or not tip tracking is turned on, spots on a tip rack initialize with a tip tracker that defaults to having a tip. The tip tracker only comes into play with performing operations."
      ]
    },
    {
      "cell_type": "code",
      "execution_count": 4,
      "metadata": {},
      "outputs": [],
      "source": [
        "tip_carrier[0] = tip_rack = HTF_L(name=\"tip rack\")"
      ]
    },
    {
      "cell_type": "code",
      "execution_count": 5,
      "metadata": {},
      "outputs": [
        {
          "data": {
            "text/plain": [
              "True"
            ]
          },
          "execution_count": 5,
          "metadata": {},
          "output_type": "execute_result"
        }
      ],
      "source": [
        "tip_rack.get_item(\"A1\").tracker.has_tip"
      ]
    },
    {
      "cell_type": "markdown",
      "metadata": {},
      "source": [
        "To initialize a tip rack without tips, pass `with_tips=False`:"
      ]
    },
    {
      "cell_type": "code",
      "execution_count": 6,
      "metadata": {},
      "outputs": [],
      "source": [
        "tip_carrier[1] = empty_tip_rack = HTF_L(name=\"empty tip rack\", with_tips=False)"
      ]
    },
    {
      "cell_type": "code",
      "execution_count": 7,
      "metadata": {},
      "outputs": [
        {
          "data": {
            "text/plain": [
              "False"
            ]
          },
          "execution_count": 7,
          "metadata": {},
          "output_type": "execute_result"
        }
      ],
      "source": [
        "empty_tip_rack.get_item(\"A1\").tracker.has_tip"
      ]
    },
    {
      "cell_type": "markdown",
      "metadata": {},
      "source": [
        "To \"empty\" a tip rack after initialization, use the {meth}`~pylabrobot.resources.abstract.TipRack.empty()` method. To \"fill\" a tip rack after initialization, use the {meth}`~pylabrobot.resources.abstract.TipRack.fill()` method."
      ]
    },
    {
      "cell_type": "code",
      "execution_count": 8,
      "metadata": {},
      "outputs": [
        {
          "data": {
            "text/plain": [
              "True"
            ]
          },
          "execution_count": 8,
          "metadata": {},
          "output_type": "execute_result"
        }
      ],
      "source": [
        "empty_tip_rack.fill()\n",
        "empty_tip_rack.get_item(\"A1\").tracker.has_tip"
      ]
    },
    {
      "cell_type": "code",
      "execution_count": 9,
      "metadata": {},
      "outputs": [
        {
          "data": {
            "text/plain": [
              "False"
            ]
          },
          "execution_count": 9,
          "metadata": {},
          "output_type": "execute_result"
        }
      ],
      "source": [
        "empty_tip_rack.empty()\n",
        "empty_tip_rack.get_item(\"A1\").tracker.has_tip"
      ]
    },
    {
      "cell_type": "code",
      "execution_count": 10,
      "metadata": {},
      "outputs": [],
      "source": [
        "lh.deck.assign_child_resource(tip_carrier, rails=3)"
      ]
    },
    {
      "attachments": {},
      "cell_type": "markdown",
      "metadata": {},
      "source": [
        "#### Inspecting tip tracker operation history"
      ]
    },
    {
      "cell_type": "code",
      "execution_count": 11,
      "metadata": {},
      "outputs": [
        {
          "data": {
            "text/plain": [
              "(False,\n",
              " [Pickup(tip=TipSpot(name=tip rack_tipspot_0_0, location=(007.200, 068.300, -83.500), size_x=9.0, size_y=9.0, size_z=0, category=tip_spot), offset=Default)])"
            ]
          },
          "execution_count": 11,
          "metadata": {},
          "output_type": "execute_result"
        }
      ],
      "source": [
        "lh.pick_up_tips(tip_rack[0])\n",
        "tip_rack.get_item(\"A1\").tracker.has_tip, tip_rack.get_item(\"A1\").tracker.history"
      ]
    },
    {
      "cell_type": "code",
      "execution_count": 12,
      "metadata": {},
      "outputs": [
        {
          "data": {
            "text/plain": [
              "(True,\n",
              " [Pickup(tip=TipSpot(name=tip rack_tipspot_0_0, location=(007.200, 068.300, -83.500), size_x=9.0, size_y=9.0, size_z=0, category=tip_spot), offset=Default),\n",
              "  Drop(tip=TipSpot(name=tip rack_tipspot_0_0, location=(007.200, 068.300, -83.500), size_x=9.0, size_y=9.0, size_z=0, category=tip_spot), offset=Default)])"
            ]
          },
          "execution_count": 12,
          "metadata": {},
          "output_type": "execute_result"
        }
      ],
      "source": [
        "lh.drop_tips(tip_rack[0])\n",
        "tip_rack.get_item(\"A1\").tracker.has_tip, tip_rack.get_item(\"A1\").tracker.history"
      ]
    },
    {
      "attachments": {},
      "cell_type": "markdown",
      "metadata": {},
      "source": [
        "### Tip tracker errors\n",
        "\n",
        "The tip tracker is most useful for catching hardware errors before they happen. With tip tracking turned on, the following errors can be raised:"
      ]
    },
    {
      "cell_type": "code",
      "execution_count": 13,
      "metadata": {},
      "outputs": [],
      "source": [
        "from pylabrobot.resources.abstract.tip_tracker import TipSpotHasTipError, TipSpotHasNoTipError\n",
        "from pylabrobot.liquid_handling.channel_tip_tracker import ChannelHasTipError, ChannelHasNoTipError"
      ]
    },
    {
      "cell_type": "markdown",
      "metadata": {},
      "source": [
        "#### `TipSpotHasNoTipError`\n",
        "\n",
        "This error is raised when the tip tracker is trying to access a spot that has no tip."
      ]
    },
    {
      "cell_type": "code",
      "execution_count": 14,
      "metadata": {},
      "outputs": [
        {
          "name": "stdout",
          "output_type": "stream",
          "text": [
            "As expected: Tip spot has no tip.\n"
          ]
        }
      ],
      "source": [
        "lh.pick_up_tips(tip_rack[0])\n",
        "lh.drop_tips(empty_tip_rack[0])\n",
        "\n",
        "try:\n",
        "  lh.pick_up_tips(tip_rack[0])\n",
        "except TipSpotHasNoTipError as e:\n",
        "  print(\"As expected:\", e)"
      ]
    },
    {
      "cell_type": "markdown",
      "metadata": {},
      "source": [
        "#### `TipSpotHasTipError`\n",
        "\n",
        "This error is raised when the tip tracker is trying to access a spot that has a tip."
      ]
    },
    {
      "cell_type": "code",
      "execution_count": 15,
      "metadata": {},
      "outputs": [
        {
          "name": "stdout",
          "output_type": "stream",
          "text": [
            "As expected: Tip spot already has a tip.\n"
          ]
        }
      ],
      "source": [
        "lh.pick_up_tips(tip_rack[1])\n",
        "\n",
        "try:\n",
        "  lh.drop_tips(empty_tip_rack[0])\n",
        "except TipSpotHasTipError as e:\n",
        "  print(\"As expected:\", e)"
      ]
    },
    {
      "cell_type": "code",
      "execution_count": 16,
      "metadata": {},
      "outputs": [],
      "source": [
        "lh.drop_tips(empty_tip_rack[1])"
      ]
    },
    {
      "cell_type": "markdown",
      "metadata": {},
      "source": [
        "#### `ChannelHasNoTipError`\n",
        "\n",
        "This error is raised when the tip tracker is trying to use a channel that has no tip."
      ]
    },
    {
      "cell_type": "code",
      "execution_count": 17,
      "metadata": {},
      "outputs": [
        {
          "name": "stdout",
          "output_type": "stream",
          "text": [
            "As expected: Channel has no tip.\n"
          ]
        }
      ],
      "source": [
        "try:\n",
        "  lh.drop_tips(empty_tip_rack[2])\n",
        "except ChannelHasNoTipError as e:\n",
        "  print(\"As expected:\", e)"
      ]
    },
    {
      "cell_type": "markdown",
      "metadata": {},
      "source": [
        "#### `ChannelHasTipError`\n",
        "\n",
        "This error is raised when the tip tracker is trying to use a channel that has a tip."
      ]
    },
    {
      "cell_type": "code",
      "execution_count": 18,
      "metadata": {},
      "outputs": [
        {
          "name": "stdout",
          "output_type": "stream",
          "text": [
            "As expected: Channel already has tip.\n"
          ]
        }
      ],
      "source": [
        "lh.pick_up_tips(tip_rack[2])\n",
        "\n",
        "try:\n",
        "  lh.pick_up_tips(tip_rack[3])\n",
        "except ChannelHasTipError as e:\n",
        "  print(\"As expected:\", e)"
      ]
    },
    {
      "cell_type": "markdown",
      "metadata": {},
      "source": [
        "### Disabling the tip tracker\n",
        "\n",
        "The tip tracker can be disabled in three different ways, depending on the desired behavior."
      ]
    },
    {
      "attachments": {},
      "cell_type": "markdown",
      "metadata": {},
      "source": [
        "#### Using a context manager\n",
        "\n",
        "The `liquid_handling` package has a {meth}`pylabrobot.liquid_handling.no_tip_tracking` context manager that can be used to disable the tip tracker for a set of operations.\n",
        "\n",
        "Note that we use the {meth}`pylabrobot.liquid_handling.LiquidHandler.clear_head_state` method to forget the tips that are currently mounted on the channels. This is needed because even though the tip tracker is disabled, the channels still keep track of the tips that are mounted on them."
      ]
    },
    {
      "cell_type": "code",
      "execution_count": 19,
      "metadata": {},
      "outputs": [],
      "source": [
        "lh.clear_head_state()"
      ]
    },
    {
      "cell_type": "code",
      "execution_count": 20,
      "metadata": {},
      "outputs": [],
      "source": [
        "from pylabrobot.resources import no_tip_tracking\n",
        "\n",
        "with no_tip_tracking():\n",
        "  lh.pick_up_tips(tip_rack[4])\n",
        "  lh.pick_up_tips(tip_rack[4], use_channels=[1]) # no error"
      ]
    },
    {
      "cell_type": "markdown",
      "metadata": {},
      "source": [
        "#### For a single object\n",
        "\n",
        "The tip tracker can be disabled for a single object by calling {meth}`pylabrobot.liquid_handling.tip_tracker.TipTracker.disable()` on the tracker object."
      ]
    },
    {
      "cell_type": "code",
      "execution_count": 21,
      "metadata": {},
      "outputs": [],
      "source": [
        "lh.clear_head_state()"
      ]
    },
    {
      "cell_type": "code",
      "execution_count": 22,
      "metadata": {},
      "outputs": [],
      "source": [
        "tip_rack.get_item(5).tracker.disable()\n",
        "\n",
        "lh.pick_up_tips(tip_rack[5])\n",
        "lh.pick_up_tips(tip_rack[5], use_channels=[1]) # no error\n",
        "\n",
        "tip_rack.get_item(5).tracker.enable()"
      ]
    },
    {
      "cell_type": "markdown",
      "metadata": {},
      "source": [
        "#### Globally\n",
        "\n",
        "The tip tracker can be disabled globally by using {meth}`pylabrobot.liquid_handling.set_tip_tracking`."
      ]
    },
    {
      "cell_type": "code",
      "execution_count": 23,
      "metadata": {},
      "outputs": [],
      "source": [
        "lh.clear_head_state()"
      ]
    },
    {
      "cell_type": "code",
      "execution_count": 24,
      "metadata": {},
      "outputs": [],
      "source": [
        "from pylabrobot.resources import set_tip_tracking\n",
        "\n",
        "set_tip_tracking(enabled=False)\n",
        "\n",
        "lh.pick_up_tips(tip_rack[6])\n",
        "lh.pick_up_tips(tip_rack[6], use_channels=[1]) # no error\n",
        "\n",
        "set_tip_tracking(enabled=True)"
      ]
    },
    {
      "cell_type": "markdown",
      "metadata": {},
      "source": [
        "## Volume trackers\n",
        "\n",
        "The volume tracker is a simple class that keeps track of the current volume, and the previous operations that have been performed on an object. This enables features like automated liquid class selection in STAR, and raises errors before they happen on the robot."
      ]
    },
    {
      "cell_type": "markdown",
      "metadata": {},
      "source": [
        "### Initializing wells\n",
        "\n",
        "Wells automatically initialize with a volume tracker that defaults to having no volume."
      ]
    },
    {
      "cell_type": "code",
      "execution_count": 25,
      "metadata": {},
      "outputs": [],
      "source": [
        "plt_carrier[0] = plate = Cos_96_EZWash(name=\"plate\")"
      ]
    },
    {
      "cell_type": "code",
      "execution_count": 26,
      "metadata": {},
      "outputs": [
        {
          "data": {
            "text/plain": [
              "0"
            ]
          },
          "execution_count": 26,
          "metadata": {},
          "output_type": "execute_result"
        }
      ],
      "source": [
        "plate.get_item(\"A1\").tracker.get_used_volume()"
      ]
    },
    {
      "cell_type": "code",
      "execution_count": 27,
      "metadata": {},
      "outputs": [
        {
          "data": {
            "text/plain": [
              "572.5552611167398"
            ]
          },
          "execution_count": 27,
          "metadata": {},
          "output_type": "execute_result"
        }
      ],
      "source": [
        "plate.get_item(\"A1\").tracker.get_free_volume()"
      ]
    },
    {
      "cell_type": "code",
      "execution_count": 28,
      "metadata": {},
      "outputs": [
        {
          "data": {
            "text/plain": [
              "(10, 562.5552611167398)"
            ]
          },
          "execution_count": 28,
          "metadata": {},
          "output_type": "execute_result"
        }
      ],
      "source": [
        "plate.get_item(\"A1\").tracker.set_used_volume(10)\n",
        "plate.get_item(\"A1\").tracker.get_used_volume(), plate.get_item(\"A1\").tracker.get_free_volume()"
      ]
    },
    {
      "cell_type": "code",
      "execution_count": 29,
      "metadata": {},
      "outputs": [],
      "source": [
        "lh.deck.assign_child_resource(plt_carrier, rails=9)"
      ]
    },
    {
      "attachments": {},
      "cell_type": "markdown",
      "metadata": {},
      "source": [
        "### Inspecting volume tracker operation history"
      ]
    },
    {
      "cell_type": "code",
      "execution_count": 30,
      "metadata": {},
      "outputs": [
        {
          "data": {
            "text/plain": [
              "(0, 572.5552611167398)"
            ]
          },
          "execution_count": 30,
          "metadata": {},
          "output_type": "execute_result"
        }
      ],
      "source": [
        "lh.aspirate(plate[\"A1\"], vols=10)\n",
        "plate.get_item(\"A1\").tracker.get_used_volume(), plate.get_item(\"A1\").tracker.get_free_volume()"
      ]
    },
    {
      "cell_type": "code",
      "execution_count": 31,
      "metadata": {},
      "outputs": [
        {
          "data": {
            "text/plain": [
              "(10, 562.5552611167398)"
            ]
          },
          "execution_count": 31,
          "metadata": {},
          "output_type": "execute_result"
        }
      ],
      "source": [
        "lh.dispense(plate[\"A1\"], vols=10)\n",
        "plate.get_item(\"A1\").tracker.get_used_volume(), plate.get_item(\"A1\").tracker.get_free_volume()"
      ]
    },
    {
      "attachments": {},
      "cell_type": "markdown",
      "metadata": {},
      "source": [
        "### Volume tracker errors"
      ]
    },
    {
      "cell_type": "code",
      "execution_count": 32,
      "metadata": {},
      "outputs": [],
      "source": [
        "from pylabrobot.resources.abstract.volume_tracker import (\n",
        "  TipTooLittleLiquidError,\n",
        "  TipTooLittleVolumeError,\n",
        "  WellTooLittleLiquidError,\n",
        "  WellTooLittleVolumeError,\n",
        ")"
      ]
    },
    {
      "cell_type": "markdown",
      "metadata": {},
      "source": [
        "#### `TipTooLittleLiquidError`\n",
        "\n",
        "This error is raised when the volume tracker is trying to dispense from a tip that has less liquid than the requested volume."
      ]
    },
    {
      "cell_type": "code",
      "execution_count": 33,
      "metadata": {},
      "outputs": [
        {
          "name": "stdout",
          "output_type": "stream",
          "text": [
            "As expected: Tip has too little liquid to dispense 100 uL (0.0 uL out of 1065 uL used).\n"
          ]
        }
      ],
      "source": [
        "try:\n",
        "  lh.dispense(plate[\"A1\"], vols=100) # this is less liquid than is currently in the tip\n",
        "except TipTooLittleLiquidError as e:\n",
        "  print(\"As expected:\", e)"
      ]
    },
    {
      "attachments": {},
      "cell_type": "markdown",
      "metadata": {},
      "source": [
        "#### `TipTooLittleVolumeError`\n",
        "\n",
        "This error is raised when the volume tracker is trying to aspirate from a tip that has less free volume than the requested volume."
      ]
    },
    {
      "cell_type": "code",
      "execution_count": 34,
      "metadata": {},
      "outputs": [],
      "source": [
        "lh.clear_head_state()\n",
        "lh.pick_up_tips(tip_rack[8])"
      ]
    },
    {
      "cell_type": "code",
      "execution_count": 35,
      "metadata": {},
      "outputs": [
        {
          "name": "stdout",
          "output_type": "stream",
          "text": [
            "As expected: Tip has too little volume to aspirate 100 uL (1000.0 uL out of 1065 uL used).\n"
          ]
        }
      ],
      "source": [
        "# fill the first two columns\n",
        "for i in range(16):\n",
        "  plate.get_item(i).tracker.set_used_volume(100)\n",
        "\n",
        "try:\n",
        "  # aspirate from the first two columns - this is more liquid than the tip can hold\n",
        "  for i in range(16):\n",
        "    lh.aspirate(plate[i], vols=100)\n",
        "except TipTooLittleVolumeError as e:\n",
        "  print(\"As expected:\", e)"
      ]
    },
    {
      "cell_type": "markdown",
      "metadata": {},
      "source": [
        "#### `WellTooLittleLiquidError`\n",
        "\n",
        "This error is raised when trying to dispense into a well that has less free volume than the requested volume."
      ]
    },
    {
      "cell_type": "code",
      "execution_count": 36,
      "metadata": {},
      "outputs": [
        {
          "name": "stdout",
          "output_type": "stream",
          "text": [
            "As expected: Well plate_well_0_0 has too little liquid to aspirate 100 uL (0 uL out of 572.5552611167398 uL used).\n"
          ]
        }
      ],
      "source": [
        "try:\n",
        "  lh.aspirate(plate[\"A1\"], vols=100) # this is less liquid than is currently in the well\n",
        "except WellTooLittleLiquidError as e:\n",
        "  print(\"As expected:\", e)"
      ]
    },
    {
      "cell_type": "markdown",
      "metadata": {},
      "source": [
        "#### `WellTooLittleVolumeError`\n",
        "\n",
        "This error is raised when trying to aspirate from a well that has less liquid than the requested volume."
      ]
    },
    {
      "cell_type": "code",
      "execution_count": 37,
      "metadata": {},
      "outputs": [],
      "source": [
        "lh.clear_head_state()\n",
        "lh.pick_up_tips(tip_rack[9])"
      ]
    },
    {
      "cell_type": "code",
      "execution_count": 38,
      "metadata": {},
      "outputs": [
        {
          "name": "stdout",
          "output_type": "stream",
          "text": [
            "As expected: Well plate_well_0_0 has too little volume to dispense 100 uL (500 uL out of 572.5552611167398 uL used).\n"
          ]
        }
      ],
      "source": [
        "# fill the first column\n",
        "for i in range(8):\n",
        "  plate.get_item(i).tracker.set_used_volume(100)\n",
        "\n",
        "try:\n",
        "  # aspirate liquid from the first column into the first well\n",
        "  for i in range(1, 8):\n",
        "    lh.aspirate(plate[i], vols=100)\n",
        "    lh.dispense(plate[\"A1\"], vols=100)\n",
        "except WellTooLittleVolumeError as e:\n",
        "  print(\"As expected:\", e)"
      ]
    }
  ],
  "metadata": {
    "kernelspec": {
      "display_name": "Python 3.10.8 ('env': venv)",
      "language": "python",
      "name": "python3"
    },
    "language_info": {
      "codemirror_mode": {
        "name": "ipython",
        "version": 3
      },
      "file_extension": ".py",
      "mimetype": "text/x-python",
      "name": "python",
      "nbconvert_exporter": "python",
      "pygments_lexer": "ipython3",
      "version": "3.10.8"
    },
    "orig_nbformat": 4,
    "vscode": {
      "interpreter": {
        "hash": "bf274dfc1b974177267b6b8fba8543eeb0bb4c5d64c637dde420829b05625268"
      }
    }
  },
  "nbformat": 4,
  "nbformat_minor": 2
}
