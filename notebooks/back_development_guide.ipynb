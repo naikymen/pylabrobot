{
 "cells": [
  {
   "cell_type": "markdown",
   "metadata": {},
   "source": [
    "# Agnostic methods for liquid handling\n"
   ]
  },
  {
   "cell_type": "markdown",
   "metadata": {},
   "source": [
    "## Setting up "
   ]
  },
  {
   "cell_type": "markdown",
   "metadata": {},
   "source": [
    "### Development environment\n",
    "\n",
    "Check if the correct environment is in use:"
   ]
  },
  {
   "cell_type": "code",
   "execution_count": null,
   "metadata": {
    "tags": []
   },
   "outputs": [],
   "source": [
    "!echo $VIRTUAL_ENV\n",
    "\n",
    "import os, sys\n",
    "print(\"Current working directory: \" + os.getcwd())\n",
    "print(\"Using python: \" + sys.executable)"
   ]
  },
  {
   "cell_type": "markdown",
   "metadata": {},
   "source": [
    "?"
   ]
  },
  {
   "cell_type": "code",
   "execution_count": null,
   "metadata": {
    "tags": []
   },
   "outputs": [],
   "source": [
    "%load_ext autoreload\n",
    "%autoreload 2"
   ]
  },
  {
   "cell_type": "markdown",
   "metadata": {},
   "source": [
    "Load your virtual environment and update the modules:\n",
    "\n",
    "```bash\n",
    "source .venv/bin/activate\n",
    "pip install -U -e ~/Projects/GOSH/gosh-col-dev/pipettin-grbl/klipper/piper\n",
    "pip install -U -e ~/Projects/GOSH/gosh-col-dev/pylabrobot[dev]\n",
    "```\n",
    "\n",
    "Repeat each time you want to test out changes.\n"
   ]
  },
  {
   "cell_type": "markdown",
   "metadata": {},
   "source": [
    "## Basic imports"
   ]
  },
  {
   "cell_type": "code",
   "execution_count": null,
   "metadata": {
    "tags": []
   },
   "outputs": [],
   "source": [
    "# Basic imports:\n",
    "from pprint import pprint, pformat\n",
    "# - liquid handler\n",
    "from pylabrobot.liquid_handling import LiquidHandler\n",
    "# - backend\n",
    "from pylabrobot.liquid_handling.backends import STAR\n",
    "from pylabrobot.liquid_handling.backends.chatterbox_backend import ChatterBoxBackend\n",
    "# - deck\n",
    "from pylabrobot.resources.hamilton import STARLetDeck"
   ]
  },
  {
   "cell_type": "markdown",
   "metadata": {},
   "source": [
    "## Writing a custom Backend\n",
    "\n",
    "There are a bunch of useful imports that must come first, and then the definition of a Python class inheriting from \"LiquidHandlerBackend\".\n",
    "\n",
    "The new class, as shown below, has placeholders for each of the important methods that the backend must implement.\n",
    "\n",
    "This new \"EchoBackend\" mimics the ChatterBox backend already available in PLR. This one saves the objects it received for inspection."
   ]
  },
  {
   "cell_type": "code",
   "execution_count": null,
   "metadata": {
    "tags": []
   },
   "outputs": [],
   "source": [
    "from typing import List\n",
    "from pylabrobot.liquid_handling.backends import LiquidHandlerBackend\n",
    "from pylabrobot.resources import Resource\n",
    "from pylabrobot.liquid_handling.standard import (\n",
    "    Pickup,\n",
    "    PickupTipRack,\n",
    "    Drop,\n",
    "    DropTipRack,\n",
    "    Aspiration,\n",
    "    AspirationPlate,\n",
    "    Dispense,\n",
    "    DispensePlate,\n",
    "    Move\n",
    ")\n",
    "\n",
    "\n",
    "class EchoBackend(LiquidHandlerBackend):\n",
    "    \"\"\" Yet another Chatter box backend for 'How to Open Source' \"\"\"\n",
    "\n",
    "    def __init__(self, num_channels: int = 1):\n",
    "        \"\"\"Init method for the EchoBackend.\"\"\"\n",
    "        print(f\"Instantiating the EchoBackend with num_channels={num_channels}\")\n",
    "        super().__init__()\n",
    "        self._num_channels = num_channels\n",
    "        self.commands = []\n",
    "\n",
    "    async def setup(self):\n",
    "        await super().setup()\n",
    "        print(\"Setting up the robot.\")\n",
    "\n",
    "    async def stop(self):\n",
    "        await super().stop()\n",
    "        print(\"Stopping the robot.\")\n",
    "\n",
    "    @property\n",
    "    def num_channels(self) -> int:\n",
    "        return self._num_channels\n",
    "\n",
    "    async def assigned_resource_callback(self, resource: Resource):\n",
    "        print(f\"Resource {resource.name} was assigned to the robot.\")\n",
    "\n",
    "    async def unassigned_resource_callback(self, name: str):\n",
    "        print(f\"Resource {name} was unassigned from the robot.\")\n",
    "\n",
    "    # Atomic implemented in hardware.\n",
    "    async def pick_up_tips(self, ops: List[Pickup], use_channels: List[int], **backend_kwargs):\n",
    "        print(f\"Picking up tips {ops}.\")\n",
    "        self.commands.append({\"cmd\": \"pick_up_tips\", \"ops\": ops, \"use_channels\": use_channels, **backend_kwargs})\n",
    "\n",
    "    async def drop_tips(self, ops: List[Drop], use_channels: List[int], **backend_kwargs):\n",
    "        print(f\"Dropping tips {ops}.\")\n",
    "        self.commands.append({\"cmd\": \"drop_tips\", \"ops\": ops, \"use_channels\": use_channels, **backend_kwargs})\n",
    "\n",
    "    async def aspirate(self, ops: List[Aspiration], use_channels: List[int], **backend_kwargs):\n",
    "        print(f\"Aspirating {ops}.\")\n",
    "        self.commands.append({\"cmd\": \"aspirate\", \"ops\": ops, \"use_channels\": use_channels, **backend_kwargs})\n",
    "\n",
    "    async def dispense(self, ops: List[Dispense], use_channels: List[int], **backend_kwargs):\n",
    "        print(f\"Dispensing {ops}.\")\n",
    "        self.commands.append({\"cmd\": \"dispense\", \"ops\": ops, \"use_channels\": use_channels, **backend_kwargs})\n",
    "\n",
    "    # Atomic actions not implemented in hardware.\n",
    "    async def pick_up_tips96(self, pickup: PickupTipRack):\n",
    "        raise NotImplementedError(\"The backend does not support the CoRe 96.\")\n",
    "\n",
    "    async def drop_tips96(self, drop: DropTipRack):\n",
    "        raise NotImplementedError(\"The backend does not support the CoRe 96.\")\n",
    "\n",
    "    async def aspirate96(self, aspiration: AspirationPlate):\n",
    "        raise NotImplementedError(\"The backend does not support the CoRe 96.\")\n",
    "\n",
    "    async def dispense96(self, dispense: DispensePlate):\n",
    "        raise NotImplementedError(\"The backend does not support the CoRe 96.\")\n",
    "\n",
    "    async def move_resource(self, move: Move):\n",
    "        \"\"\" Move the specified lid within the robot. \"\"\"\n",
    "        raise NotImplementedError(\"Moving resources is not implemented yet.\")\n"
   ]
  },
  {
   "cell_type": "markdown",
   "metadata": {},
   "source": [
    "### Usage examples\n",
    "\n",
    "This new class can be used immediately, as is."
   ]
  },
  {
   "cell_type": "markdown",
   "metadata": {},
   "source": [
    "Instantiate the Echo backend, with one channel:"
   ]
  },
  {
   "cell_type": "code",
   "execution_count": null,
   "metadata": {
    "tags": []
   },
   "outputs": [],
   "source": [
    "backend = EchoBackend(num_channels=1)\n",
    "\n",
    "backend.num_channels"
   ]
  },
  {
   "cell_type": "markdown",
   "metadata": {},
   "source": [
    "Create an instance of a \"liquid handler\" with the Hamilton deck (for example):"
   ]
  },
  {
   "cell_type": "code",
   "execution_count": null,
   "metadata": {
    "tags": []
   },
   "outputs": [],
   "source": [
    "lh = LiquidHandler(backend=backend, deck=STARLetDeck())\n",
    "\n",
    "await lh.setup()"
   ]
  },
  {
   "cell_type": "markdown",
   "metadata": {},
   "source": [
    "Populate the deck with labware:"
   ]
  },
  {
   "cell_type": "code",
   "execution_count": null,
   "metadata": {
    "tags": []
   },
   "outputs": [],
   "source": [
    "from pylabrobot.resources import (\n",
    "    TIP_CAR_480_A00,\n",
    "    PLT_CAR_L5AC_A00,\n",
    "    Cos_96_DW_1mL,\n",
    "    HTF_L\n",
    ")\n",
    "\n",
    "tip_car = TIP_CAR_480_A00(name='tip carrier')\n",
    "tip_car[0] = HTF_L(name='tips_01')\n",
    "\n",
    "lh.deck.assign_child_resource(tip_car, rails=3)\n",
    "\n",
    "plt_car = PLT_CAR_L5AC_A00(name='plate carrier')\n",
    "plt_car[0] = Cos_96_DW_1mL(name='plate_01')\n",
    "\n",
    "lh.deck.assign_child_resource(plt_car, rails=15)\n",
    "\n",
    "lh.summary()"
   ]
  },
  {
   "cell_type": "markdown",
   "metadata": {},
   "source": [
    "Pick up a tip:"
   ]
  },
  {
   "cell_type": "code",
   "execution_count": null,
   "metadata": {
    "tags": []
   },
   "outputs": [],
   "source": [
    "tiprack = lh.get_resource(\"tips_01\")\n",
    "await lh.pick_up_tips(tiprack[\"A1\"])\n"
   ]
  },
  {
   "cell_type": "code",
   "execution_count": null,
   "metadata": {
    "tags": []
   },
   "outputs": [],
   "source": [
    "tiprack[\"A1\"]"
   ]
  },
  {
   "cell_type": "markdown",
   "metadata": {},
   "source": [
    "Inspect the objects passed to the backend:"
   ]
  },
  {
   "cell_type": "code",
   "execution_count": null,
   "metadata": {
    "tags": []
   },
   "outputs": [],
   "source": [
    "pprint(lh.backend.commands)"
   ]
  },
  {
   "cell_type": "markdown",
   "metadata": {
    "tags": []
   },
   "source": [
    "Inspect the tip pickup operation:"
   ]
  },
  {
   "cell_type": "code",
   "execution_count": null,
   "metadata": {
    "tags": []
   },
   "outputs": [],
   "source": [
    "pick_up_ops = lh.backend.commands[0][\"ops\"]\n",
    "pick_up_op = pick_up_ops[0]\n",
    "tip = pick_up_op.tip\n",
    "\n",
    "pprint(pick_up_op)\n",
    "pprint(pick_up_op.serialize())"
   ]
  },
  {
   "cell_type": "markdown",
   "metadata": {},
   "source": [
    "Get the absolute spatial coordinate of the tip's location:"
   ]
  },
  {
   "cell_type": "code",
   "execution_count": null,
   "metadata": {
    "tags": []
   },
   "outputs": [],
   "source": [
    "coordinate = pick_up_op.get_absolute_location()\n",
    "\n",
    "print(coordinate)\n",
    "\n",
    "coordinate.serialize()"
   ]
  },
  {
   "cell_type": "markdown",
   "metadata": {},
   "source": [
    "The offset attribute, unless altered by the lh or backend, is a \"Default\" object.\n",
    "\n",
    "It has no information whatsoever, other than hinting that it should be replaced by a default value."
   ]
  },
  {
   "cell_type": "code",
   "execution_count": null,
   "metadata": {
    "tags": []
   },
   "outputs": [],
   "source": [
    "from pylabrobot.default import get_value\n",
    "from pylabrobot.resources.coordinate import Coordinate\n",
    "\n",
    "origin = Coordinate(0,0,0)\n",
    "\n",
    "# Prints \"Default\" which only indicates that this should be replaced by a default value.\n",
    "print(pick_up_op.offset)\n",
    "\n",
    "# A default value can be set like this:\n",
    "default_offset = get_value(value=pick_up_op.offset, default=origin)\n",
    "print(default_offset)"
   ]
  },
  {
   "cell_type": "markdown",
   "metadata": {},
   "source": [
    "Aspirate from two wells:"
   ]
  },
  {
   "cell_type": "code",
   "execution_count": null,
   "metadata": {
    "tags": []
   },
   "outputs": [],
   "source": [
    "plate = lh.get_resource(\"plate_01\")\n",
    "await lh.aspirate(plate[\"A1\"], vols=[100.0])"
   ]
  },
  {
   "cell_type": "markdown",
   "metadata": {},
   "source": [
    "Inspect the \"Aspiration\" operation:"
   ]
  },
  {
   "cell_type": "code",
   "execution_count": null,
   "metadata": {
    "tags": []
   },
   "outputs": [],
   "source": [
    "# Get the operation\n",
    "ops = lh.backend.commands[1][\"ops\"]\n",
    "op = ops[0]\n",
    "\n",
    "# Some useful parameters\n",
    "op.volume\n",
    "op.get_absolute_location()\n",
    "op.blow_out_air_volume\n",
    "op.liquid_height\n",
    "op.flow_rate\n",
    "\n",
    "# The current volume is harder to access, this is defined in the \"Container\" class.\n",
    "op.resource.tracker.get_used_volume()\n",
    "\n",
    "# Print everything\n",
    "pprint(op)\n",
    "pprint(op.serialize())"
   ]
  },
  {
   "cell_type": "markdown",
   "metadata": {},
   "source": [
    "Dispense to another well, and drop the tips (back in the box):"
   ]
  },
  {
   "cell_type": "code",
   "execution_count": null,
   "metadata": {
    "tags": []
   },
   "outputs": [],
   "source": [
    "await lh.dispense(plate[\"D1\"], vols=[100.0])"
   ]
  },
  {
   "cell_type": "markdown",
   "metadata": {},
   "source": [
    "There are THREE ways to remove tips from the pipettes:\n",
    "\n",
    "- `return_tips`: \"_Return all tips that are currently picked up to their original place_\". Takes no arguments.\n",
    "  - Do not use this if your pipettes cannot eject tips by themselves (i.e. they must go to a certain spot to discard tips, and cannot return tips to their box).\n",
    "- `discard_tips`: \"_Permanently discard tips_\", from the specified channels. Uses the deck's \"trash area\".\n",
    "- `drop_tips`: \"_Drop tips to a resource_\". The lowest-level form of this action, used by `return_tips` and `discard_tips`. Requires a list of \"tip spots\" (undocumented parameter); probably a \"_List of tip spots to pick up tips from_\"."
   ]
  },
  {
   "cell_type": "code",
   "execution_count": null,
   "metadata": {},
   "outputs": [],
   "source": [
    "await lh.drop_tips(tip_spots=tiprack[\"A1\"])"
   ]
  },
  {
   "cell_type": "markdown",
   "metadata": {},
   "source": [
    "Inspect the \"Dispense\" operation:"
   ]
  },
  {
   "cell_type": "code",
   "execution_count": null,
   "metadata": {
    "tags": []
   },
   "outputs": [],
   "source": [
    "# Get the operation\n",
    "ops = lh.backend.commands[2][\"ops\"]\n",
    "op = ops[0]\n",
    "\n",
    "# Some useful parameters\n",
    "op.volume\n",
    "op.get_absolute_location()\n",
    "op.blow_out_air_volume\n",
    "op.liquid_height\n",
    "op.flow_rate\n",
    "\n",
    "# The current volume is harder to access, this is defined in the \"Container\" class.\n",
    "op.resource.tracker.get_used_volume()\n",
    "\n",
    "# Print everything\n",
    "pprint(op)\n",
    "pprint(op.serialize())"
   ]
  },
  {
   "cell_type": "markdown",
   "metadata": {},
   "source": [
    "Terminate the liquid handler:"
   ]
  },
  {
   "cell_type": "code",
   "execution_count": null,
   "metadata": {
    "tags": []
   },
   "outputs": [],
   "source": [
    "await lh.stop()"
   ]
  },
  {
   "cell_type": "markdown",
   "metadata": {},
   "source": [
    "#### Number of channels\n",
    "\n",
    "The number of \"pipetting channels\" represents how many tips a robot/backend/tool can operate simultaneously.\n",
    "\n",
    "This name is derived from the name of \"multichannel\" micropipettes, which can tipically fit 8 or 12 individual tips in a row, and load liquid into them simultaneously.\n",
    "\n",
    "Advanced robotic pipettes may support multi-channel with variable per-tip volume control (which is more alike a multi-pipette tool)."
   ]
  },
  {
   "cell_type": "code",
   "execution_count": null,
   "metadata": {},
   "outputs": [],
   "source": [
    "backend = EchoBackend(num_channels=2)"
   ]
  },
  {
   "cell_type": "markdown",
   "metadata": {},
   "source": [
    "Setup the backend and populate the deck:"
   ]
  },
  {
   "cell_type": "code",
   "execution_count": null,
   "metadata": {},
   "outputs": [],
   "source": [
    "lh = LiquidHandler(backend=backend, deck=STARLetDeck())\n",
    "await lh.setup()\n",
    "\n",
    "tip_car = TIP_CAR_480_A00(name='tip carrier')\n",
    "tip_car[0] = HTF_L(name='tips_01')\n",
    "\n",
    "lh.deck.assign_child_resource(tip_car, rails=3)\n",
    "\n",
    "plt_car = PLT_CAR_L5AC_A00(name='plate carrier 1')\n",
    "plt_car[0] = Cos_96_DW_1mL(name='plate_01')\n",
    "plt_car[1] = Cos_96_DW_1mL(name='plate_02')\n",
    "\n",
    "lh.deck.assign_child_resource(plt_car, rails=15)\n",
    "\n",
    "lh.summary()"
   ]
  },
  {
   "cell_type": "markdown",
   "metadata": {},
   "source": [
    "Inspect the tip rack:"
   ]
  },
  {
   "cell_type": "code",
   "execution_count": null,
   "metadata": {},
   "outputs": [],
   "source": [
    "# plate.children[0].serialize()\n",
    "tiprack.serialize()"
   ]
  },
  {
   "cell_type": "markdown",
   "metadata": {},
   "source": [
    "Pickup tips and aspirate some liquid:"
   ]
  },
  {
   "cell_type": "code",
   "execution_count": null,
   "metadata": {},
   "outputs": [],
   "source": [
    "tiprack = lh.get_resource(\"tips_01\")\n",
    "await lh.pick_up_tips(tiprack[\"A1:B1\"])\n",
    "\n",
    "plate1 = lh.get_resource(\"plate_01\")\n",
    "plate2 = lh.get_resource(\"plate_02\")\n",
    "await lh.aspirate(plate1[\"A1\"] + plate2[\"A2\"], vols=100.0, use_channels=[0, 1])"
   ]
  },
  {
   "cell_type": "markdown",
   "metadata": {},
   "source": [
    "#### Miss-use of channels in PLR\n",
    "\n",
    "Now lets try to break PLR by placing more tips than the backend supports:"
   ]
  },
  {
   "cell_type": "code",
   "execution_count": null,
   "metadata": {},
   "outputs": [],
   "source": [
    "import traceback\n",
    "\n",
    "try:\n",
    "  tiprack = lh.get_resource(\"tips_01\")\n",
    "  await lh.pick_up_tips(tiprack[\"A1:C1\"])\n",
    "except:\n",
    "  print(tracebcack.format_exc())\n"
   ]
  },
  {
   "cell_type": "markdown",
   "metadata": {},
   "source": [
    "It is sensible that it fails, see discussion at: https://github.com/PyLabRobot/pylabrobot/issues/26"
   ]
  },
  {
   "cell_type": "markdown",
   "metadata": {},
   "source": [
    "Bye!"
   ]
  },
  {
   "cell_type": "code",
   "execution_count": null,
   "metadata": {},
   "outputs": [],
   "source": [
    "await lh.stop()"
   ]
  },
  {
   "cell_type": "markdown",
   "metadata": {},
   "source": [
    "### Multiple tools\n",
    "\n",
    "Using PLR with multiple-tool machines."
   ]
  },
  {
   "cell_type": "code",
   "execution_count": null,
   "metadata": {},
   "outputs": [],
   "source": [
    "# ?"
   ]
  },
  {
   "cell_type": "markdown",
   "metadata": {},
   "source": [
    "It is probably best to leave this to the backend."
   ]
  },
  {
   "cell_type": "markdown",
   "metadata": {},
   "source": [
    "## Pipetting-bot backend\n",
    "\n",
    "Write a new backend that uses the \"piper\" GCODE-generating module from the pipetting-bot project.\n",
    "\n",
    "TODO:\n",
    "\n",
    "- [ ] Bug: commands can be sent to the backend before it is ready.\n",
    "- [ ] Implement waiting/checking of command responses, and proper blocking.\n",
    "- [ ] ¿Use queues?\n",
    "- [ ] Write adapter to use decks as piper workspaces.\n",
    "  - This may not be necessary if all the required info is passed to the PLR.\n",
    "  - ¿Do other backends need to access the \"deck\" object?\n",
    "- [ ] Write adapter to pass object coordinates from PLR to piper (not relying on workspaces).\n",
    "  - See pylabrobot/liquid_handling/standard.py\n",
    "- [ ] A lot more..."
   ]
  },
  {
   "cell_type": "code",
   "execution_count": null,
   "metadata": {
    "tags": []
   },
   "outputs": [],
   "source": [
    "# Install the \"piper\" module from the path to the module's directory (replace appropriately).\n",
    "# $ pip install -e ~/Projects/robot/pipettin-bot/klipper/piper/"
   ]
  },
  {
   "cell_type": "code",
   "execution_count": null,
   "metadata": {
    "tags": []
   },
   "outputs": [],
   "source": [
    "# Append custom module paths.\n",
    "# import os, sys\n",
    "# module_path = os.path.expanduser(\"~/Projects/GOSH/gosh-col-dev/pipettin-grbl/klipper/code/\")\n",
    "# sys.path.append(module_path)\n",
    "\n",
    "from pprint import pprint\n",
    "from pylabrobot.liquid_handling.backends.piper_backend import PiperBackend"
   ]
  },
  {
   "cell_type": "markdown",
   "metadata": {},
   "source": [
    "Check that mongo is accessible from outside (if running this remotely). Otherwise see: https://www.digitalocean.com/community/tutorials/how-to-configure-remote-access-for-mongodb-on-ubuntu-20-04"
   ]
  },
  {
   "cell_type": "code",
   "execution_count": null,
   "metadata": {
    "tags": []
   },
   "outputs": [],
   "source": [
    "!nc -zv 192.168.11.39 27017  # Should output \"192.168.11.39 27017 (mongodb) open\""
   ]
  },
  {
   "cell_type": "code",
   "execution_count": null,
   "metadata": {
    "tags": []
   },
   "outputs": [],
   "source": [
    "# Set \"mongo_url = None\" to skip the database connection.\n",
    "backend = PiperBackend(verbose=False,\n",
    "                       mongo_url=None, # \"mongodb://192.168.11.39:27017/\",\n",
    "                       sio_address = \"http://192.168.11.39:3333\", # Pipettin GUI node server.\n",
    "                       ws_address = \"ws://192.168.11.39:7125/websocket\", # Moonraker server.\n",
    ")\n",
    "\n",
    "# backend = PiperBackend(verbose=True,\n",
    "#                        mongo_url=None, # \"mongodb://192.168.11.39:27017/\",\n",
    "#                        sio_address = \"http://localhost:3333\", # Pipettin GUI node server.\n",
    "#                        ws_address = \"ws://localhost:7125/websocket\", # Moonraker server.\n",
    "# )"
   ]
  },
  {
   "cell_type": "code",
   "execution_count": null,
   "metadata": {
    "tags": []
   },
   "outputs": [],
   "source": [
    "await backend.setup()"
   ]
  },
  {
   "cell_type": "code",
   "execution_count": null,
   "metadata": {
    "tags": []
   },
   "outputs": [],
   "source": [
    "pprint(backend.moon.status())"
   ]
  },
  {
   "cell_type": "code",
   "execution_count": null,
   "metadata": {
    "tags": []
   },
   "outputs": [],
   "source": [
    "await backend.moon.wait_for_idle_printer(timeout = 20.0)"
   ]
  },
  {
   "cell_type": "code",
   "execution_count": null,
   "metadata": {
    "tags": []
   },
   "outputs": [],
   "source": [
    "cmd_id = await backend.moon.send_gcode_cmd(\"SET_KINEMATIC_POSITION X=0 Y=0 Z=0\", wait=True, check=True, timeout=1.0)\n",
    "pprint(backend.tracker[cmd_id])"
   ]
  },
  {
   "cell_type": "code",
   "execution_count": null,
   "metadata": {
    "tags": []
   },
   "outputs": [],
   "source": [
    "cmd_id = await backend.moon.send_gcode_cmd(\"FICTITIOUS COMMAND\", wait=True, check=True, timeout=10.0)\n",
    "# cmd_id = await backend.moon.send_gcode_cmd(\"M105\", wait=True, check=True, timeout=10.0)\n",
    "#cmd_id = await backend.moon.send_gcode_cmd(\"G0 X1\", wait=True, check=True, timeout=10.0)\n",
    "pprint(backend.tracker[cmd_id], width=120)"
   ]
  },
  {
   "cell_type": "code",
   "execution_count": null,
   "metadata": {
    "tags": []
   },
   "outputs": [],
   "source": [
    "# pprint(backend.tracker[cmd_id])\n",
    "# backend.tracker[cmd_id][\"response\"]\n",
    "# backend.tracker[cmd_id][\"response\"][\"error\"]\n",
    "# backend.tracker[cmd_id][\"response\"][\"error\"][\"message\"]\n",
    "# print(backend.tracker[cmd_id][\"response\"][\"error\"][\"message\"])"
   ]
  },
  {
   "cell_type": "markdown",
   "metadata": {},
   "source": [
    "Make GCODE for an action:"
   ]
  },
  {
   "cell_type": "code",
   "execution_count": null,
   "metadata": {
    "tags": []
   },
   "outputs": [],
   "source": [
    "# cmd_id = await backend.moon.send_gcode_cmd(\"G0 X100\", wait=True, check=True, timeout=1.0)\n",
    "# pprint(backend.tracker[cmd_id])\n",
    "\n",
    "\n",
    "# Hardcode the heigh clearance\n",
    "backend.builder.clearance = 100.0\n",
    "\n",
    "# TODO: customize parameters.\n",
    "home_action = {'cmd': 'HOME'}\n",
    "pick_up_tip_action = {\n",
    "    'args': {'item': '200ul_tip_rack_MULTITOOL 1', 'tool': 'P200'},\n",
    "    'cmd': 'PICK_TIP'}\n",
    "\n",
    "# Platformless tip pickup\n",
    "minimal_tip_data = {'maxVolume': 160, 'tipLength': 50.0, 'volume': 0}\n",
    "pick_up_tip_action_coords = {\n",
    "    'args': {'coords': {\"x\": 20, \"y\": 200, \"z\": 30}, \n",
    "             'tool': 'P200',\n",
    "             'tip': minimal_tip_data},\n",
    "    'cmd': 'PICK_TIP'}\n",
    "\n",
    "# Make GCODE\n",
    "action = home_action\n",
    "gcode = backend.builder.parseAction(action=action)\n",
    "pprint(gcode)"
   ]
  },
  {
   "cell_type": "code",
   "execution_count": null,
   "metadata": {
    "tags": []
   },
   "outputs": [],
   "source": [
    "# Send commands.\n",
    "cmd_id = await backend.moon.send_gcode_script(gcode, wait=True, check=True, timeout=2.0)"
   ]
  },
  {
   "cell_type": "code",
   "execution_count": null,
   "metadata": {
    "tags": []
   },
   "outputs": [],
   "source": [
    "# pprint(backend.tracker[cmd_id])\n",
    "# backend.tracker[cmd_id][\"response\"]\n",
    "# backend.tracker[cmd_id][\"response\"][\"error\"]\n",
    "# print(backend.tracker[cmd_id][\"response\"][\"error\"][\"message\"])"
   ]
  },
  {
   "cell_type": "code",
   "execution_count": null,
   "metadata": {
    "tags": []
   },
   "outputs": [],
   "source": [
    "# Turn steppers off\n",
    "# cmd_id = await backend.moon.send_gcode_cmd(\"M84\", wait=True, check=True, timeout=2.0)\n",
    "# pprint(backend.tracker[cmd_id], width=120)"
   ]
  },
  {
   "cell_type": "code",
   "execution_count": null,
   "metadata": {
    "tags": []
   },
   "outputs": [],
   "source": [
    "# Wait for idle printer.\n",
    "result = await backend.moon.wait_for_idle_printer(timeout = 20.0)\n",
    "\n",
    "print(result)"
   ]
  },
  {
   "cell_type": "code",
   "execution_count": null,
   "metadata": {
    "tags": []
   },
   "outputs": [],
   "source": [
    "await backend.stop()"
   ]
  },
  {
   "cell_type": "markdown",
   "metadata": {},
   "source": [
    "## STAR deck examples\n"
   ]
  },
  {
   "cell_type": "markdown",
   "metadata": {},
   "source": [
    "Create a new liquid handler using `STAR` as its backend, and the hamilton \"deck\"."
   ]
  },
  {
   "cell_type": "code",
   "execution_count": null,
   "metadata": {},
   "outputs": [],
   "source": [
    "# backend = STAR()\n",
    "backend = ChatterBoxBackend()\n",
    "# backend = PiperBackend()\n",
    "\n",
    "lh = LiquidHandler(backend=backend, deck=STARLetDeck())"
   ]
  },
  {
   "cell_type": "markdown",
   "metadata": {},
   "source": [
    "The final step is to open communication with the robot. This is done using the {func}`~pylabrobot.liquid_handling.LiquidHandler.setup` method."
   ]
  },
  {
   "cell_type": "code",
   "execution_count": null,
   "metadata": {},
   "outputs": [],
   "source": [
    "await lh.setup()"
   ]
  },
  {
   "cell_type": "markdown",
   "metadata": {},
   "source": [
    "\n",
    "Now that we have a `LiquidHandler` instance, we can define the deck layout.\n",
    "\n",
    "The layout in this tutorial will contain five sets of standard volume tips with filter, 1 set of 96 1mL wells, and tip and plate carriers on which these resources are positioned.\n",
    "\n",
    "Start by importing the relevant objects and variables from the PyHamilton package. This notebook uses the following resources:\n",
    "\n",
    "- {class}`~pylabrobot.resources.ml_star.tip_carriers.TIP_CAR_480_A00` tip carrier\n",
    "- {class}`~pylabrobot.resources.ml_star.plate_carriers.PLT_CAR_L5AC_A00` plate carrier\n",
    "- {class}`~pylabrobot.resources.corning_costar.plates.Cos_96_DW_1mL` wells\n",
    "- {class}`~pylabrobot.resources.ml_star.tip_racks.HTF_L` tips"
   ]
  },
  {
   "cell_type": "code",
   "execution_count": null,
   "metadata": {},
   "outputs": [],
   "source": [
    "from pylabrobot.resources import (\n",
    "    TIP_CAR_480_A00,\n",
    "    PLT_CAR_L5AC_A00,\n",
    "    Cos_96_DW_1mL,\n",
    "    HTF_L\n",
    ")"
   ]
  },
  {
   "cell_type": "markdown",
   "metadata": {},
   "source": [
    "Then create a tip carrier named `tip carrier`, which will contain tip rack at all 5 positions. These positions can be accessed using `tip_car[x]`, and are 0 indexed."
   ]
  },
  {
   "cell_type": "code",
   "execution_count": null,
   "metadata": {},
   "outputs": [],
   "source": [
    "tip_car = TIP_CAR_480_A00(name='tip carrier')\n",
    "tip_car[0] = HTF_L(name='tips_01')"
   ]
  },
  {
   "cell_type": "markdown",
   "metadata": {},
   "source": [
    "Use {func}`~pylabrobot.resources.abstract.assign_child_resources` to assign the tip carrier to the deck of the liquid handler. All resources contained by this carrier will be assigned automatically.\n",
    "\n",
    "In the `rails` parameter, we can pass the location of the tip carrier. The locations of the tips will automatically be calculated."
   ]
  },
  {
   "cell_type": "code",
   "execution_count": null,
   "metadata": {},
   "outputs": [],
   "source": [
    "lh.deck.assign_child_resource(tip_car, rails=3)"
   ]
  },
  {
   "cell_type": "markdown",
   "metadata": {},
   "source": [
    "Repeat this for the plates."
   ]
  },
  {
   "cell_type": "code",
   "execution_count": null,
   "metadata": {},
   "outputs": [],
   "source": [
    "plt_car = PLT_CAR_L5AC_A00(name='plate carrier')\n",
    "plt_car[0] = Cos_96_DW_1mL(name='plate_01')"
   ]
  },
  {
   "cell_type": "code",
   "execution_count": null,
   "metadata": {},
   "outputs": [],
   "source": [
    "lh.deck.assign_child_resource(plt_car, rails=15)"
   ]
  },
  {
   "cell_type": "markdown",
   "metadata": {},
   "source": [
    "Let's look at a summary of the deck layout using {func}`~pylabrobot.liquid_handling.LiquidHandler.summary`."
   ]
  },
  {
   "cell_type": "code",
   "execution_count": null,
   "metadata": {},
   "outputs": [],
   "source": [
    "lh.summary()"
   ]
  },
  {
   "cell_type": "markdown",
   "metadata": {},
   "source": [
    "## Picking up tips\n",
    "\n",
    "Picking up tips is as easy as querying the tips from the tiprack."
   ]
  },
  {
   "cell_type": "code",
   "execution_count": null,
   "metadata": {},
   "outputs": [],
   "source": [
    "tiprack = lh.get_resource(\"tips_01\")\n",
    "await lh.pick_up_tips(tiprack[\"A1:C1\"])"
   ]
  },
  {
   "cell_type": "markdown",
   "metadata": {},
   "source": [
    "## Aspirating and dispensing"
   ]
  },
  {
   "cell_type": "markdown",
   "metadata": {},
   "source": [
    "Aspirating and dispensing work similarly to picking up tips: where you use booleans to specify which tips to pick up, with aspiration and dispensing you use floats to specify the volume to aspirate or dispense in $\\mu L$.\n",
    "\n",
    "The cells below move liquid from wells `'A1:C1'` to `'D1:F1'` using channels 1, 2, and 3 using the {func}`~pylabrobot.liquid_handling.LiquidHandler.aspirate` and {func}`~pylabrobot.liquid_handling.LiquidHandler.dispense` methods."
   ]
  },
  {
   "cell_type": "code",
   "execution_count": null,
   "metadata": {},
   "outputs": [],
   "source": [
    "plate = lh.get_resource(\"plate_01\")\n",
    "await lh.aspirate(plate[\"A1:C1\"], vols=[100.0, 50.0, 200.0])"
   ]
  },
  {
   "cell_type": "markdown",
   "metadata": {},
   "source": [
    "After the liquid has been aspirated, dispense it in the wells below. Note that while we specify different wells, we are still using the same channels. This is needed because only these channels contain liquid, of course."
   ]
  },
  {
   "cell_type": "code",
   "execution_count": null,
   "metadata": {},
   "outputs": [],
   "source": [
    "await lh.dispense(plate[\"D1:F1\"], vols=[100.0, 50.0, 200.0])"
   ]
  },
  {
   "cell_type": "markdown",
   "metadata": {},
   "source": [
    "Let's move the liquid back to the original wells."
   ]
  },
  {
   "cell_type": "code",
   "execution_count": null,
   "metadata": {},
   "outputs": [],
   "source": [
    "await lh.aspirate(plate[\"D1:F1\"], vols=[100.0, 50.0, 200.0])\n",
    "await lh.dispense(plate[\"A1:C1\"], vols=[100.0, 50.0, 200.0])"
   ]
  },
  {
   "cell_type": "markdown",
   "metadata": {},
   "source": [
    "## Discarding tips\n",
    "\n",
    "Finally, you can discard tips by using the {func}`~pylabrobot.liquid_handling.LiquidHandler.discard_tips` method."
   ]
  },
  {
   "cell_type": "code",
   "execution_count": null,
   "metadata": {},
   "outputs": [],
   "source": [
    "await lh.drop_tips(tiprack[\"A1:C1\"])"
   ]
  },
  {
   "cell_type": "code",
   "execution_count": null,
   "metadata": {},
   "outputs": [],
   "source": [
    "await lh.stop()"
   ]
  },
  {
   "cell_type": "code",
   "execution_count": null,
   "metadata": {},
   "outputs": [],
   "source": []
  }
 ],
 "metadata": {
  "kernelspec": {
   "display_name": "plr_venv",
   "language": "python",
   "name": "plr_venv"
  },
  "language_info": {
   "codemirror_mode": {
    "name": "ipython",
    "version": 3
   },
   "file_extension": ".py",
   "mimetype": "text/x-python",
   "name": "python",
   "nbconvert_exporter": "python",
   "pygments_lexer": "ipython3",
   "version": "3.10.10"
  },
  "vscode": {
   "interpreter": {
    "hash": "90d438140fb5b229a657b1d63754e0e9b5e5b84ccbcec444eeb29ea036eac1ef"
   }
  }
 },
 "nbformat": 4,
 "nbformat_minor": 4
}
