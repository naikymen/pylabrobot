{
  "cells": [
    {
      "attachments": {},
      "cell_type": "markdown",
      "metadata": {},
      "source": [
        "# Agnostic methods for liquid handling\n"
      ]
    },
    {
      "attachments": {},
      "cell_type": "markdown",
      "metadata": {},
      "source": [
        "## Setting up "
      ]
    },
    {
      "attachments": {},
      "cell_type": "markdown",
      "metadata": {},
      "source": [
        "Check if the correct environment is in use:"
      ]
    },
    {
      "cell_type": "code",
      "execution_count": null,
      "metadata": {},
      "outputs": [],
      "source": [
        "!echo $VIRTUAL_ENV\n",
        "\n",
        "import os, sys\n",
        "print(\"Current working directory: \" + os.getcwd())\n",
        "print(\"Using python: \" + sys.executable)"
      ]
    },
    {
      "attachments": {},
      "cell_type": "markdown",
      "metadata": {},
      "source": [
        "?"
      ]
    },
    {
      "cell_type": "code",
      "execution_count": null,
      "metadata": {},
      "outputs": [],
      "source": [
        "%load_ext autoreload\n",
        "%autoreload 2"
      ]
    },
    {
      "attachments": {},
      "cell_type": "markdown",
      "metadata": {},
      "source": [
        "Basic imports:"
      ]
    },
    {
      "cell_type": "code",
      "execution_count": null,
      "metadata": {},
      "outputs": [],
      "source": [
        "# Basic imports:\n",
        "from pprint import pprint, pformat\n",
        "# - liquid handler\n",
        "from pylabrobot.liquid_handling import LiquidHandler\n",
        "# - backend\n",
        "from pylabrobot.liquid_handling.backends import STAR\n",
        "from pylabrobot.liquid_handling.backends.chatterbox_backend import ChatterBoxBackend\n",
        "# - deck\n",
        "from pylabrobot.resources.hamilton import STARLetDeck"
      ]
    },
    {
      "attachments": {},
      "cell_type": "markdown",
      "metadata": {},
      "source": [
        "## Writing a custom Backend\n"
      ]
    },
    {
      "cell_type": "code",
      "execution_count": null,
      "metadata": {},
      "outputs": [],
      "source": [
        "from typing import List\n",
        "from pylabrobot.liquid_handling.backends import LiquidHandlerBackend\n",
        "from pylabrobot.resources import Resource\n",
        "from pylabrobot.liquid_handling.standard import (\n",
        "    Pickup,\n",
        "    PickupTipRack,\n",
        "    Drop,\n",
        "    DropTipRack,\n",
        "    Aspiration,\n",
        "    AspirationPlate,\n",
        "    Dispense,\n",
        "    DispensePlate,\n",
        "    Move\n",
        ")\n",
        "\n",
        "\n",
        "class EchoBackend(LiquidHandlerBackend):\n",
        "    \"\"\" Yet another Chatter box backend for 'How to Open Source' \"\"\"\n",
        "\n",
        "    def __init__(self, num_channels: int = 1):\n",
        "        \"\"\"Init method for the PiperBackend.\"\"\"\n",
        "        print(f\"Instantiating the PiperBackend with num_channels={num_channels}\")\n",
        "        super().__init__()\n",
        "        self._num_channels = num_channels\n",
        "        self.commands = []\n",
        "\n",
        "    async def setup(self):\n",
        "        await super().setup()\n",
        "        print(\"Setting up the robot.\")\n",
        "\n",
        "    async def stop(self):\n",
        "        await super().stop()\n",
        "        print(\"Stopping the robot.\")\n",
        "\n",
        "    @property\n",
        "    def num_channels(self) -> int:\n",
        "        return self._num_channels\n",
        "\n",
        "    async def assigned_resource_callback(self, resource: Resource):\n",
        "        print(f\"Resource {resource.name} was assigned to the robot.\")\n",
        "\n",
        "    async def unassigned_resource_callback(self, name: str):\n",
        "        print(f\"Resource {name} was unassigned from the robot.\")\n",
        "\n",
        "    # Atomic implemented in hardware.\n",
        "    async def pick_up_tips(self, ops: List[Pickup], use_channels: List[int], **backend_kwargs):\n",
        "        print(f\"Picking up tips {ops}.\")\n",
        "        self.commands.append({\"cmd\": \"pick_up_tips\", \"ops\": ops, \"use_channels\": use_channels, **backend_kwargs})\n",
        "\n",
        "    async def drop_tips(self, ops: List[Drop], use_channels: List[int], **backend_kwargs):\n",
        "        print(f\"Dropping tips {ops}.\")\n",
        "        self.commands.append({\"cmd\": \"drop_tips\", \"ops\": ops, \"use_channels\": use_channels, **backend_kwargs})\n",
        "\n",
        "    async def aspirate(self, ops: List[Aspiration], use_channels: List[int], **backend_kwargs):\n",
        "        print(f\"Aspirating {ops}.\")\n",
        "        self.commands.append({\"cmd\": \"aspirate\", \"ops\": ops, \"use_channels\": use_channels, **backend_kwargs})\n",
        "\n",
        "    async def dispense(self, ops: List[Dispense], use_channels: List[int], **backend_kwargs):\n",
        "        print(f\"Dispensing {ops}.\")\n",
        "        self.commands.append({\"cmd\": \"dispense\", \"ops\": ops, \"use_channels\": use_channels, **backend_kwargs})\n",
        "\n",
        "    # Atomic actions not implemented in hardware.\n",
        "    async def pick_up_tips96(self, pickup: PickupTipRack):\n",
        "        raise NotImplementedError(\"The backend does not support the CoRe 96.\")\n",
        "\n",
        "    async def drop_tips96(self, drop: DropTipRack):\n",
        "        raise NotImplementedError(\"The backend does not support the CoRe 96.\")\n",
        "\n",
        "    async def aspirate96(self, aspiration: AspirationPlate):\n",
        "        raise NotImplementedError(\"The backend does not support the CoRe 96.\")\n",
        "\n",
        "    async def dispense96(self, dispense: DispensePlate):\n",
        "        raise NotImplementedError(\"The backend does not support the CoRe 96.\")\n",
        "\n",
        "    async def move_resource(self, move: Move):\n",
        "        \"\"\" Move the specified lid within the robot. \"\"\"\n",
        "        raise NotImplementedError(\"Moving resources is not implemented yet.\")\n"
      ]
    },
    {
      "attachments": {},
      "cell_type": "markdown",
      "metadata": {},
      "source": [
        "Instantiate the Piper backend, with one channel:"
      ]
    },
    {
      "cell_type": "code",
      "execution_count": null,
      "metadata": {},
      "outputs": [],
      "source": [
        "backend = EchoBackend(num_channels=1)\n",
        "\n",
        "backend.num_channels"
      ]
    },
    {
      "attachments": {},
      "cell_type": "markdown",
      "metadata": {},
      "source": [
        "Create an instance of a \"liquid handler\" with the Hamilton deck (for example):"
      ]
    },
    {
      "cell_type": "code",
      "execution_count": null,
      "metadata": {},
      "outputs": [],
      "source": [
        "lh = LiquidHandler(backend=backend, deck=STARLetDeck())\n",
        "\n",
        "await lh.setup()"
      ]
    },
    {
      "attachments": {},
      "cell_type": "markdown",
      "metadata": {},
      "source": [
        "Populate the deck with labware:"
      ]
    },
    {
      "cell_type": "code",
      "execution_count": null,
      "metadata": {},
      "outputs": [],
      "source": [
        "from pylabrobot.resources import (\n",
        "    TIP_CAR_480_A00,\n",
        "    PLT_CAR_L5AC_A00,\n",
        "    Cos_96_DW_1mL,\n",
        "    HTF_L\n",
        ")\n",
        "\n",
        "tip_car = TIP_CAR_480_A00(name='tip carrier')\n",
        "tip_car[0] = HTF_L(name='tips_01')\n",
        "\n",
        "lh.deck.assign_child_resource(tip_car, rails=3)\n",
        "\n",
        "plt_car = PLT_CAR_L5AC_A00(name='plate carrier')\n",
        "plt_car[0] = Cos_96_DW_1mL(name='plate_01')\n",
        "\n",
        "lh.deck.assign_child_resource(plt_car, rails=15)\n",
        "\n",
        "lh.summary()"
      ]
    },
    {
      "attachments": {},
      "cell_type": "markdown",
      "metadata": {},
      "source": [
        "Pick up a tip, and aspirate from two wells:"
      ]
    },
    {
      "cell_type": "code",
      "execution_count": null,
      "metadata": {},
      "outputs": [],
      "source": [
        "tiprack = lh.get_resource(\"tips_01\")\n",
        "await lh.pick_up_tips(tiprack[\"A1\"])\n"
      ]
    },
    {
      "cell_type": "code",
      "execution_count": null,
      "metadata": {},
      "outputs": [],
      "source": [
        "tiprack[\"A1\"]"
      ]
    },
    {
      "cell_type": "code",
      "execution_count": null,
      "metadata": {},
      "outputs": [],
      "source": [
        "plate = lh.get_resource(\"plate_01\")\n",
        "await lh.aspirate(plate[\"A1\"], vols=[100.0])"
      ]
    },
    {
      "attachments": {},
      "cell_type": "markdown",
      "metadata": {},
      "source": [
        "Inspect the objects passed to aspirate:"
      ]
    },
    {
      "cell_type": "code",
      "execution_count": null,
      "metadata": {},
      "outputs": [],
      "source": [
        "pprint(lh.backend.commands)"
      ]
    },
    {
      "cell_type": "code",
      "execution_count": null,
      "metadata": {},
      "outputs": [],
      "source": [
        "pick_up_ops = lh.backend.commands[0][\"ops\"]\n",
        "pick_up_op = pick_up_ops[0]\n",
        "tip = pick_up_op.tip\n",
        "\n",
        "pprint(pick_up_op)\n",
        "pprint(pick_up_op.serialize())"
      ]
    },
    {
      "attachments": {},
      "cell_type": "markdown",
      "metadata": {},
      "source": [
        "Get the absolute spatial coordinate of the tip's location:"
      ]
    },
    {
      "cell_type": "code",
      "execution_count": null,
      "metadata": {},
      "outputs": [],
      "source": [
        "pick_up_op.get_absolute_location()"
      ]
    },
    {
      "attachments": {},
      "cell_type": "markdown",
      "metadata": {},
      "source": [
        "The offset attribute, unless altered by the lh or backend, is a \"Default\" object.\n",
        "\n",
        "It has no information whatsoever, other than it hints that it should be replaced by a default value."
      ]
    },
    {
      "cell_type": "code",
      "execution_count": null,
      "metadata": {},
      "outputs": [],
      "source": [
        "print(pick_up_op.offset)\n",
        "\n",
        "from pylabrobot.default import get_value\n",
        "\n",
        "get_value(value=pick_up_op.offset, default=\"hola\")"
      ]
    },
    {
      "attachments": {},
      "cell_type": "markdown",
      "metadata": {},
      "source": [
        "Dispense in another well, and drop the tips (back in the box):"
      ]
    },
    {
      "cell_type": "code",
      "execution_count": null,
      "metadata": {},
      "outputs": [],
      "source": [
        "await lh.dispense(plate[\"D1\"], vols=[100.0])\n",
        "\n",
        "await lh.drop_tips(tiprack[\"A1\"])"
      ]
    },
    {
      "attachments": {},
      "cell_type": "markdown",
      "metadata": {},
      "source": [
        "Terminate the liquid handler:"
      ]
    },
    {
      "cell_type": "code",
      "execution_count": null,
      "metadata": {},
      "outputs": [],
      "source": [
        "await lh.stop()"
      ]
    },
    {
      "attachments": {},
      "cell_type": "markdown",
      "metadata": {},
      "source": [
        "### Number of channels\n",
        "\n",
        "The number of \"pipetting channels\" represents how many tips a robot/backend/tool can operate simultaneously.\n",
        "\n",
        "This name is derived from the name of \"multichannel\" micropipettes, which can tipically fit 8 or 12 individual tips in a row, and load liquid into them simultaneously.\n",
        "\n",
        "Advanced robotic pipettes may support multi-channel with variable per-tip volume control (which is more alike a multi-pipette tool)."
      ]
    },
    {
      "cell_type": "code",
      "execution_count": null,
      "metadata": {},
      "outputs": [],
      "source": [
        "backend = EchoBackend(num_channels=2)"
      ]
    },
    {
      "attachments": {},
      "cell_type": "markdown",
      "metadata": {},
      "source": [
        "Setup the backend and populate the deck:"
      ]
    },
    {
      "cell_type": "code",
      "execution_count": null,
      "metadata": {},
      "outputs": [],
      "source": [
        "lh = LiquidHandler(backend=backend, deck=STARLetDeck())\n",
        "await lh.setup()\n",
        "\n",
        "tip_car = TIP_CAR_480_A00(name='tip carrier')\n",
        "tip_car[0] = HTF_L(name='tips_01')\n",
        "\n",
        "lh.deck.assign_child_resource(tip_car, rails=3)\n",
        "\n",
        "plt_car = PLT_CAR_L5AC_A00(name='plate carrier 1')\n",
        "plt_car[0] = Cos_96_DW_1mL(name='plate_01')\n",
        "plt_car[1] = Cos_96_DW_1mL(name='plate_02')\n",
        "\n",
        "lh.deck.assign_child_resource(plt_car, rails=15)\n",
        "\n",
        "lh.summary()"
      ]
    },
    {
      "attachments": {},
      "cell_type": "markdown",
      "metadata": {},
      "source": [
        "Inspect the tip rack:"
      ]
    },
    {
      "cell_type": "code",
      "execution_count": null,
      "metadata": {},
      "outputs": [],
      "source": [
        "# plate.children[0].serialize()\n",
        "tiprack.serialize()"
      ]
    },
    {
      "attachments": {},
      "cell_type": "markdown",
      "metadata": {},
      "source": [
        "Pickup tips and aspirate some liquid:"
      ]
    },
    {
      "cell_type": "code",
      "execution_count": null,
      "metadata": {},
      "outputs": [],
      "source": [
        "tiprack = lh.get_resource(\"tips_01\")\n",
        "await lh.pick_up_tips(tiprack[\"A1:B1\"])\n",
        "\n",
        "plate1 = lh.get_resource(\"plate_01\")\n",
        "plate2 = lh.get_resource(\"plate_02\")\n",
        "await lh.aspirate(plate1[\"A1\"] + plate2[\"A2\"], vols=100.0, use_channels=[0, 1])"
      ]
    },
    {
      "attachments": {},
      "cell_type": "markdown",
      "metadata": {},
      "source": [
        "#### Miss-use of channels in PLR\n",
        "\n",
        "Now lets try to break PLR by placing more tips than the backend supports:"
      ]
    },
    {
      "cell_type": "code",
      "execution_count": null,
      "metadata": {},
      "outputs": [],
      "source": [
        "import traceback\n",
        "\n",
        "try:\n",
        "  tiprack = lh.get_resource(\"tips_01\")\n",
        "  await lh.pick_up_tips(tiprack[\"A1:C1\"])\n",
        "except:\n",
        "  print(traceback.format_exc())\n"
      ]
    },
    {
      "cell_type": "code",
      "execution_count": null,
      "metadata": {},
      "outputs": [],
      "source": [
        "await lh.stop()"
      ]
    },
    {
      "attachments": {},
      "cell_type": "markdown",
      "metadata": {},
      "source": [
        "It is sensible that it fails, see discussion at: https://github.com/PyLabRobot/pylabrobot/issues/26"
      ]
    },
    {
      "attachments": {},
      "cell_type": "markdown",
      "metadata": {},
      "source": [
        "### Multiple tools\n",
        "\n",
        "Using PLR with multiple-tool machines."
      ]
    },
    {
      "cell_type": "code",
      "execution_count": null,
      "metadata": {},
      "outputs": [],
      "source": [
        "# ?"
      ]
    },
    {
      "attachments": {},
      "cell_type": "markdown",
      "metadata": {},
      "source": [
        "It is probably best to leave this to the backend."
      ]
    },
    {
      "attachments": {},
      "cell_type": "markdown",
      "metadata": {},
      "source": [
        "## Pipetting-bot backend\n",
        "\n",
        "Write a new backend that uses the \"piper\" GCODE-generating module from the pipetting-bot project.\n",
        "\n",
        "TODO:\n",
        "\n",
        "- [ ] Bug: commands can be sent to the backend before it is ready.\n",
        "- [ ] Implement waiting/checking of command responses, and proper blocking.\n",
        "- [ ] ¿Use queues?\n",
        "- [ ] Write adapter to use decks as piper workspaces.\n",
        "  - This may not be necessary if all the required info is passed to the PLR.\n",
        "  - ¿Do other backends need to access the \"deck\" object?\n",
        "- [ ] Write adapter to pass object coordinates from PLR to piper (not relying on workspaces).\n",
        "  - See pylabrobot/liquid_handling/standard.py\n",
        "- [ ] A lot more..."
      ]
    },
    {
      "cell_type": "code",
      "execution_count": null,
      "metadata": {},
      "outputs": [],
      "source": [
        "# Append custom module paths.\n",
        "# import os, sys\n",
        "# module_path = os.path.expanduser(\"~/Projects/GOSH/gosh-col-dev/pipettin-grbl/klipper/code/\")\n",
        "# sys.path.append(module_path)\n",
        "\n",
        "from pprint import pprint\n",
        "from pylabrobot.liquid_handling.backends.piper_backend import PiperBackend"
      ]
    },
    {
      "cell_type": "code",
      "execution_count": null,
      "metadata": {},
      "outputs": [],
      "source": [
        "backend = PiperBackend(verbose=False)"
      ]
    },
    {
      "cell_type": "code",
      "execution_count": null,
      "metadata": {},
      "outputs": [],
      "source": [
        "await backend.setup()"
      ]
    },
    {
      "cell_type": "code",
      "execution_count": null,
      "metadata": {},
      "outputs": [],
      "source": [
        "backend.moon.status()"
      ]
    },
    {
      "cell_type": "code",
      "execution_count": null,
      "metadata": {},
      "outputs": [],
      "source": [
        "cmd_id = await backend.moon.send_gcode_cmd(\"SET_KINEMATIC_POSITION X=0 Y=0 Z=0\", wait=True, check=True, timeout=1.0)\n",
        "pprint(backend.tracker[cmd_id])"
      ]
    },
    {
      "cell_type": "code",
      "execution_count": null,
      "metadata": {},
      "outputs": [],
      "source": [
        "cmd_id = await backend.moon.send_gcode_cmd(\"FICTITIOUS COMMAND\", wait=True, check=True, timeout=10.0)\n",
        "# cmd_id = await backend.moon.send_gcode_cmd(\"M105\", wait=True, check=True, timeout=10.0)\n",
        "#cmd_id = await backend.moon.send_gcode_cmd(\"G0 X1\", wait=True, check=True, timeout=10.0)\n",
        "pprint(backend.tracker[cmd_id], width=120)"
      ]
    },
    {
      "cell_type": "code",
      "execution_count": null,
      "metadata": {},
      "outputs": [],
      "source": [
        "pprint(backend.tracker[cmd_id])\n",
        "# backend.tracker[cmd_id][\"response\"]\n",
        "# backend.tracker[cmd_id][\"response\"][\"error\"]\n",
        "# backend.tracker[cmd_id][\"response\"][\"error\"][\"message\"]\n",
        "# print(backend.tracker[cmd_id][\"response\"][\"error\"][\"message\"])"
      ]
    },
    {
      "cell_type": "code",
      "execution_count": null,
      "metadata": {},
      "outputs": [],
      "source": [
        "# cmd_id = await backend.moon.send_gcode_cmd(\"G0 X100\", wait=True, check=True, timeout=1.0)\n",
        "# pprint(backend.tracker[cmd_id])\n",
        "\n",
        "# Make GCODE\n",
        "# TODO: customize parameters.\n",
        "pick_up_tip_action = {\n",
        "    'args': {'item': '200ul_tip_rack_MULTITOOL 1', 'tool': 'P200'},\n",
        "    'cmd': 'PICK_TIP'}\n",
        "gcode = backend.builder.addAction(action=pick_up_tip_action)\n",
        "pprint(gcode)\n",
        "\n",
        "# Send commands.\n",
        "cmd_id = await backend.moon.send_gcode_script(gcode, wait=True, check=True, timeout=2.0)"
      ]
    },
    {
      "cell_type": "code",
      "execution_count": null,
      "metadata": {},
      "outputs": [],
      "source": [
        "# pprint(backend.tracker[cmd_id])\n",
        "backend.tracker[cmd_id][\"response\"]\n",
        "# backend.tracker[cmd_id][\"response\"][\"error\"]\n",
        "# print(backend.tracker[cmd_id][\"response\"][\"error\"][\"message\"])"
      ]
    },
    {
      "cell_type": "code",
      "execution_count": null,
      "metadata": {},
      "outputs": [],
      "source": [
        "# Wait for idle printer.\n",
        "await backend.moon.wait_for_idle_printer(timeout = 999.0)"
      ]
    },
    {
      "cell_type": "code",
      "execution_count": null,
      "metadata": {},
      "outputs": [],
      "source": [
        "await backend.moon.wait_for_idle_printer()"
      ]
    },
    {
      "cell_type": "code",
      "execution_count": null,
      "metadata": {},
      "outputs": [],
      "source": [
        "await backend.stop()"
      ]
    },
    {
      "attachments": {},
      "cell_type": "markdown",
      "metadata": {},
      "source": [
        "## STAR deck examples\n"
      ]
    },
    {
      "cell_type": "markdown",
      "metadata": {},
      "source": [
        "Create a new liquid handler using `STAR` as its backend, and the hamilton \"deck\"."
      ]
    },
    {
      "cell_type": "code",
      "execution_count": null,
      "metadata": {},
      "outputs": [],
      "source": [
        "# backend = STAR()\n",
        "backend = ChatterBoxBackend()\n",
        "# backend = PiperBackend()\n",
        "\n",
        "lh = LiquidHandler(backend=backend, deck=STARLetDeck())"
      ]
    },
    {
      "cell_type": "markdown",
      "metadata": {},
      "source": [
        "The final step is to open communication with the robot. This is done using the {func}`~pylabrobot.liquid_handling.LiquidHandler.setup` method."
      ]
    },
    {
      "cell_type": "code",
      "execution_count": null,
      "metadata": {},
      "outputs": [],
      "source": [
        "await lh.setup()"
      ]
    },
    {
      "attachments": {},
      "cell_type": "markdown",
      "metadata": {},
      "source": [
        "\n",
        "Now that we have a `LiquidHandler` instance, we can define the deck layout.\n",
        "\n",
        "The layout in this tutorial will contain five sets of standard volume tips with filter, 1 set of 96 1mL wells, and tip and plate carriers on which these resources are positioned.\n",
        "\n",
        "Start by importing the relevant objects and variables from the PyHamilton package. This notebook uses the following resources:\n",
        "\n",
        "- {class}`~pylabrobot.resources.ml_star.tip_carriers.TIP_CAR_480_A00` tip carrier\n",
        "- {class}`~pylabrobot.resources.ml_star.plate_carriers.PLT_CAR_L5AC_A00` plate carrier\n",
        "- {class}`~pylabrobot.resources.corning_costar.plates.Cos_96_DW_1mL` wells\n",
        "- {class}`~pylabrobot.resources.ml_star.tip_racks.HTF_L` tips"
      ]
    },
    {
      "cell_type": "code",
      "execution_count": null,
      "metadata": {},
      "outputs": [],
      "source": [
        "from pylabrobot.resources import (\n",
        "    TIP_CAR_480_A00,\n",
        "    PLT_CAR_L5AC_A00,\n",
        "    Cos_96_DW_1mL,\n",
        "    HTF_L\n",
        ")"
      ]
    },
    {
      "cell_type": "markdown",
      "metadata": {},
      "source": [
        "Then create a tip carrier named `tip carrier`, which will contain tip rack at all 5 positions. These positions can be accessed using `tip_car[x]`, and are 0 indexed."
      ]
    },
    {
      "cell_type": "code",
      "execution_count": null,
      "metadata": {},
      "outputs": [],
      "source": [
        "tip_car = TIP_CAR_480_A00(name='tip carrier')\n",
        "tip_car[0] = HTF_L(name='tips_01')"
      ]
    },
    {
      "cell_type": "markdown",
      "metadata": {},
      "source": [
        "Use {func}`~pylabrobot.resources.abstract.assign_child_resources` to assign the tip carrier to the deck of the liquid handler. All resources contained by this carrier will be assigned automatically.\n",
        "\n",
        "In the `rails` parameter, we can pass the location of the tip carrier. The locations of the tips will automatically be calculated."
      ]
    },
    {
      "cell_type": "code",
      "execution_count": null,
      "metadata": {},
      "outputs": [],
      "source": [
        "lh.deck.assign_child_resource(tip_car, rails=3)"
      ]
    },
    {
      "cell_type": "markdown",
      "metadata": {},
      "source": [
        "Repeat this for the plates."
      ]
    },
    {
      "cell_type": "code",
      "execution_count": null,
      "metadata": {},
      "outputs": [],
      "source": [
        "plt_car = PLT_CAR_L5AC_A00(name='plate carrier')\n",
        "plt_car[0] = Cos_96_DW_1mL(name='plate_01')"
      ]
    },
    {
      "cell_type": "code",
      "execution_count": null,
      "metadata": {},
      "outputs": [],
      "source": [
        "lh.deck.assign_child_resource(plt_car, rails=15)"
      ]
    },
    {
      "cell_type": "markdown",
      "metadata": {},
      "source": [
        "Let's look at a summary of the deck layout using {func}`~pylabrobot.liquid_handling.LiquidHandler.summary`."
      ]
    },
    {
      "cell_type": "code",
      "execution_count": null,
      "metadata": {},
      "outputs": [],
      "source": [
        "lh.summary()"
      ]
    },
    {
      "cell_type": "markdown",
      "metadata": {},
      "source": [
        "## Picking up tips\n",
        "\n",
        "Picking up tips is as easy as querying the tips from the tiprack."
      ]
    },
    {
      "cell_type": "code",
      "execution_count": null,
      "metadata": {},
      "outputs": [],
      "source": [
        "tiprack = lh.get_resource(\"tips_01\")\n",
        "await lh.pick_up_tips(tiprack[\"A1:C1\"])"
      ]
    },
    {
      "cell_type": "markdown",
      "metadata": {},
      "source": [
        "## Aspirating and dispensing"
      ]
    },
    {
      "cell_type": "markdown",
      "metadata": {},
      "source": [
        "Aspirating and dispensing work similarly to picking up tips: where you use booleans to specify which tips to pick up, with aspiration and dispensing you use floats to specify the volume to aspirate or dispense in $\\mu L$.\n",
        "\n",
        "The cells below move liquid from wells `'A1:C1'` to `'D1:F1'` using channels 1, 2, and 3 using the {func}`~pylabrobot.liquid_handling.LiquidHandler.aspirate` and {func}`~pylabrobot.liquid_handling.LiquidHandler.dispense` methods."
      ]
    },
    {
      "cell_type": "code",
      "execution_count": null,
      "metadata": {},
      "outputs": [],
      "source": [
        "plate = lh.get_resource(\"plate_01\")\n",
        "await lh.aspirate(plate[\"A1:C1\"], vols=[100.0, 50.0, 200.0])"
      ]
    },
    {
      "cell_type": "markdown",
      "metadata": {},
      "source": [
        "After the liquid has been aspirated, dispense it in the wells below. Note that while we specify different wells, we are still using the same channels. This is needed because only these channels contain liquid, of course."
      ]
    },
    {
      "cell_type": "code",
      "execution_count": null,
      "metadata": {},
      "outputs": [],
      "source": [
        "await lh.dispense(plate[\"D1:F1\"], vols=[100.0, 50.0, 200.0])"
      ]
    },
    {
      "cell_type": "markdown",
      "metadata": {},
      "source": [
        "Let's move the liquid back to the original wells."
      ]
    },
    {
      "cell_type": "code",
      "execution_count": null,
      "metadata": {},
      "outputs": [],
      "source": [
        "await lh.aspirate(plate[\"D1:F1\"], vols=[100.0, 50.0, 200.0])\n",
        "await lh.dispense(plate[\"A1:C1\"], vols=[100.0, 50.0, 200.0])"
      ]
    },
    {
      "cell_type": "markdown",
      "metadata": {},
      "source": [
        "## Discarding tips\n",
        "\n",
        "Finally, you can discard tips by using the {func}`~pylabrobot.liquid_handling.LiquidHandler.discard_tips` method."
      ]
    },
    {
      "cell_type": "code",
      "execution_count": null,
      "metadata": {},
      "outputs": [],
      "source": [
        "await lh.drop_tips(tiprack[\"A1:C1\"])"
      ]
    },
    {
      "cell_type": "code",
      "execution_count": null,
      "metadata": {},
      "outputs": [],
      "source": [
        "await lh.stop()"
      ]
    },
    {
      "cell_type": "code",
      "execution_count": null,
      "metadata": {},
      "outputs": [],
      "source": []
    }
  ],
  "metadata": {
    "kernelspec": {
      "display_name": ".venv",
      "language": "python",
      "name": "python3"
    },
    "language_info": {
      "codemirror_mode": {
        "name": "ipython",
        "version": 3
      },
      "file_extension": ".py",
      "mimetype": "text/x-python",
      "name": "python",
      "nbconvert_exporter": "python",
      "pygments_lexer": "ipython3",
      "version": "3.10.10"
    },
    "vscode": {
      "interpreter": {
        "hash": "90d438140fb5b229a657b1d63754e0e9b5e5b84ccbcec444eeb29ea036eac1ef"
      }
    }
  },
  "nbformat": 4,
  "nbformat_minor": 2
}
