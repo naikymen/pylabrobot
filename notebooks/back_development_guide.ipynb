{
  "cells": [
    {
      "attachments": {},
      "cell_type": "markdown",
      "metadata": {},
      "source": [
        "# Agnostic methods for liquid handling\n"
      ]
    },
    {
      "attachments": {},
      "cell_type": "markdown",
      "metadata": {},
      "source": [
        "## Setting up "
      ]
    },
    {
      "attachments": {},
      "cell_type": "markdown",
      "metadata": {},
      "source": [
        "Check if the correct environment is in use:"
      ]
    },
    {
      "cell_type": "code",
      "execution_count": null,
      "metadata": {},
      "outputs": [],
      "source": [
        "!echo $VIRTUAL_ENV\n",
        "\n",
        "import os, sys\n",
        "print(\"Current working directory: \" + os.getcwd())\n",
        "print(\"Using python: \" + sys.executable)"
      ]
    },
    {
      "attachments": {},
      "cell_type": "markdown",
      "metadata": {},
      "source": [
        "?"
      ]
    },
    {
      "cell_type": "code",
      "execution_count": null,
      "metadata": {},
      "outputs": [],
      "source": [
        "%load_ext autoreload\n",
        "%autoreload 2"
      ]
    },
    {
      "attachments": {},
      "cell_type": "markdown",
      "metadata": {},
      "source": [
        "Basic imports:"
      ]
    },
    {
      "cell_type": "code",
      "execution_count": null,
      "metadata": {},
      "outputs": [],
      "source": [
        "# Basic imports:\n",
        "# - liquid handler\n",
        "from pylabrobot.liquid_handling import LiquidHandler\n",
        "# - backend\n",
        "from pylabrobot.liquid_handling.backends import STAR\n",
        "from pylabrobot.liquid_handling.backends.chatterbox_backend import ChatterBoxBackend\n",
        "# - deck\n",
        "from pylabrobot.resources.hamilton import STARLetDeck"
      ]
    },
    {
      "attachments": {},
      "cell_type": "markdown",
      "metadata": {},
      "source": [
        "## Writing a custom Backend\n"
      ]
    },
    {
      "cell_type": "code",
      "execution_count": null,
      "metadata": {},
      "outputs": [],
      "source": [
        "\"\"\"\n",
        "Piper backend for PLR.\n",
        "\n",
        "It relies on the pipettin piper module, which uses the the websocket API provided by the Moonkraker program.\n",
        "\n",
        "See \"klipper_backend.py\" for a discussion on \"Klipper macro\" v.s. \"Piper\" as possible backends.\n",
        "\"\"\"\n",
        "\n",
        "# pylint: disable=unused-argument\n",
        "\n",
        "from typing import List\n",
        "\n",
        "from pylabrobot.liquid_handling.backends import LiquidHandlerBackend\n",
        "from pylabrobot.resources import Resource\n",
        "from pylabrobot.liquid_handling.standard import (\n",
        "    Pickup,\n",
        "    PickupTipRack,\n",
        "    Drop,\n",
        "    DropTipRack,\n",
        "    Aspiration,\n",
        "    AspirationPlate,\n",
        "    Dispense,\n",
        "    DispensePlate,\n",
        "    Move\n",
        ")\n",
        "\n",
        "\n",
        "class PiperBackend(LiquidHandlerBackend):\n",
        "    \"\"\" Chatter box backend for 'How to Open Source' \"\"\"\n",
        "\n",
        "    def __init__(self, num_channels: int = 1):\n",
        "        \"\"\"Init method for the PiperBackend.\"\"\"\n",
        "        print(f\"Instantiating the PiperBackend with num_channels={num_channels}\")\n",
        "        super().__init__()\n",
        "        self._num_channels = num_channels\n",
        "\n",
        "    async def setup(self):\n",
        "        await super().setup()\n",
        "        print(\"Setting up the robot.\")\n",
        "\n",
        "    async def stop(self):\n",
        "        await super().stop()\n",
        "        print(\"Stopping the robot.\")\n",
        "\n",
        "    @property\n",
        "    def num_channels(self) -> int:\n",
        "        return self._num_channels\n",
        "\n",
        "    async def assigned_resource_callback(self, resource: Resource):\n",
        "        print(f\"Resource {resource.name} was assigned to the robot.\")\n",
        "\n",
        "    async def unassigned_resource_callback(self, name: str):\n",
        "        print(f\"Resource {name} was unassigned from the robot.\")\n",
        "\n",
        "    # Atomic implemented in hardware.\n",
        "    async def pick_up_tips(self, ops: List[Pickup], use_channels: List[int], **backend_kwargs):\n",
        "        print(f\"Picking up tips {ops}.\")\n",
        "\n",
        "    async def drop_tips(self, ops: List[Drop], use_channels: List[int], **backend_kwargs):\n",
        "        print(f\"Dropping tips {ops}.\")\n",
        "\n",
        "    async def aspirate(self, ops: List[Aspiration], use_channels: List[int], **backend_kwargs):\n",
        "        print(f\"Aspirating {ops}.\")\n",
        "\n",
        "    async def dispense(self, ops: List[Dispense], use_channels: List[int], **backend_kwargs):\n",
        "        print(f\"Dispensing {ops}.\")\n",
        "\n",
        "    # Atomic actions not implemented in hardware.\n",
        "    # TODO: implement these methods as a required human intervention.\n",
        "    async def pick_up_tips96(self, pickup: PickupTipRack):\n",
        "        raise NotImplementedError(\"The backend does not support the CoRe 96.\")\n",
        "\n",
        "    async def drop_tips96(self, drop: DropTipRack):\n",
        "        raise NotImplementedError(\"The backend does not support the CoRe 96.\")\n",
        "\n",
        "    async def aspirate96(self, aspiration: AspirationPlate):\n",
        "        raise NotImplementedError(\"The backend does not support the CoRe 96.\")\n",
        "\n",
        "    async def dispense96(self, dispense: DispensePlate):\n",
        "        raise NotImplementedError(\"The backend does not support the CoRe 96.\")\n",
        "\n",
        "    async def move_resource(self, move: Move):\n",
        "        \"\"\" Move the specified lid within the robot. \"\"\"\n",
        "        raise NotImplementedError(\"Moving resources is not implemented yet.\")\n"
      ]
    },
    {
      "attachments": {},
      "cell_type": "markdown",
      "metadata": {},
      "source": [
        "Instantiate the Piper backend, with one channel:"
      ]
    },
    {
      "cell_type": "code",
      "execution_count": null,
      "metadata": {},
      "outputs": [],
      "source": [
        "backend = PiperBackend(num_channels=1)\n",
        "\n",
        "backend.num_channels"
      ]
    },
    {
      "attachments": {},
      "cell_type": "markdown",
      "metadata": {},
      "source": [
        "Create an instance of a \"liquid handler\" with the Hamilton deck (for example):"
      ]
    },
    {
      "cell_type": "code",
      "execution_count": null,
      "metadata": {},
      "outputs": [],
      "source": [
        "lh = LiquidHandler(backend=backend, deck=STARLetDeck())\n",
        "\n",
        "await lh.setup()"
      ]
    },
    {
      "attachments": {},
      "cell_type": "markdown",
      "metadata": {},
      "source": [
        "Populate the deck with labware:"
      ]
    },
    {
      "cell_type": "code",
      "execution_count": null,
      "metadata": {},
      "outputs": [],
      "source": [
        "from pylabrobot.resources import (\n",
        "    TIP_CAR_480_A00,\n",
        "    PLT_CAR_L5AC_A00,\n",
        "    Cos_96_DW_1mL,\n",
        "    HTF_L\n",
        ")\n",
        "\n",
        "tip_car = TIP_CAR_480_A00(name='tip carrier')\n",
        "tip_car[0] = HTF_L(name='tips_01')\n",
        "\n",
        "lh.deck.assign_child_resource(tip_car, rails=3)\n",
        "\n",
        "plt_car = PLT_CAR_L5AC_A00(name='plate carrier')\n",
        "plt_car[0] = Cos_96_DW_1mL(name='plate_01')\n",
        "\n",
        "lh.deck.assign_child_resource(plt_car, rails=15)\n",
        "\n",
        "lh.summary()"
      ]
    },
    {
      "attachments": {},
      "cell_type": "markdown",
      "metadata": {},
      "source": [
        "Pick up a tip, and aspirate from two wells:"
      ]
    },
    {
      "cell_type": "code",
      "execution_count": null,
      "metadata": {},
      "outputs": [],
      "source": [
        "tiprack = lh.get_resource(\"tips_01\")\n",
        "await lh.pick_up_tips(tiprack[\"A1\"])\n",
        "\n",
        "plate = lh.get_resource(\"plate_01\")\n",
        "await lh.aspirate(plate[\"A1\"], vols=[100.0])"
      ]
    },
    {
      "attachments": {},
      "cell_type": "markdown",
      "metadata": {},
      "source": [
        "Dispense in another well, and drop the tips (back in the box):"
      ]
    },
    {
      "cell_type": "code",
      "execution_count": null,
      "metadata": {},
      "outputs": [],
      "source": [
        "await lh.dispense(plate[\"D1\"], vols=[100.0])\n",
        "\n",
        "await lh.drop_tips(tiprack[\"A1\"])"
      ]
    },
    {
      "attachments": {},
      "cell_type": "markdown",
      "metadata": {},
      "source": [
        "Terminate the liquid handler:"
      ]
    },
    {
      "cell_type": "code",
      "execution_count": null,
      "metadata": {},
      "outputs": [],
      "source": [
        "await lh.stop()"
      ]
    },
    {
      "attachments": {},
      "cell_type": "markdown",
      "metadata": {},
      "source": [
        "### Number of channels\n",
        "\n",
        "The number of \"pipetting channels\" represents how many tips a robot/backend/tool can operate simultaneously.\n",
        "\n",
        "This name is derived from the name of \"multichannel\" micropipettes, which can tipically fit 8 or 12 individual tips in a row, and load liquid into them simultaneously.\n",
        "\n",
        "Advanced robotic pipettes may support multi-channel with variable per-tip volume control (which is more alike a multi-pipette tool)."
      ]
    },
    {
      "cell_type": "code",
      "execution_count": null,
      "metadata": {},
      "outputs": [],
      "source": [
        "backend = PiperBackend(num_channels=2)"
      ]
    },
    {
      "attachments": {},
      "cell_type": "markdown",
      "metadata": {},
      "source": [
        "Setup the backend and populate the deck:"
      ]
    },
    {
      "cell_type": "code",
      "execution_count": null,
      "metadata": {},
      "outputs": [],
      "source": [
        "lh = LiquidHandler(backend=backend, deck=STARLetDeck())\n",
        "await lh.setup()\n",
        "\n",
        "tip_car = TIP_CAR_480_A00(name='tip carrier')\n",
        "tip_car[0] = HTF_L(name='tips_01')\n",
        "\n",
        "lh.deck.assign_child_resource(tip_car, rails=3)\n",
        "\n",
        "plt_car = PLT_CAR_L5AC_A00(name='plate carrier 1')\n",
        "plt_car[0] = Cos_96_DW_1mL(name='plate_01')\n",
        "plt_car[1] = Cos_96_DW_1mL(name='plate_02')\n",
        "\n",
        "lh.deck.assign_child_resource(plt_car, rails=15)\n",
        "\n",
        "lh.summary()"
      ]
    },
    {
      "attachments": {},
      "cell_type": "markdown",
      "metadata": {},
      "source": [
        "Inspect the tip rack:"
      ]
    },
    {
      "cell_type": "code",
      "execution_count": null,
      "metadata": {},
      "outputs": [],
      "source": [
        "# plate.children[0].serialize()\n",
        "tiprack.serialize()"
      ]
    },
    {
      "attachments": {},
      "cell_type": "markdown",
      "metadata": {},
      "source": [
        "Pickup tips and aspirate some liquid:"
      ]
    },
    {
      "cell_type": "code",
      "execution_count": null,
      "metadata": {},
      "outputs": [],
      "source": [
        "tiprack = lh.get_resource(\"tips_01\")\n",
        "await lh.pick_up_tips(tiprack[\"A1:B1\"])\n",
        "\n",
        "plate1 = lh.get_resource(\"plate_01\")\n",
        "plate2 = lh.get_resource(\"plate_02\")\n",
        "await lh.aspirate(plate1[\"A1\"] + plate2[\"A2\"], vols=100.0, use_channels=[0, 1])"
      ]
    },
    {
      "attachments": {},
      "cell_type": "markdown",
      "metadata": {},
      "source": [
        "#### Miss-use of channels in PLR\n",
        "\n",
        "Now lets try to break PLR by placing more tips than the backend supports:"
      ]
    },
    {
      "cell_type": "code",
      "execution_count": null,
      "metadata": {},
      "outputs": [],
      "source": [
        "import traceback\n",
        "\n",
        "try:\n",
        "  tiprack = lh.get_resource(\"tips_01\")\n",
        "  await lh.pick_up_tips(tiprack[\"A1:C1\"])\n",
        "except:\n",
        "  print(traceback.format_exc())\n"
      ]
    },
    {
      "cell_type": "code",
      "execution_count": null,
      "metadata": {},
      "outputs": [],
      "source": [
        "await lh.stop()"
      ]
    },
    {
      "attachments": {},
      "cell_type": "markdown",
      "metadata": {},
      "source": [
        "It is sensible that it fails, see discussion at: https://github.com/PyLabRobot/pylabrobot/issues/26"
      ]
    },
    {
      "attachments": {},
      "cell_type": "markdown",
      "metadata": {},
      "source": [
        "### Multiple tools\n",
        "\n",
        "Using PLR with multiple-tool machines."
      ]
    },
    {
      "cell_type": "code",
      "execution_count": null,
      "metadata": {},
      "outputs": [],
      "source": [
        "# ?"
      ]
    },
    {
      "attachments": {},
      "cell_type": "markdown",
      "metadata": {},
      "source": [
        "## STAR deck examples\n"
      ]
    },
    {
      "cell_type": "markdown",
      "metadata": {},
      "source": [
        "Create a new liquid handler using `STAR` as its backend, and the hamilton \"deck\"."
      ]
    },
    {
      "cell_type": "code",
      "execution_count": null,
      "metadata": {},
      "outputs": [],
      "source": [
        "# backend = STAR()\n",
        "backend = ChatterBoxBackend()\n",
        "# backend = PiperBackend()\n",
        "\n",
        "lh = LiquidHandler(backend=backend, deck=STARLetDeck())"
      ]
    },
    {
      "cell_type": "markdown",
      "metadata": {},
      "source": [
        "The final step is to open communication with the robot. This is done using the {func}`~pylabrobot.liquid_handling.LiquidHandler.setup` method."
      ]
    },
    {
      "cell_type": "code",
      "execution_count": null,
      "metadata": {},
      "outputs": [],
      "source": [
        "await lh.setup()"
      ]
    },
    {
      "attachments": {},
      "cell_type": "markdown",
      "metadata": {},
      "source": [
        "\n",
        "Now that we have a `LiquidHandler` instance, we can define the deck layout.\n",
        "\n",
        "The layout in this tutorial will contain five sets of standard volume tips with filter, 1 set of 96 1mL wells, and tip and plate carriers on which these resources are positioned.\n",
        "\n",
        "Start by importing the relevant objects and variables from the PyHamilton package. This notebook uses the following resources:\n",
        "\n",
        "- {class}`~pylabrobot.resources.ml_star.tip_carriers.TIP_CAR_480_A00` tip carrier\n",
        "- {class}`~pylabrobot.resources.ml_star.plate_carriers.PLT_CAR_L5AC_A00` plate carrier\n",
        "- {class}`~pylabrobot.resources.corning_costar.plates.Cos_96_DW_1mL` wells\n",
        "- {class}`~pylabrobot.resources.ml_star.tip_racks.HTF_L` tips"
      ]
    },
    {
      "cell_type": "code",
      "execution_count": null,
      "metadata": {},
      "outputs": [],
      "source": [
        "from pylabrobot.resources import (\n",
        "    TIP_CAR_480_A00,\n",
        "    PLT_CAR_L5AC_A00,\n",
        "    Cos_96_DW_1mL,\n",
        "    HTF_L\n",
        ")"
      ]
    },
    {
      "cell_type": "markdown",
      "metadata": {},
      "source": [
        "Then create a tip carrier named `tip carrier`, which will contain tip rack at all 5 positions. These positions can be accessed using `tip_car[x]`, and are 0 indexed."
      ]
    },
    {
      "cell_type": "code",
      "execution_count": null,
      "metadata": {},
      "outputs": [],
      "source": [
        "tip_car = TIP_CAR_480_A00(name='tip carrier')\n",
        "tip_car[0] = HTF_L(name='tips_01')"
      ]
    },
    {
      "cell_type": "markdown",
      "metadata": {},
      "source": [
        "Use {func}`~pylabrobot.resources.abstract.assign_child_resources` to assign the tip carrier to the deck of the liquid handler. All resources contained by this carrier will be assigned automatically.\n",
        "\n",
        "In the `rails` parameter, we can pass the location of the tip carrier. The locations of the tips will automatically be calculated."
      ]
    },
    {
      "cell_type": "code",
      "execution_count": null,
      "metadata": {},
      "outputs": [],
      "source": [
        "lh.deck.assign_child_resource(tip_car, rails=3)"
      ]
    },
    {
      "cell_type": "markdown",
      "metadata": {},
      "source": [
        "Repeat this for the plates."
      ]
    },
    {
      "cell_type": "code",
      "execution_count": null,
      "metadata": {},
      "outputs": [],
      "source": [
        "plt_car = PLT_CAR_L5AC_A00(name='plate carrier')\n",
        "plt_car[0] = Cos_96_DW_1mL(name='plate_01')"
      ]
    },
    {
      "cell_type": "code",
      "execution_count": null,
      "metadata": {},
      "outputs": [],
      "source": [
        "lh.deck.assign_child_resource(plt_car, rails=15)"
      ]
    },
    {
      "cell_type": "markdown",
      "metadata": {},
      "source": [
        "Let's look at a summary of the deck layout using {func}`~pylabrobot.liquid_handling.LiquidHandler.summary`."
      ]
    },
    {
      "cell_type": "code",
      "execution_count": null,
      "metadata": {},
      "outputs": [],
      "source": [
        "lh.summary()"
      ]
    },
    {
      "cell_type": "markdown",
      "metadata": {},
      "source": [
        "## Picking up tips\n",
        "\n",
        "Picking up tips is as easy as querying the tips from the tiprack."
      ]
    },
    {
      "cell_type": "code",
      "execution_count": null,
      "metadata": {},
      "outputs": [],
      "source": [
        "tiprack = lh.get_resource(\"tips_01\")\n",
        "await lh.pick_up_tips(tiprack[\"A1:C1\"])"
      ]
    },
    {
      "cell_type": "markdown",
      "metadata": {},
      "source": [
        "## Aspirating and dispensing"
      ]
    },
    {
      "cell_type": "markdown",
      "metadata": {},
      "source": [
        "Aspirating and dispensing work similarly to picking up tips: where you use booleans to specify which tips to pick up, with aspiration and dispensing you use floats to specify the volume to aspirate or dispense in $\\mu L$.\n",
        "\n",
        "The cells below move liquid from wells `'A1:C1'` to `'D1:F1'` using channels 1, 2, and 3 using the {func}`~pylabrobot.liquid_handling.LiquidHandler.aspirate` and {func}`~pylabrobot.liquid_handling.LiquidHandler.dispense` methods."
      ]
    },
    {
      "cell_type": "code",
      "execution_count": null,
      "metadata": {},
      "outputs": [],
      "source": [
        "plate = lh.get_resource(\"plate_01\")\n",
        "await lh.aspirate(plate[\"A1:C1\"], vols=[100.0, 50.0, 200.0])"
      ]
    },
    {
      "cell_type": "markdown",
      "metadata": {},
      "source": [
        "After the liquid has been aspirated, dispense it in the wells below. Note that while we specify different wells, we are still using the same channels. This is needed because only these channels contain liquid, of course."
      ]
    },
    {
      "cell_type": "code",
      "execution_count": null,
      "metadata": {},
      "outputs": [],
      "source": [
        "await lh.dispense(plate[\"D1:F1\"], vols=[100.0, 50.0, 200.0])"
      ]
    },
    {
      "cell_type": "markdown",
      "metadata": {},
      "source": [
        "Let's move the liquid back to the original wells."
      ]
    },
    {
      "cell_type": "code",
      "execution_count": null,
      "metadata": {},
      "outputs": [],
      "source": [
        "await lh.aspirate(plate[\"D1:F1\"], vols=[100.0, 50.0, 200.0])\n",
        "await lh.dispense(plate[\"A1:C1\"], vols=[100.0, 50.0, 200.0])"
      ]
    },
    {
      "cell_type": "markdown",
      "metadata": {},
      "source": [
        "## Discarding tips\n",
        "\n",
        "Finally, you can discard tips by using the {func}`~pylabrobot.liquid_handling.LiquidHandler.discard_tips` method."
      ]
    },
    {
      "cell_type": "code",
      "execution_count": null,
      "metadata": {},
      "outputs": [],
      "source": [
        "await lh.drop_tips(tiprack[\"A1:C1\"])"
      ]
    },
    {
      "cell_type": "code",
      "execution_count": null,
      "metadata": {},
      "outputs": [],
      "source": [
        "await lh.stop()"
      ]
    },
    {
      "cell_type": "code",
      "execution_count": null,
      "metadata": {},
      "outputs": [],
      "source": []
    }
  ],
  "metadata": {
    "kernelspec": {
      "display_name": ".venv",
      "language": "python",
      "name": "python3"
    },
    "language_info": {
      "codemirror_mode": {
        "name": "ipython",
        "version": 3
      },
      "file_extension": ".py",
      "mimetype": "text/x-python",
      "name": "python",
      "nbconvert_exporter": "python",
      "pygments_lexer": "ipython3",
      "version": "3.10.10"
    },
    "vscode": {
      "interpreter": {
        "hash": "90d438140fb5b229a657b1d63754e0e9b5e5b84ccbcec444eeb29ea036eac1ef"
      }
    }
  },
  "nbformat": 4,
  "nbformat_minor": 2
}
