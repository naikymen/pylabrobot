{
 "cells": [
  {
   "attachments": {},
   "cell_type": "markdown",
   "metadata": {},
   "source": [
    "# Agnostic methods for liquid handling\n"
   ]
  },
  {
   "attachments": {},
   "cell_type": "markdown",
   "metadata": {},
   "source": [
    "## Basic imports"
   ]
  },
  {
   "cell_type": "code",
   "execution_count": null,
   "metadata": {
    "metadata": {}
   },
   "outputs": [],
   "source": [
    "#!pip install pylabrobot"
   ]
  },
  {
   "cell_type": "code",
   "execution_count": null,
   "metadata": {
    "metadata": {},
    "tags": []
   },
   "outputs": [],
   "source": [
    "# Basic imports:\n",
    "from pprint import pprint, pformat\n",
    "# - liquid handler\n",
    "from pylabrobot.liquid_handling import LiquidHandler\n",
    "# - backend\n",
    "from pylabrobot.liquid_handling.backends import STAR\n",
    "from pylabrobot.liquid_handling.backends.chatterbox_backend import ChatterBoxBackend\n",
    "# - deck\n",
    "from pylabrobot.resources.hamilton import STARLetDeck"
   ]
  },
  {
   "attachments": {},
   "cell_type": "markdown",
   "metadata": {},
   "source": [
    "## Writing a custom Backend\n",
    "\n",
    "There are a bunch of useful imports that must come first, and then the definition of a Python class inheriting from \"LiquidHandlerBackend\".\n",
    "\n",
    "The new class, as shown below, has placeholders for each of the important methods that the backend must implement.\n",
    "\n",
    "This new \"EchoBackend\" mimics the ChatterBox backend already available in PLR. This one saves the objects it received for inspection."
   ]
  },
  {
   "cell_type": "code",
   "execution_count": null,
   "metadata": {
    "metadata": {},
    "tags": []
   },
   "outputs": [],
   "source": [
    "from typing import List\n",
    "from pylabrobot.liquid_handling.backends import LiquidHandlerBackend\n",
    "from pylabrobot.resources import Resource\n",
    "from pylabrobot.liquid_handling.standard import (\n",
    "    Pickup,\n",
    "    PickupTipRack,\n",
    "    Drop,\n",
    "    DropTipRack,\n",
    "    Aspiration,\n",
    "    AspirationPlate,\n",
    "    Dispense,\n",
    "    DispensePlate,\n",
    "    Move\n",
    ")\n",
    "\n",
    "\n",
    "class EchoBackend(LiquidHandlerBackend):\n",
    "    \"\"\" Yet another Chatter box backend for 'How to Open Source' \"\"\"\n",
    "\n",
    "    commands = []\n",
    "    \"\"\"Just a list to store incoming data, forlater inspection\"\"\"\n",
    "\n",
    "    def __init__(self, num_channels: int = 1, name=\"echo\"):\n",
    "        \"\"\"Init method for the EchoBackend.\"\"\"\n",
    "        print(f\"EchoBackend - Instantiating the EchoBackend with num_channels={num_channels}\")\n",
    "        self.name=name\n",
    "        super().__init__()\n",
    "        self._num_channels = num_channels\n",
    "\n",
    "    async def setup(self):\n",
    "        await super().setup()\n",
    "        print(\"EchoBackend - Setting up the robot.\")\n",
    "\n",
    "    async def stop(self):\n",
    "        await super().stop()\n",
    "        print(\"EchoBackend - Stopping the robot.\")\n",
    "\n",
    "    @property\n",
    "    def num_channels(self) -> int:\n",
    "        return self._num_channels\n",
    "\n",
    "    async def assigned_resource_callback(self, resource: Resource):\n",
    "        print(f\"EchoBackend - Resource {resource.name} was assigned to the robot: \" + pformat(resource.serialize))\n",
    "\n",
    "    async def unassigned_resource_callback(self, name: str):\n",
    "        print(f\"EchoBackend - Resource with name '{name}' was unassigned from the robot.\")\n",
    "\n",
    "    # Atomic implemented in hardware.\n",
    "    async def pick_up_tips(self, ops: List[Pickup], use_channels: List[int], **backend_kwargs):\n",
    "        print(f\"EchoBackend - {len(self.commands)} - Picking up tips {ops}.\")\n",
    "        self.commands.append({\"cmd\": \"pick_up_tips\", \"ops\": ops, \"use_channels\": use_channels, **backend_kwargs})\n",
    "\n",
    "    async def drop_tips(self, ops: List[Drop], use_channels: List[int], **backend_kwargs):\n",
    "        print(f\"EchoBackend - {len(self.commands)} - Dropping tips {ops}.\")\n",
    "        self.commands.append({\"cmd\": \"drop_tips\", \"ops\": ops, \"use_channels\": use_channels, **backend_kwargs})\n",
    "\n",
    "    async def aspirate(self, ops: List[Aspiration], use_channels: List[int], **backend_kwargs):\n",
    "        print(f\"EchoBackend - {len(self.commands)} - Aspirating {ops}.\")\n",
    "        self.commands.append({\"cmd\": \"aspirate\", \"ops\": ops, \"use_channels\": use_channels, **backend_kwargs})\n",
    "\n",
    "    async def dispense(self, ops: List[Dispense], use_channels: List[int], **backend_kwargs):\n",
    "        print(f\"EchoBackend - {len(self.commands)} - Dispensing {ops}.\")\n",
    "        self.commands.append({\"cmd\": \"dispense\", \"ops\": ops, \"use_channels\": use_channels, **backend_kwargs})\n",
    "\n",
    "    # Atomic actions not implemented in hardware.\n",
    "    async def pick_up_tips96(self, pickup: PickupTipRack, **backend_kwargs):\n",
    "        raise NotImplementedError(\"EchoBackend - The backend does not support the CoRe 96.\")\n",
    "\n",
    "    async def drop_tips96(self, drop: DropTipRack, **backend_kwargs):\n",
    "        raise NotImplementedError(\"EchoBackend - The backend does not support the CoRe 96.\")\n",
    "\n",
    "    async def aspirate96(self, aspiration: AspirationPlate):\n",
    "        raise NotImplementedError(\"EchoBackend - The backend does not support the CoRe 96.\")\n",
    "\n",
    "    async def dispense96(self, dispense: DispensePlate):\n",
    "        raise NotImplementedError(\"EchoBackend - The backend does not support the CoRe 96.\")\n",
    "\n",
    "    async def move_resource(self, move: Move, **backend_kwargs):\n",
    "        \"\"\" Move the specified lid within the robot. \"\"\"\n",
    "        raise NotImplementedError(\"EchoBackend - Moving resources is not implemented yet.\")\n"
   ]
  },
  {
   "attachments": {},
   "cell_type": "markdown",
   "metadata": {},
   "source": [
    "### Usage example\n",
    "\n",
    "This new class can be used immediately, as is."
   ]
  },
  {
   "attachments": {},
   "cell_type": "markdown",
   "metadata": {},
   "source": [
    "Instantiate the Echo backend, with one channel:"
   ]
  },
  {
   "cell_type": "code",
   "execution_count": null,
   "metadata": {
    "metadata": {},
    "tags": []
   },
   "outputs": [],
   "source": [
    "backend = EchoBackend(num_channels=1)"
   ]
  },
  {
   "attachments": {},
   "cell_type": "markdown",
   "metadata": {},
   "source": [
    "Create an instance of a \"liquid handler\" with, for example, a Hamilton deck:"
   ]
  },
  {
   "cell_type": "code",
   "execution_count": null,
   "metadata": {
    "metadata": {},
    "tags": []
   },
   "outputs": [],
   "source": [
    "lh = LiquidHandler(backend=backend, deck=STARLetDeck())\n",
    "\n",
    "await lh.setup()"
   ]
  },
  {
   "cell_type": "markdown",
   "metadata": {},
   "source": [
    "While using the \"liquid handler\" we see some messages from the EchoBackend.\n",
    "\n",
    "It has received data about some kind of resources assigned to the deck."
   ]
  },
  {
   "attachments": {},
   "cell_type": "markdown",
   "metadata": {},
   "source": [
    "Populate the deck with labware, that may be interesting:"
   ]
  },
  {
   "cell_type": "code",
   "execution_count": null,
   "metadata": {
    "metadata": {},
    "tags": []
   },
   "outputs": [],
   "source": [
    "from pylabrobot.resources import (\n",
    "    TIP_CAR_480_A00,\n",
    "    PLT_CAR_L5AC_A00,\n",
    "    Cos_96_DW_1mL,\n",
    "    HTF_L\n",
    ")\n",
    "\n",
    "tip_car = TIP_CAR_480_A00(name='tip carrier')\n",
    "tip_car[0] = HTF_L(name='tips_01')\n",
    "\n",
    "lh.deck.assign_child_resource(tip_car, rails=3)\n",
    "\n",
    "plt_car = PLT_CAR_L5AC_A00(name='plate carrier')\n",
    "plt_car[0] = Cos_96_DW_1mL(name='plate_01')\n",
    "\n",
    "lh.deck.assign_child_resource(plt_car, rails=15)"
   ]
  },
  {
   "cell_type": "markdown",
   "metadata": {},
   "source": [
    "More of the \"resource assigned to the robot\" messages. Not much fun so far.\n",
    "\n",
    "To recap, let's check what the liquid handler has so far:"
   ]
  },
  {
   "cell_type": "code",
   "execution_count": null,
   "metadata": {
    "metadata": {}
   },
   "outputs": [],
   "source": [
    "lh.summary()"
   ]
  },
  {
   "cell_type": "markdown",
   "metadata": {},
   "source": [
    "### What's going on at the back?"
   ]
  },
  {
   "attachments": {},
   "cell_type": "markdown",
   "metadata": {},
   "source": [
    "PLR defines that the backend must implement a few \"atomic\" actions (e.g. aspirate, dispense, etc.).\n",
    "\n",
    "Lets pick up a tip."
   ]
  },
  {
   "cell_type": "markdown",
   "metadata": {},
   "source": [
    "#### Tips: pick_up_tips"
   ]
  },
  {
   "cell_type": "code",
   "execution_count": null,
   "metadata": {
    "metadata": {},
    "tags": []
   },
   "outputs": [],
   "source": [
    "tiprack = lh.get_resource(\"tips_01\")\n",
    "await lh.pick_up_tips(tiprack[\"A1\"])"
   ]
  },
  {
   "cell_type": "markdown",
   "metadata": {},
   "source": [
    "Aha! This is interesting...\n",
    "\n",
    "Now the backend is _supposed_ to pick up tips, using that information in some way. But which way is that?\n",
    "\n",
    "This dummy backend can be used to \"inspect\" the objects passed to it, \n",
    "and help us learn what to expect when writing a _real_ backend.\n",
    "\n",
    "Let's use the \"commands list\" we added to the EchoBackend to investigate how. "
   ]
  },
  {
   "cell_type": "code",
   "execution_count": null,
   "metadata": {
    "metadata": {}
   },
   "outputs": [],
   "source": [
    "backend.commands[-1]"
   ]
  },
  {
   "cell_type": "markdown",
   "metadata": {},
   "source": [
    "It seems we get two pieces of info:\n",
    "\n",
    "- A list with one \"operation\", offering tip parameters.\n",
    "- A list of \"channels\" to use for the operation.\n",
    "\n",
    "Let's inspect the operation:"
   ]
  },
  {
   "cell_type": "code",
   "execution_count": null,
   "metadata": {
    "metadata": {}
   },
   "outputs": [],
   "source": [
    "pick_up_op = backend.commands[-1][\"ops\"][0]\n",
    "\n",
    "pprint(pick_up_op)"
   ]
  },
  {
   "cell_type": "markdown",
   "metadata": {},
   "source": [
    "I'm going to guess that the \"resource\" in there is the same object as the TipSpot in the TipRack:"
   ]
  },
  {
   "cell_type": "code",
   "execution_count": null,
   "metadata": {
    "metadata": {},
    "tags": []
   },
   "outputs": [],
   "source": [
    "pick_up_op.resource is tiprack[\"A1\"][0]"
   ]
  },
  {
   "cell_type": "markdown",
   "metadata": {},
   "source": [
    "> Cooooorrrectooooo!\n",
    "\n",
    "So, we're expected to move the robot to that tip, place it into the requested channels, using some \"offset\"."
   ]
  },
  {
   "attachments": {},
   "cell_type": "markdown",
   "metadata": {
    "tags": []
   },
   "source": [
    "Lets inspect the \"tip spot\" a bit more closely:"
   ]
  },
  {
   "cell_type": "code",
   "execution_count": null,
   "metadata": {
    "metadata": {},
    "tags": []
   },
   "outputs": [],
   "source": [
    "tip_spot = pick_up_op.resource\n",
    "\n",
    "print(tip_spot)"
   ]
  },
  {
   "cell_type": "markdown",
   "metadata": {},
   "source": [
    "Ok, but... what can it do?"
   ]
  },
  {
   "cell_type": "code",
   "execution_count": null,
   "metadata": {
    "metadata": {}
   },
   "outputs": [],
   "source": [
    "dir(tip_spot)"
   ]
  },
  {
   "attachments": {},
   "cell_type": "markdown",
   "metadata": {},
   "source": [
    "I think `get_absolute_location` looks interesting.\n",
    "\n",
    "Perhaps we can get the absolute spatial coordinate of the tip's location:"
   ]
  },
  {
   "cell_type": "code",
   "execution_count": null,
   "metadata": {
    "metadata": {},
    "tags": []
   },
   "outputs": [],
   "source": [
    "coordinate = tip_spot.get_absolute_location()\n",
    "\n",
    "print(coordinate)"
   ]
  },
  {
   "cell_type": "markdown",
   "metadata": {},
   "source": [
    "Yep, seems important. But what does the Z coordinate mean? Is it the \"tip\" or the \"top\"?\n",
    "\n",
    "Or is it something else?\n",
    "\n",
    "The `tip` object in the operation may shed some light here:"
   ]
  },
  {
   "cell_type": "code",
   "execution_count": null,
   "metadata": {
    "metadata": {}
   },
   "outputs": [],
   "source": [
    "pick_up_op.tip"
   ]
  },
  {
   "cell_type": "markdown",
   "metadata": {},
   "source": [
    "Surprisingly, it is not a \"PLR resource\". It does have, however, two relevant attributes:\n",
    "\n",
    "- fitting depth: which I figure is the distance that the pipette inserts istelf into the tip from the top side in order to make the seal.\n",
    "- total length: well, that.\n",
    "\n",
    "The only variable here is how the Z coordinate of the tip spot relates to the tip."
   ]
  },
  {
   "attachments": {},
   "cell_type": "markdown",
   "metadata": {},
   "source": [
    "Before I move on, lets look at the \"offset\" in the pick up operation.\n"
   ]
  },
  {
   "cell_type": "code",
   "execution_count": null,
   "metadata": {
    "metadata": {}
   },
   "outputs": [],
   "source": [
    "# Prints \"Default\" which only indicates that this should be replaced by a default value.\n",
    "print(pick_up_op.offset)"
   ]
  },
  {
   "cell_type": "markdown",
   "metadata": {},
   "source": [
    "Nothing apparently.\n",
    "\n",
    "FYI, the source states that the offsets are a:\n",
    "\n",
    "> List of offsets for each channel, a translation that will be applied to the tip drop location. If `None`, no offset will be applied.\n",
    "\n",
    "The offsets in the list are expected to be `Coordinate` objects.\n",
    "\n",
    "<!-- This seems to no longer apply:\n",
    "\n",
    "The offset attribute, unless altered by the lh or backend, is a \"Default\" object.\n",
    "\n",
    "It has no information whatsoever, other than hinting that it should be replaced by a default value.\n",
    "\n",
    "```\n",
    "from pylabrobot.default import get_value\n",
    "from pylabrobot.resources.coordinate import Coordinate\n",
    "\n",
    "origin = Coordinate(0,0,0)\n",
    "\n",
    "# Prints \"Default\" which only indicates that this should be replaced by a default value.\n",
    "print(pick_up_op.offset)\n",
    "\n",
    "# A default value can be set like this:\n",
    "default_offset = get_value(value=pick_up_op.offset, default=origin)\n",
    "print(default_offset)\n",
    "```\n",
    "-->"
   ]
  },
  {
   "cell_type": "markdown",
   "metadata": {},
   "source": [
    "#### Well: aspirate"
   ]
  },
  {
   "attachments": {},
   "cell_type": "markdown",
   "metadata": {},
   "source": [
    "Aspirate from a well:"
   ]
  },
  {
   "cell_type": "code",
   "execution_count": null,
   "metadata": {
    "metadata": {},
    "tags": []
   },
   "outputs": [],
   "source": [
    "plate = lh.get_resource(\"plate_01\")\n",
    "await lh.aspirate(plate[\"A1\"], vols=[100.0])"
   ]
  },
  {
   "attachments": {},
   "cell_type": "markdown",
   "metadata": {},
   "source": [
    "Inspect the \"Aspiration\" operation:"
   ]
  },
  {
   "cell_type": "code",
   "execution_count": null,
   "metadata": {
    "metadata": {},
    "tags": []
   },
   "outputs": [],
   "source": [
    "# Get the operation\n",
    "ops = lh.backend.commands[1][\"ops\"]\n",
    "op = ops[0]\n",
    "\n",
    "pprint(op)\n"
   ]
  },
  {
   "cell_type": "code",
   "execution_count": null,
   "metadata": {
    "metadata": {}
   },
   "outputs": [],
   "source": [
    "# Some useful parameters\n",
    "op.volume\n",
    "op.resource.get_absolute_location()\n",
    "op.blow_out_air_volume\n",
    "op.liquid_height\n",
    "op.flow_rate\n",
    "\n",
    "# The current volume is harder to access, this is defined in the \"Container\" class.\n",
    "op.resource.tracker.get_used_volume()\n",
    "#pprint(op.resource.tracker.serialize())\n",
    "\n",
    "pprint(op.resource.serialize())"
   ]
  },
  {
   "cell_type": "markdown",
   "metadata": {},
   "source": [
    "Aspirate from multiple wells, with a single-channel pipette:"
   ]
  },
  {
   "cell_type": "code",
   "execution_count": null,
   "metadata": {
    "metadata": {}
   },
   "outputs": [],
   "source": [
    "print(f\"Backend '{backend.name}' with {backend.num_channels} channel(s).\")\n",
    "\n",
    "try:\n",
    "  # Aspirate 2.0 uL from A1, and then 3.9 uL from A2?\n",
    "  await lh.aspirate(plate[\"A1:A2\"], vols=[2.0, 3.0])\n",
    "except Exception as e:\n",
    "  print(e)\n",
    "\n",
    "try:\n",
    "  # Aspirate 2.0 uL from each well?\n",
    "  await lh.aspirate(plate[\"A1:A2\"], 2.0)\n",
    "except Exception as e:\n",
    "  print(e)"
   ]
  },
  {
   "attachments": {},
   "cell_type": "markdown",
   "metadata": {},
   "source": [
    "Dispense to another well, and drop the tips (back in the box):"
   ]
  },
  {
   "cell_type": "code",
   "execution_count": null,
   "metadata": {
    "tags": []
   },
   "outputs": [],
   "source": [
    "await lh.dispense(plate[\"D1\"], vols=[100.0])"
   ]
  },
  {
   "attachments": {},
   "cell_type": "markdown",
   "metadata": {},
   "source": [
    "There are THREE ways to remove tips from the pipettes:\n",
    "\n",
    "- `return_tips`: \"_Return all tips that are currently picked up to their original place_\". Takes no arguments.\n",
    "  - Do not use this if your pipettes cannot eject tips by themselves (i.e. they must go to a certain spot to discard tips, and cannot return tips to their box).\n",
    "- `discard_tips`: \"_Permanently discard tips_\", from the specified channels. Uses the deck's \"trash area\".\n",
    "- `drop_tips`: \"_Drop tips to a resource_\". The lowest-level form of this action, used by `return_tips` and `discard_tips`. Requires a list of \"tip spots\" (undocumented parameter); probably a \"_List of tip spots to pick up tips from_\"."
   ]
  },
  {
   "cell_type": "code",
   "execution_count": null,
   "metadata": {
    "tags": []
   },
   "outputs": [],
   "source": [
    "await lh.drop_tips(tip_spots=tiprack[\"A1\"])"
   ]
  },
  {
   "attachments": {},
   "cell_type": "markdown",
   "metadata": {},
   "source": [
    "Inspect the \"Dispense\" operation:"
   ]
  },
  {
   "cell_type": "code",
   "execution_count": null,
   "metadata": {
    "tags": []
   },
   "outputs": [],
   "source": [
    "# Get the operation\n",
    "ops = lh.backend.commands[2][\"ops\"]\n",
    "op = ops[0]\n",
    "\n",
    "# Some useful parameters\n",
    "op.volume\n",
    "op.resource.get_absolute_location()\n",
    "op.blow_out_air_volume\n",
    "op.liquid_height\n",
    "op.flow_rate\n",
    "\n",
    "# The current volume is harder to access, this is defined in the \"Container\" class.\n",
    "op.resource.tracker.get_used_volume()\n",
    "\n",
    "# Print everything\n",
    "pprint(op)\n",
    "pprint(op.resource.serialize())"
   ]
  },
  {
   "attachments": {},
   "cell_type": "markdown",
   "metadata": {},
   "source": [
    "Terminate the liquid handler:"
   ]
  },
  {
   "cell_type": "code",
   "execution_count": null,
   "metadata": {
    "tags": []
   },
   "outputs": [],
   "source": [
    "await lh.stop()"
   ]
  },
  {
   "attachments": {},
   "cell_type": "markdown",
   "metadata": {},
   "source": [
    "#### Number of channels\n",
    "\n",
    "The number of \"pipetting channels\" represents how many tips a robot/backend/tool can operate simultaneously.\n",
    "\n",
    "This name is derived from the name of \"multichannel\" micropipettes, which can tipically fit 8 or 12 individual tips in a row, and load liquid into them simultaneously.\n",
    "\n",
    "Advanced robotic pipettes may support multi-channel with variable per-tip volume control (which is more alike a multi-pipette tool)."
   ]
  },
  {
   "cell_type": "code",
   "execution_count": null,
   "metadata": {
    "tags": []
   },
   "outputs": [],
   "source": [
    "backend = EchoBackend(num_channels=2)"
   ]
  },
  {
   "attachments": {},
   "cell_type": "markdown",
   "metadata": {},
   "source": [
    "Setup the backend and populate the deck:"
   ]
  },
  {
   "cell_type": "code",
   "execution_count": null,
   "metadata": {
    "tags": []
   },
   "outputs": [],
   "source": [
    "lh = LiquidHandler(backend=backend, deck=STARLetDeck())\n",
    "await lh.setup()\n",
    "\n",
    "tip_car = TIP_CAR_480_A00(name='tip carrier')\n",
    "tip_car[0] = HTF_L(name='tips_01')\n",
    "\n",
    "lh.deck.assign_child_resource(tip_car, rails=3)\n",
    "\n",
    "plt_car = PLT_CAR_L5AC_A00(name='plate carrier 1')\n",
    "plt_car[0] = Cos_96_DW_1mL(name='plate_01')\n",
    "plt_car[1] = Cos_96_DW_1mL(name='plate_02')\n",
    "\n",
    "lh.deck.assign_child_resource(plt_car, rails=15)\n",
    "\n",
    "lh.summary()"
   ]
  },
  {
   "attachments": {},
   "cell_type": "markdown",
   "metadata": {},
   "source": [
    "Inspect the tip rack:"
   ]
  },
  {
   "cell_type": "code",
   "execution_count": null,
   "metadata": {
    "tags": []
   },
   "outputs": [],
   "source": [
    "# plate.children[0].serialize()\n",
    "tiprack.serialize()"
   ]
  },
  {
   "attachments": {},
   "cell_type": "markdown",
   "metadata": {},
   "source": [
    "Pickup tips and aspirate some liquid:"
   ]
  },
  {
   "cell_type": "code",
   "execution_count": null,
   "metadata": {
    "tags": []
   },
   "outputs": [],
   "source": [
    "tiprack = lh.get_resource(\"tips_01\")\n",
    "await lh.pick_up_tips(tiprack[\"A1:B1\"])\n",
    "\n",
    "plate1 = lh.get_resource(\"plate_01\")\n",
    "plate2 = lh.get_resource(\"plate_02\")\n",
    "await lh.aspirate(plate1[\"A1\"] + plate2[\"A2\"], vols=100.0, use_channels=[0, 1])"
   ]
  },
  {
   "attachments": {},
   "cell_type": "markdown",
   "metadata": {},
   "source": [
    "#### Miss-use of channels in PLR\n",
    "\n",
    "Now lets try to break PLR by placing more tips than the backend supports:"
   ]
  },
  {
   "cell_type": "code",
   "execution_count": null,
   "metadata": {
    "tags": []
   },
   "outputs": [],
   "source": [
    "import traceback\n",
    "\n",
    "try:\n",
    "  tiprack = lh.get_resource(\"tips_01\")\n",
    "  await lh.pick_up_tips(tiprack[\"A1:C1\"])\n",
    "except:\n",
    "  print(tracebcack.format_exc())\n"
   ]
  },
  {
   "attachments": {},
   "cell_type": "markdown",
   "metadata": {},
   "source": [
    "It is sensible that it fails, see discussion at: https://github.com/PyLabRobot/pylabrobot/issues/26"
   ]
  },
  {
   "attachments": {},
   "cell_type": "markdown",
   "metadata": {},
   "source": [
    "Stop the backend with the `stop` method. Say bye!"
   ]
  },
  {
   "cell_type": "code",
   "execution_count": null,
   "metadata": {
    "tags": []
   },
   "outputs": [],
   "source": [
    "await lh.stop()"
   ]
  },
  {
   "attachments": {},
   "cell_type": "markdown",
   "metadata": {},
   "source": [
    "### Multiple tools\n",
    "\n",
    "Using PLR with multiple-tool machines."
   ]
  },
  {
   "cell_type": "code",
   "execution_count": null,
   "metadata": {
    "tags": []
   },
   "outputs": [],
   "source": [
    "# ?"
   ]
  },
  {
   "attachments": {},
   "cell_type": "markdown",
   "metadata": {},
   "source": [
    "It is probably best to leave this to the backend."
   ]
  },
  {
   "attachments": {},
   "cell_type": "markdown",
   "metadata": {},
   "source": [
    "# Pipetting-bot backend\n",
    "\n",
    "The notes above are generic. The following is specific to a custom pipetting robot, based on the firmware Klipper (and its friends).\n",
    "\n",
    "The idea here was to write a \"thin\" backend, which delegates the most important functions to two custom modules: `newt` and `piper`.\n",
    "\n",
    "- `piper` parses json-structured commands, generates GCODE for the robot, and sends it.\n",
    "- `newt` generates valid json objects for `piper`, relying on `jsonschema` and the data provided by PLR."
   ]
  },
  {
   "attachments": {},
   "cell_type": "markdown",
   "metadata": {},
   "source": [
    "## Setting up\n",
    "\n",
    "This setup is optional, and specific to the development of the `piper` backend.\n",
    "\n",
    "It may serve as an example setup for setting up the python modules used by your backend."
   ]
  },
  {
   "attachments": {},
   "cell_type": "markdown",
   "metadata": {},
   "source": [
    "### Virtual environment\n",
    "\n",
    "You can create a virtual environment and test everything from there.\n",
    "\n",
    "Run the following to load your virtual environment and update the modules. Replace the paths below to match yours:\n",
    "\n",
    "```bash\n",
    "source .venv/bin/activate\n",
    "pip install git+https://gitlab.com/pipettin-bot/pipettin-piper.git\n",
    "pip install pylabrobot[dev]\n",
    "```\n",
    "\n",
    "Run those commands each time you want to test out changes.\n",
    "\n",
    "You can then check if the correct environment is in use:"
   ]
  },
  {
   "cell_type": "code",
   "execution_count": null,
   "metadata": {},
   "outputs": [],
   "source": [
    "!echo $VIRTUAL_ENV\n",
    "\n",
    "import os, sys\n",
    "\n",
    "print(\"Current working directory: \" + os.getcwd())\n",
    "print(\"Using python: \" + sys.executable)\n"
   ]
  },
  {
   "cell_type": "markdown",
   "metadata": {},
   "source": [
    "Install `piper` from git:"
   ]
  },
  {
   "cell_type": "code",
   "execution_count": null,
   "metadata": {},
   "outputs": [],
   "source": [
    "# Install dependencies\n",
    "!pip install git+https://gitlab.com/pipettin-bot/pipettin-piper.git"
   ]
  },
  {
   "cell_type": "markdown",
   "metadata": {},
   "source": [
    "This will also have installed `newt`, an important dependency to link `piper` with other programs."
   ]
  },
  {
   "cell_type": "code",
   "execution_count": null,
   "metadata": {},
   "outputs": [],
   "source": [
    "import piper, newt"
   ]
  },
  {
   "attachments": {},
   "cell_type": "markdown",
   "metadata": {},
   "source": [
    "## The piper backend\n",
    "\n",
    "Write a new backend that uses the \"piper\" GCODE-generating module from the pipetting-bot project.\n",
    "\n",
    "TODO:\n",
    "\n",
    "- [ ] Bug: commands can be sent to the backend before it is ready.\n",
    "- [ ] Implement waiting/checking of command responses, and proper blocking.\n",
    "- [ ] ¿Use queues?\n",
    "- [ ] Write adapter to use decks as piper workspaces.\n",
    "  - This may not be necessary if all the required info is passed to the PLR.\n",
    "  - ¿Do other backends need to access the \"deck\" object?\n",
    "- [ ] Write adapter to pass object coordinates from PLR to piper (not relying on workspaces).\n",
    "  - See pylabrobot/liquid_handling/standard.py\n",
    "- [ ] A lot more..."
   ]
  },
  {
   "cell_type": "code",
   "execution_count": null,
   "metadata": {
    "tags": []
   },
   "outputs": [],
   "source": [
    "# Install the \"piper\" module from the path to the module's directory (replace appropriately).\n",
    "# $ pip install -e ~/Projects/robot/pipettin-bot/klipper/piper/\n",
    "\n",
    "# Alternatively install the packages into the current environment:\n",
    "# %pip install websockets pymongo aiohttp python-socketio"
   ]
  },
  {
   "cell_type": "code",
   "execution_count": null,
   "metadata": {
    "tags": []
   },
   "outputs": [],
   "source": [
    "# Append custom module paths.\n",
    "# import os, sys\n",
    "# module_path = os.path.expanduser(\"~/Projects/GOSH/gosh-col-dev/pipettin-grbl/klipper/code/\")\n",
    "# sys.path.append(module_path)\n",
    "\n",
    "from pprint import pprint\n",
    "from pylabrobot.liquid_handling.backends.piper_backend import PiperBackend"
   ]
  },
  {
   "attachments": {},
   "cell_type": "markdown",
   "metadata": {},
   "source": [
    "Check that mongo is accessible from outside (if running this remotely). Otherwise see: https://www.digitalocean.com/community/tutorials/how-to-configure-remote-access-for-mongodb-on-ubuntu-20-04"
   ]
  },
  {
   "cell_type": "code",
   "execution_count": null,
   "metadata": {
    "tags": []
   },
   "outputs": [],
   "source": [
    "## !nc -zv 192.168.11.39 27017  # Should output \"192.168.11.39 27017 (mongodb) open\"\n",
    "!nc -zv localhost 27017  # Should output \"localhost [127.0.0.1] 27017 (mongodb) open\""
   ]
  },
  {
   "attachments": {},
   "cell_type": "markdown",
   "metadata": {},
   "source": [
    "The following `piper` backend can be used in \"dry\" mode, which does not require active connections to the rest of the software associated to the Pipettin-bot."
   ]
  },
  {
   "cell_type": "code",
   "execution_count": null,
   "metadata": {
    "tags": []
   },
   "outputs": [],
   "source": [
    "# Set \"mongo_url = None\" to skip the database connection.\n",
    "# backend = PiperBackend(verbose=False,\n",
    "#                        mongo_url=None, # \"mongodb://192.168.11.39:27017/\",\n",
    "#                        sio_address = \"http://192.168.11.39:3333\", # Pipettin GUI node server.\n",
    "#                        ws_address = \"ws://192.168.11.39:7125/websocket\", # Moonraker server.\n",
    "# )\n",
    "\n",
    "backend = PiperBackend(verbose=False, dry=True, clearance=80.0,\n",
    "                       mongo_url=None, # \"mongodb://192.168.11.39:27017/\",\n",
    "                       sio_address = \"http://localhost:3333\", # Pipettin GUI node server.\n",
    "                       ws_address = \"ws://localhost:7125/websocket\", # Moonraker server.\n",
    ")"
   ]
  },
  {
   "attachments": {},
   "cell_type": "markdown",
   "metadata": {},
   "source": [
    "### Setup method"
   ]
  },
  {
   "attachments": {},
   "cell_type": "markdown",
   "metadata": {},
   "source": [
    "You can setup the backend independently of a PLR liquid handler object."
   ]
  },
  {
   "cell_type": "code",
   "execution_count": null,
   "metadata": {},
   "outputs": [],
   "source": [
    "# backend.moon.start_as_task()\n",
    "# await backend.moon.wait_for_setup(timeout=2.0, raise_error=True)\n",
    "# await backend.moon.wait_for_ready(reset=True, wait_time=1.1, timeout=10.0)\n",
    "\n",
    "# await backend.setup()\n",
    "\n",
    "# pprint(backend.tracker[\"PLR setup\"], width=120)\n",
    "# backend.moon.get_response_by_id(cmd_id=\"PLR setup\")"
   ]
  },
  {
   "attachments": {},
   "cell_type": "markdown",
   "metadata": {},
   "source": [
    "### Deck and LiquidHandler setup\n"
   ]
  },
  {
   "attachments": {},
   "cell_type": "markdown",
   "metadata": {},
   "source": [
    "Setup the liquidhandler class. This also calls `setup` in the backend."
   ]
  },
  {
   "cell_type": "code",
   "execution_count": null,
   "metadata": {},
   "outputs": [],
   "source": [
    "# - liquid handler\n",
    "from pylabrobot.liquid_handling import LiquidHandler\n",
    "\n",
    "lh = LiquidHandler(backend=backend, deck=STARLetDeck())\n",
    "\n",
    "await lh.setup()"
   ]
  },
  {
   "attachments": {},
   "cell_type": "markdown",
   "metadata": {},
   "source": [
    "There should be a \"homing\" action in the piper backend."
   ]
  },
  {
   "cell_type": "code",
   "execution_count": null,
   "metadata": {},
   "outputs": [],
   "source": [
    "backend.builder.current_action"
   ]
  },
  {
   "attachments": {},
   "cell_type": "markdown",
   "metadata": {},
   "source": [
    "A PLR `deck` is required. We'll use the default for now."
   ]
  },
  {
   "cell_type": "code",
   "execution_count": null,
   "metadata": {},
   "outputs": [],
   "source": [
    "# - deck\n",
    "from pylabrobot.resources.hamilton import STARLetDeck\n",
    "# - resources\n",
    "from pylabrobot.resources import (\n",
    "    TIP_CAR_480_A00,\n",
    "    PLT_CAR_L5AC_A00,\n",
    "    Cos_96_DW_1mL,\n",
    "    HTF_L\n",
    ")\n",
    "\n",
    "tip_car = TIP_CAR_480_A00(name='tip carrier')\n",
    "tip_car[0] = HTF_L(name='tips_01')\n",
    "\n",
    "lh.deck.assign_child_resource(tip_car, rails=3)\n",
    "\n",
    "plt_car = PLT_CAR_L5AC_A00(name='plate carrier')\n",
    "plt_car[0] = Cos_96_DW_1mL(name='plate_01')\n",
    "\n",
    "lh.deck.assign_child_resource(plt_car, rails=15)\n",
    "\n",
    "# lh.summary()"
   ]
  },
  {
   "attachments": {},
   "cell_type": "markdown",
   "metadata": {
    "tags": []
   },
   "source": [
    "### Pick tips"
   ]
  },
  {
   "cell_type": "code",
   "execution_count": null,
   "metadata": {
    "tags": []
   },
   "outputs": [],
   "source": [
    "tiprack = lh.get_resource(\"tips_01\")\n",
    "\n",
    "await lh.pick_up_tips(tiprack[\"A1\"])"
   ]
  },
  {
   "cell_type": "code",
   "execution_count": null,
   "metadata": {},
   "outputs": [],
   "source": [
    "backend.builder.current_action"
   ]
  },
  {
   "attachments": {},
   "cell_type": "markdown",
   "metadata": {
    "tags": []
   },
   "source": [
    "### Pipetting"
   ]
  },
  {
   "cell_type": "code",
   "execution_count": null,
   "metadata": {},
   "outputs": [],
   "source": [
    "plate = lh.get_resource(\"plate_01\")\n",
    "await lh.aspirate(plate[\"A1\"], vols=[100.0])"
   ]
  },
  {
   "cell_type": "code",
   "execution_count": null,
   "metadata": {},
   "outputs": [],
   "source": [
    "backend.builder.current_action"
   ]
  },
  {
   "cell_type": "code",
   "execution_count": null,
   "metadata": {},
   "outputs": [],
   "source": [
    "await lh.dispense(plate[\"A2\"], vols=[50.0])"
   ]
  },
  {
   "cell_type": "code",
   "execution_count": null,
   "metadata": {},
   "outputs": [],
   "source": [
    "backend.builder.current_action"
   ]
  },
  {
   "attachments": {},
   "cell_type": "markdown",
   "metadata": {
    "tags": []
   },
   "source": [
    "### Drop tips"
   ]
  },
  {
   "cell_type": "code",
   "execution_count": null,
   "metadata": {},
   "outputs": [],
   "source": [
    "await lh.discard_tips()"
   ]
  },
  {
   "cell_type": "code",
   "execution_count": null,
   "metadata": {},
   "outputs": [],
   "source": [
    "backend.builder.current_action"
   ]
  },
  {
   "attachments": {},
   "cell_type": "markdown",
   "metadata": {
    "tags": []
   },
   "source": [
    "### Cleanup"
   ]
  },
  {
   "cell_type": "code",
   "execution_count": null,
   "metadata": {},
   "outputs": [],
   "source": [
    "await lh.stop()"
   ]
  },
  {
   "cell_type": "code",
   "execution_count": null,
   "metadata": {},
   "outputs": [],
   "source": [
    "backend.builder.current_action"
   ]
  },
  {
   "attachments": {},
   "cell_type": "markdown",
   "metadata": {
    "tags": []
   },
   "source": [
    "## Internal backend commands"
   ]
  },
  {
   "attachments": {},
   "cell_type": "markdown",
   "metadata": {},
   "source": [
    "Examine the backend's status:"
   ]
  },
  {
   "cell_type": "code",
   "execution_count": null,
   "metadata": {
    "tags": []
   },
   "outputs": [],
   "source": [
    "pprint(backend.moon.status())"
   ]
  },
  {
   "attachments": {},
   "cell_type": "markdown",
   "metadata": {},
   "source": [
    "Play with lower-level backend commands:"
   ]
  },
  {
   "cell_type": "code",
   "execution_count": null,
   "metadata": {
    "tags": []
   },
   "outputs": [],
   "source": [
    "await backend.moon.wait_for_idle_printer(timeout = 20.0)"
   ]
  },
  {
   "cell_type": "code",
   "execution_count": null,
   "metadata": {
    "tags": []
   },
   "outputs": [],
   "source": [
    "cmd_id = await backend.moon.send_gcode_cmd(\"SET_KINEMATIC_POSITION X=0 Y=0 Z=0\", wait=True, check=True, timeout=1.0)\n",
    "pprint(backend.tracker[cmd_id])"
   ]
  },
  {
   "cell_type": "code",
   "execution_count": null,
   "metadata": {
    "tags": []
   },
   "outputs": [],
   "source": [
    "cmd_id = await backend.moon.send_gcode_cmd(\"FICTITIOUS COMMAND\", wait=True, check=True, timeout=10.0)\n",
    "# cmd_id = await backend.moon.send_gcode_cmd(\"M105\", wait=True, check=True, timeout=10.0)\n",
    "#cmd_id = await backend.moon.send_gcode_cmd(\"G0 X1\", wait=True, check=True, timeout=10.0)\n",
    "pprint(backend.tracker[cmd_id], width=120)"
   ]
  },
  {
   "cell_type": "code",
   "execution_count": null,
   "metadata": {
    "tags": []
   },
   "outputs": [],
   "source": [
    "# pprint(backend.tracker[cmd_id])\n",
    "# backend.tracker[cmd_id][\"response\"]\n",
    "# backend.tracker[cmd_id][\"response\"][\"error\"]\n",
    "# backend.tracker[cmd_id][\"response\"][\"error\"][\"message\"]\n",
    "# print(backend.tracker[cmd_id][\"response\"][\"error\"][\"message\"])"
   ]
  },
  {
   "attachments": {},
   "cell_type": "markdown",
   "metadata": {},
   "source": [
    "Make GCODE for an action:"
   ]
  },
  {
   "cell_type": "code",
   "execution_count": null,
   "metadata": {
    "tags": []
   },
   "outputs": [],
   "source": [
    "# cmd_id = await backend.moon.send_gcode_cmd(\"G0 X100\", wait=True, check=True, timeout=1.0)\n",
    "# pprint(backend.tracker[cmd_id])\n",
    "\n",
    "\n",
    "# Hardcode the heigh clearance\n",
    "backend.builder.clearance = 100.0\n",
    "\n",
    "# TODO: customize parameters.\n",
    "home_action = {'cmd': 'HOME'}\n",
    "pick_up_tip_action = {\n",
    "    'args': {'item': '200ul_tip_rack_MULTITOOL 1', 'tool': 'P200'},\n",
    "    'cmd': 'PICK_TIP'}\n",
    "\n",
    "# Platformless tip pickup\n",
    "minimal_tip_data = {'maxVolume': 160, 'tipLength': 50.0, 'volume': 0}\n",
    "pick_up_tip_action_coords = {\n",
    "    'args': {'coords': {\"x\": 20, \"y\": 200, \"z\": 30},\n",
    "             'tool': 'P200',\n",
    "             'tip': minimal_tip_data},\n",
    "    'cmd': 'PICK_TIP'}\n",
    "\n",
    "# Make GCODE\n",
    "action = home_action\n",
    "gcode = backend.builder.parseAction(action=action)\n",
    "pprint(gcode)"
   ]
  },
  {
   "cell_type": "code",
   "execution_count": null,
   "metadata": {
    "tags": []
   },
   "outputs": [],
   "source": [
    "# Send commands.\n",
    "cmd_id = await backend.moon.send_gcode_script(gcode, wait=True, check=True, timeout=2.0)"
   ]
  },
  {
   "cell_type": "code",
   "execution_count": null,
   "metadata": {
    "tags": []
   },
   "outputs": [],
   "source": [
    "# pprint(backend.tracker[cmd_id])\n",
    "# backend.tracker[cmd_id][\"response\"]\n",
    "# backend.tracker[cmd_id][\"response\"][\"error\"]\n",
    "# print(backend.tracker[cmd_id][\"response\"][\"error\"][\"message\"])"
   ]
  },
  {
   "cell_type": "code",
   "execution_count": null,
   "metadata": {
    "tags": []
   },
   "outputs": [],
   "source": [
    "# Turn steppers off\n",
    "# cmd_id = await backend.moon.send_gcode_cmd(\"M84\", wait=True, check=True, timeout=2.0)\n",
    "# pprint(backend.tracker[cmd_id], width=120)"
   ]
  },
  {
   "cell_type": "code",
   "execution_count": null,
   "metadata": {
    "tags": []
   },
   "outputs": [],
   "source": [
    "# Wait for idle printer.\n",
    "result = await backend.moon.wait_for_idle_printer(timeout = 20.0)\n",
    "\n",
    "print(result)"
   ]
  },
  {
   "cell_type": "code",
   "execution_count": null,
   "metadata": {
    "tags": []
   },
   "outputs": [],
   "source": [
    "await backend.stop()"
   ]
  },
  {
   "attachments": {},
   "cell_type": "markdown",
   "metadata": {},
   "source": [
    "## Deck setup examples\n",
    "\n",
    "> Pipettin's deck has not been implemented yet. Default PLR examples follow."
   ]
  },
  {
   "attachments": {},
   "cell_type": "markdown",
   "metadata": {},
   "source": [
    "### Setup the Liquid Handler"
   ]
  },
  {
   "attachments": {},
   "cell_type": "markdown",
   "metadata": {},
   "source": [
    "Create a new liquid handler using `STAR` as its backend, and the hamilton \"deck\"."
   ]
  },
  {
   "cell_type": "code",
   "execution_count": null,
   "metadata": {},
   "outputs": [],
   "source": [
    "# Basic imports:\n",
    "from pprint import pprint, pformat\n",
    "# - liquid handler\n",
    "from pylabrobot.liquid_handling import LiquidHandler\n",
    "# - backend\n",
    "from pylabrobot.liquid_handling.backends.piper_backend import PiperBackend\n",
    "# - deck\n",
    "from pylabrobot.resources.hamilton import STARLetDeck\n",
    "\n",
    "backend = PiperBackend(verbose=False,\n",
    "                       mongo_url=None, # \"mongodb://192.168.11.39:27017/\",\n",
    "                       sio_address = \"http://localhost:3333\", # Pipettin GUI node server.\n",
    "                       ws_address = \"ws://localhost:7125/websocket\", # Moonraker server.\n",
    "                       dry = True, # Actions have no consequence.\n",
    "                       clearance=100.0 # TODO: get this from the deck's definition.\n",
    ")\n",
    "\n",
    "lh = LiquidHandler(backend=backend, deck=STARLetDeck())"
   ]
  },
  {
   "attachments": {},
   "cell_type": "markdown",
   "metadata": {},
   "source": [
    "The final step is to open communication with the robot. This is done using the {func}`~pylabrobot.liquid_handling.LiquidHandler.setup` method."
   ]
  },
  {
   "cell_type": "code",
   "execution_count": null,
   "metadata": {},
   "outputs": [],
   "source": [
    "await lh.setup()"
   ]
  },
  {
   "attachments": {},
   "cell_type": "markdown",
   "metadata": {},
   "source": [
    "### Define the deck's contents"
   ]
  },
  {
   "attachments": {},
   "cell_type": "markdown",
   "metadata": {},
   "source": [
    "\n",
    "Now that we have a `LiquidHandler` instance, we can define the deck layout.\n",
    "\n",
    "The layout in this tutorial will contain five sets of standard volume tips with filter, 1 set of 96 1mL wells, and tip and plate carriers on which these resources are positioned.\n",
    "\n",
    "Start by importing the relevant objects and variables from the PyHamilton package. This notebook uses the following resources:\n",
    "\n",
    "- {class}`~pylabrobot.resources.ml_star.tip_carriers.TIP_CAR_480_A00` tip carrier\n",
    "- {class}`~pylabrobot.resources.ml_star.plate_carriers.PLT_CAR_L5AC_A00` plate carrier\n",
    "- {class}`~pylabrobot.resources.corning_costar.plates.Cos_96_DW_1mL` wells\n",
    "- {class}`~pylabrobot.resources.ml_star.tip_racks.HTF_L` tips"
   ]
  },
  {
   "cell_type": "code",
   "execution_count": null,
   "metadata": {},
   "outputs": [],
   "source": [
    "from pylabrobot.resources import (\n",
    "    TIP_CAR_480_A00,\n",
    "    PLT_CAR_L5AC_A00,\n",
    "    Cos_96_DW_1mL,\n",
    "    HTF_L\n",
    ")"
   ]
  },
  {
   "attachments": {},
   "cell_type": "markdown",
   "metadata": {},
   "source": [
    "Then create a tip carrier named `tip carrier`, which will contain tip rack at all 5 positions. These positions can be accessed using `tip_car[x]`, and are 0 indexed."
   ]
  },
  {
   "cell_type": "code",
   "execution_count": null,
   "metadata": {},
   "outputs": [],
   "source": [
    "tip_car = TIP_CAR_480_A00(name='tip carrier')\n",
    "tip_car[0] = HTF_L(name='tips_01')"
   ]
  },
  {
   "attachments": {},
   "cell_type": "markdown",
   "metadata": {},
   "source": [
    "Use {func}`~pylabrobot.resources.abstract.assign_child_resources` to assign the tip carrier to the deck of the liquid handler. All resources contained by this carrier will be assigned automatically.\n",
    "\n",
    "In the `rails` parameter, we can pass the location of the tip carrier. The locations of the tips will automatically be calculated."
   ]
  },
  {
   "cell_type": "code",
   "execution_count": null,
   "metadata": {},
   "outputs": [],
   "source": [
    "lh.deck.assign_child_resource(tip_car, rails=3)"
   ]
  },
  {
   "attachments": {},
   "cell_type": "markdown",
   "metadata": {},
   "source": [
    "Repeat this for the plates."
   ]
  },
  {
   "cell_type": "code",
   "execution_count": null,
   "metadata": {},
   "outputs": [],
   "source": [
    "plt_car = PLT_CAR_L5AC_A00(name='plate carrier')\n",
    "plt_car[0] = Cos_96_DW_1mL(name='plate_01')"
   ]
  },
  {
   "cell_type": "code",
   "execution_count": null,
   "metadata": {},
   "outputs": [],
   "source": [
    "lh.deck.assign_child_resource(plt_car, rails=15)"
   ]
  },
  {
   "attachments": {},
   "cell_type": "markdown",
   "metadata": {},
   "source": [
    "Let's look at a summary of the deck layout using {func}`~pylabrobot.liquid_handling.LiquidHandler.summary`."
   ]
  },
  {
   "cell_type": "code",
   "execution_count": null,
   "metadata": {},
   "outputs": [],
   "source": [
    "lh.summary()"
   ]
  },
  {
   "attachments": {},
   "cell_type": "markdown",
   "metadata": {},
   "source": [
    "## Protocol actions\n",
    "\n",
    "> Default examples from PLR."
   ]
  },
  {
   "attachments": {},
   "cell_type": "markdown",
   "metadata": {},
   "source": [
    "### Picking up tips\n",
    "\n",
    "Picking up tips is as easy as querying the tips from the tiprack."
   ]
  },
  {
   "cell_type": "code",
   "execution_count": null,
   "metadata": {},
   "outputs": [],
   "source": [
    "tiprack = lh.get_resource(\"tips_01\")\n",
    "await lh.pick_up_tips(tiprack[\"A1\"])"
   ]
  },
  {
   "attachments": {},
   "cell_type": "markdown",
   "metadata": {},
   "source": [
    "### Aspirating and dispensing"
   ]
  },
  {
   "attachments": {},
   "cell_type": "markdown",
   "metadata": {},
   "source": [
    "Aspirating and dispensing work similarly to picking up tips: where you use booleans to specify which tips to pick up, with aspiration and dispensing you use floats to specify the volume to aspirate or dispense in $\\mu L$.\n",
    "\n",
    "The cells below move liquid from wells `'A1:C1'` to `'D1:F1'` using channels 1, 2, and 3 using the {func}`~pylabrobot.liquid_handling.LiquidHandler.aspirate` and {func}`~pylabrobot.liquid_handling.LiquidHandler.dispense` methods."
   ]
  },
  {
   "cell_type": "code",
   "execution_count": null,
   "metadata": {},
   "outputs": [],
   "source": [
    "plate = lh.get_resource(\"plate_01\")\n",
    "await lh.aspirate(plate[\"A1\"], vols=[100.0])"
   ]
  },
  {
   "attachments": {},
   "cell_type": "markdown",
   "metadata": {},
   "source": [
    "After the liquid has been aspirated, dispense it in the wells below. Note that while we specify different wells, we are still using the same channels. This is needed because only these channels contain liquid, of course."
   ]
  },
  {
   "cell_type": "code",
   "execution_count": null,
   "metadata": {},
   "outputs": [],
   "source": [
    "await lh.dispense(plate[\"D1\"], vols=[100.0])"
   ]
  },
  {
   "attachments": {},
   "cell_type": "markdown",
   "metadata": {},
   "source": [
    "Let's move the liquid back to the original wells."
   ]
  },
  {
   "cell_type": "code",
   "execution_count": null,
   "metadata": {},
   "outputs": [],
   "source": [
    "await lh.aspirate(plate[\"D1\"], vols=[100.0])\n",
    "await lh.dispense(plate[\"A1\"], vols=[100.0])"
   ]
  },
  {
   "attachments": {},
   "cell_type": "markdown",
   "metadata": {},
   "source": [
    "### Discarding tips\n",
    "\n",
    "Finally, you can discard tips by using the {func}`~pylabrobot.liquid_handling.LiquidHandler.discard_tips` method."
   ]
  },
  {
   "cell_type": "code",
   "execution_count": null,
   "metadata": {},
   "outputs": [],
   "source": [
    "await lh.discard_tips()"
   ]
  },
  {
   "attachments": {},
   "cell_type": "markdown",
   "metadata": {},
   "source": [
    "### Cleaning up"
   ]
  },
  {
   "cell_type": "code",
   "execution_count": null,
   "metadata": {},
   "outputs": [],
   "source": [
    "await lh.stop()"
   ]
  },
  {
   "cell_type": "code",
   "execution_count": null,
   "metadata": {},
   "outputs": [],
   "source": []
  }
 ],
 "metadata": {
  "kernelspec": {
   "display_name": "pylabrobot-venv",
   "language": "python",
   "name": "python3"
  },
  "language_info": {
   "codemirror_mode": {
    "name": "ipython",
    "version": 3
   },
   "file_extension": ".py",
   "mimetype": "text/x-python",
   "name": "python",
   "nbconvert_exporter": "python",
   "pygments_lexer": "ipython3",
   "version": "3.12.3"
  }
 },
 "nbformat": 4,
 "nbformat_minor": 4
}
