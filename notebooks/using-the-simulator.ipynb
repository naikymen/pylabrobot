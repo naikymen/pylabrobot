{
 "cells": [
  {
   "cell_type": "markdown",
   "id": "c3c71913",
   "metadata": {},
   "source": [
    "# Using the simulator\n",
    "\n",
    "In this notebook you will learn how to use the simulator to test out methods."
   ]
  },
  {
   "cell_type": "markdown",
   "id": "d6cdca52",
   "metadata": {},
   "source": [
    "## Setting up a connection with the robot\n",
    "\n",
    "As described in the [basic liquid handling tutorial](basic), we will use the {class}`~pylabrobot.liquid_handling.liquid_handler.LiquidHandler` class to control the robot. This time, however, instead of using the Hamilton {class}`~pylabrobot.liquid_handling.backends.hamilton.STAR` backend, we are using virtual the {class}`~pylabrobot.liquid_handling.backends.simulation.simulator_backend.SimulatorBackend` backend. This means that the liquid handling protocol will look exactly the same, but the commands are sent to the simulator instead of a real physical robot."
   ]
  },
  {
   "cell_type": "code",
   "execution_count": 1,
   "id": "7c5a2629",
   "metadata": {},
   "outputs": [],
   "source": [
    "from pylabrobot.liquid_handling import LiquidHandler\n",
    "from pylabrobot.liquid_handling.backends.simulation.simulator_backend import SimulatorBackend"
   ]
  },
  {
   "cell_type": "markdown",
   "id": "cc5b1b25",
   "metadata": {},
   "source": [
    "Again, we use the {class}`~pylabrobot.resources.hamilton.STARLetDeck`:"
   ]
  },
  {
   "cell_type": "code",
   "execution_count": 2,
   "id": "bfe831b6",
   "metadata": {},
   "outputs": [],
   "source": [
    "from pylabrobot.resources.hamilton import STARLetDeck"
   ]
  },
  {
   "cell_type": "markdown",
   "id": "d15fe52f",
   "metadata": {},
   "source": [
    "Instantiate the backend:"
   ]
  },
  {
   "cell_type": "code",
   "execution_count": 3,
   "id": "c19b3927",
   "metadata": {
    "scrolled": true
   },
   "outputs": [
    {
     "data": {
      "text/plain": [
       "['__abstractmethods__',\n",
       " '__class__',\n",
       " '__delattr__',\n",
       " '__dict__',\n",
       " '__dir__',\n",
       " '__doc__',\n",
       " '__enter__',\n",
       " '__eq__',\n",
       " '__exit__',\n",
       " '__format__',\n",
       " '__ge__',\n",
       " '__getattribute__',\n",
       " '__gt__',\n",
       " '__hash__',\n",
       " '__init__',\n",
       " '__init_subclass__',\n",
       " '__le__',\n",
       " '__lt__',\n",
       " '__module__',\n",
       " '__ne__',\n",
       " '__new__',\n",
       " '__reduce__',\n",
       " '__reduce_ex__',\n",
       " '__repr__',\n",
       " '__setattr__',\n",
       " '__sizeof__',\n",
       " '__str__',\n",
       " '__subclasshook__',\n",
       " '__weakref__',\n",
       " '_abc_impl',\n",
       " '_assemble_command',\n",
       " '_fst',\n",
       " '_generate_id',\n",
       " '_httpd',\n",
       " '_id',\n",
       " '_loop',\n",
       " '_num_channels',\n",
       " '_replay',\n",
       " '_run_file_server',\n",
       " '_sent_messages',\n",
       " '_socket_handler',\n",
       " '_stop_',\n",
       " '_t',\n",
       " '_websocket',\n",
       " 'adjust_well_volume',\n",
       " 'aspirate',\n",
       " 'aspirate96',\n",
       " 'assigned_resource_callback',\n",
       " 'clear_tips',\n",
       " 'deserialize',\n",
       " 'dispense',\n",
       " 'dispense96',\n",
       " 'drop_tips',\n",
       " 'drop_tips96',\n",
       " 'edit_tips',\n",
       " 'fill_tip_rack',\n",
       " 'fs_host',\n",
       " 'fs_port',\n",
       " 'fst',\n",
       " 'handle_event',\n",
       " 'has_connection',\n",
       " 'httpd',\n",
       " 'loop',\n",
       " 'move_channel_x',\n",
       " 'move_channel_y',\n",
       " 'move_channel_z',\n",
       " 'move_resource',\n",
       " 'num_channels',\n",
       " 'open_browser',\n",
       " 'pick_up_tips',\n",
       " 'pick_up_tips96',\n",
       " 'prepare_for_manual_channel_operation',\n",
       " 'received',\n",
       " 'send_command',\n",
       " 'serialize',\n",
       " 'setup',\n",
       " 'setup_finished',\n",
       " 'simulate_delay',\n",
       " 'stop',\n",
       " 'stop_',\n",
       " 'stop_event',\n",
       " 't',\n",
       " 'unassigned_resource_callback',\n",
       " 'wait_for_connection',\n",
       " 'websocket',\n",
       " 'ws_host',\n",
       " 'ws_port']"
      ]
     },
     "execution_count": 3,
     "metadata": {},
     "output_type": "execute_result"
    }
   ],
   "source": [
    "sb = SimulatorBackend()\n",
    "\n",
    "dir(sb)"
   ]
  },
  {
   "cell_type": "markdown",
   "id": "d40d394a",
   "metadata": {},
   "source": [
    "Instantiate the \"liquid handler\" class, by passing it the instantiated \"backend\", and an evaluated \"deck\" object."
   ]
  },
  {
   "cell_type": "code",
   "execution_count": 4,
   "id": "2e280caa",
   "metadata": {
    "scrolled": true
   },
   "outputs": [
    {
     "data": {
      "text/plain": [
       "['__class__',\n",
       " '__del__',\n",
       " '__delattr__',\n",
       " '__dict__',\n",
       " '__dir__',\n",
       " '__doc__',\n",
       " '__enter__',\n",
       " '__eq__',\n",
       " '__exit__',\n",
       " '__format__',\n",
       " '__ge__',\n",
       " '__getattribute__',\n",
       " '__gt__',\n",
       " '__hash__',\n",
       " '__init__',\n",
       " '__init_subclass__',\n",
       " '__le__',\n",
       " '__lt__',\n",
       " '__module__',\n",
       " '__ne__',\n",
       " '__new__',\n",
       " '__reduce__',\n",
       " '__reduce_ex__',\n",
       " '__repr__',\n",
       " '__setattr__',\n",
       " '__sizeof__',\n",
       " '__str__',\n",
       " '__subclasshook__',\n",
       " '__weakref__',\n",
       " '_assert_positions_unique',\n",
       " '_assert_resources_exist',\n",
       " '_check_args',\n",
       " '_picked_up_tips96',\n",
       " 'aspirate',\n",
       " 'aspirate_plate',\n",
       " 'backend',\n",
       " 'clear_head_state',\n",
       " 'deck',\n",
       " 'deserialize',\n",
       " 'discard_tips',\n",
       " 'dispense',\n",
       " 'dispense_plate',\n",
       " 'drop_tips',\n",
       " 'drop_tips96',\n",
       " 'get_resource',\n",
       " 'head',\n",
       " 'load',\n",
       " 'move_lid',\n",
       " 'move_plate',\n",
       " 'move_resource',\n",
       " 'pick_up_tips',\n",
       " 'pick_up_tips96',\n",
       " 'resource_assigned_callback',\n",
       " 'resource_unassigned_callback',\n",
       " 'return_tips',\n",
       " 'return_tips96',\n",
       " 'save',\n",
       " 'serialize',\n",
       " 'setup',\n",
       " 'setup_finished',\n",
       " 'stamp',\n",
       " 'stop',\n",
       " 'summary',\n",
       " 'transfer',\n",
       " 'unassign_resource',\n",
       " 'update_head_state']"
      ]
     },
     "execution_count": 4,
     "metadata": {},
     "output_type": "execute_result"
    }
   ],
   "source": [
    "dk = STARLetDeck()\n",
    "\n",
    "lh = LiquidHandler(backend=sb, deck=dk)\n",
    "\n",
    "dir(lh)"
   ]
  },
  {
   "cell_type": "markdown",
   "id": "30dcf4a1",
   "metadata": {},
   "source": [
    "Calling {func}`~pylabrobot.liquid_handling.backends.simulation.SimulatorBackend.setup` will set up the simulation server and open it in a new browser tab."
   ]
  },
  {
   "cell_type": "code",
   "execution_count": 5,
   "id": "1419f2b3",
   "metadata": {},
   "outputs": [
    {
     "name": "stdout",
     "output_type": "stream",
     "text": [
      "Simulation server started at http://127.0.0.1:2121\n",
      "File server started at http://127.0.0.1:1337. Open this URL in your browser.\n"
     ]
    },
    {
     "ename": "ValueError",
     "evalue": "Cannot wait for response when no websocket connection is established.",
     "output_type": "error",
     "traceback": [
      "\u001b[0;31m---------------------------------------------------------------------------\u001b[0m",
      "\u001b[0;31mValueError\u001b[0m                                Traceback (most recent call last)",
      "Cell \u001b[0;32mIn[5], line 1\u001b[0m\n\u001b[0;32m----> 1\u001b[0m \u001b[43mlh\u001b[49m\u001b[38;5;241;43m.\u001b[39;49m\u001b[43msetup\u001b[49m\u001b[43m(\u001b[49m\u001b[43m)\u001b[49m\n",
      "File \u001b[0;32m~/Projects/GOSH/gosh-col-dev/pylabrobot/pylabrobot/liquid_handling/liquid_handler.py:112\u001b[0m, in \u001b[0;36mLiquidHandler.setup\u001b[0;34m(self)\u001b[0m\n\u001b[1;32m    109\u001b[0m \u001b[38;5;28mself\u001b[39m\u001b[38;5;241m.\u001b[39mhead \u001b[38;5;241m=\u001b[39m {c: ChannelTipTracker() \u001b[38;5;28;01mfor\u001b[39;00m c \u001b[38;5;129;01min\u001b[39;00m \u001b[38;5;28mrange\u001b[39m(\u001b[38;5;28mself\u001b[39m\u001b[38;5;241m.\u001b[39mbackend\u001b[38;5;241m.\u001b[39mnum_channels)}\n\u001b[1;32m    111\u001b[0m \u001b[38;5;28;01mfor\u001b[39;00m resource \u001b[38;5;129;01min\u001b[39;00m \u001b[38;5;28mself\u001b[39m\u001b[38;5;241m.\u001b[39mdeck\u001b[38;5;241m.\u001b[39mchildren:\n\u001b[0;32m--> 112\u001b[0m   \u001b[38;5;28;43mself\u001b[39;49m\u001b[38;5;241;43m.\u001b[39;49m\u001b[43mresource_assigned_callback\u001b[49m\u001b[43m(\u001b[49m\u001b[43mresource\u001b[49m\u001b[43m)\u001b[49m\n",
      "File \u001b[0;32m~/Projects/GOSH/gosh-col-dev/pylabrobot/pylabrobot/liquid_handling/liquid_handler.py:148\u001b[0m, in \u001b[0;36mLiquidHandler.resource_assigned_callback\u001b[0;34m(self, resource)\u001b[0m\n\u001b[1;32m    147\u001b[0m \u001b[38;5;28;01mdef\u001b[39;00m \u001b[38;5;21mresource_assigned_callback\u001b[39m(\u001b[38;5;28mself\u001b[39m, resource: Resource):\n\u001b[0;32m--> 148\u001b[0m   \u001b[38;5;28;43mself\u001b[39;49m\u001b[38;5;241;43m.\u001b[39;49m\u001b[43mbackend\u001b[49m\u001b[38;5;241;43m.\u001b[39;49m\u001b[43massigned_resource_callback\u001b[49m\u001b[43m(\u001b[49m\u001b[43mresource\u001b[49m\u001b[43m)\u001b[49m\n",
      "File \u001b[0;32m~/Projects/GOSH/gosh-col-dev/pylabrobot/pylabrobot/liquid_handling/backends/serializing_backend.py:44\u001b[0m, in \u001b[0;36mSerializingBackend.assigned_resource_callback\u001b[0;34m(self, resource)\u001b[0m\n\u001b[1;32m     43\u001b[0m \u001b[38;5;28;01mdef\u001b[39;00m \u001b[38;5;21massigned_resource_callback\u001b[39m(\u001b[38;5;28mself\u001b[39m, resource: Resource):\n\u001b[0;32m---> 44\u001b[0m   \u001b[38;5;28;43mself\u001b[39;49m\u001b[38;5;241;43m.\u001b[39;49m\u001b[43msend_command\u001b[49m\u001b[43m(\u001b[49m\u001b[43mcommand\u001b[49m\u001b[38;5;241;43m=\u001b[39;49m\u001b[38;5;124;43m\"\u001b[39;49m\u001b[38;5;124;43mresource_assigned\u001b[39;49m\u001b[38;5;124;43m\"\u001b[39;49m\u001b[43m,\u001b[49m\u001b[43m \u001b[49m\u001b[43mdata\u001b[49m\u001b[38;5;241;43m=\u001b[39;49m\u001b[38;5;28;43mdict\u001b[39;49m\u001b[43m(\u001b[49m\u001b[43mresource\u001b[49m\u001b[38;5;241;43m=\u001b[39;49m\u001b[43mresource\u001b[49m\u001b[38;5;241;43m.\u001b[39;49m\u001b[43mserialize\u001b[49m\u001b[43m(\u001b[49m\u001b[43m)\u001b[49m\u001b[43m,\u001b[49m\n\u001b[1;32m     45\u001b[0m \u001b[43m    \u001b[49m\u001b[43mparent_name\u001b[49m\u001b[38;5;241;43m=\u001b[39;49m\u001b[43m(\u001b[49m\u001b[43mresource\u001b[49m\u001b[38;5;241;43m.\u001b[39;49m\u001b[43mparent\u001b[49m\u001b[38;5;241;43m.\u001b[39;49m\u001b[43mname\u001b[49m\u001b[43m \u001b[49m\u001b[38;5;28;43;01mif\u001b[39;49;00m\u001b[43m \u001b[49m\u001b[43mresource\u001b[49m\u001b[38;5;241;43m.\u001b[39;49m\u001b[43mparent\u001b[49m\u001b[43m \u001b[49m\u001b[38;5;28;43;01melse\u001b[39;49;00m\u001b[43m \u001b[49m\u001b[38;5;28;43;01mNone\u001b[39;49;00m\u001b[43m)\u001b[49m\u001b[43m)\u001b[49m\u001b[43m)\u001b[49m\n",
      "File \u001b[0;32m~/Projects/GOSH/gosh-col-dev/pylabrobot/pylabrobot/liquid_handling/backends/websocket.py:191\u001b[0m, in \u001b[0;36mWebSocketBackend.send_command\u001b[0;34m(self, command, data, wait_for_response)\u001b[0m\n\u001b[1;32m    189\u001b[0m \u001b[38;5;66;03m# Run and save if the websocket connection has been established, otherwise just save.\u001b[39;00m\n\u001b[1;32m    190\u001b[0m \u001b[38;5;28;01mif\u001b[39;00m wait_for_response \u001b[38;5;129;01mand\u001b[39;00m \u001b[38;5;129;01mnot\u001b[39;00m \u001b[38;5;28mself\u001b[39m\u001b[38;5;241m.\u001b[39mhas_connection():\n\u001b[0;32m--> 191\u001b[0m   \u001b[38;5;28;01mraise\u001b[39;00m \u001b[38;5;167;01mValueError\u001b[39;00m(\u001b[38;5;124m\"\u001b[39m\u001b[38;5;124mCannot wait for response when no websocket connection is established.\u001b[39m\u001b[38;5;124m\"\u001b[39m)\n\u001b[1;32m    193\u001b[0m \u001b[38;5;28;01mif\u001b[39;00m \u001b[38;5;28mself\u001b[39m\u001b[38;5;241m.\u001b[39mhas_connection():\n\u001b[1;32m    194\u001b[0m   asyncio\u001b[38;5;241m.\u001b[39mrun_coroutine_threadsafe(\u001b[38;5;28mself\u001b[39m\u001b[38;5;241m.\u001b[39mwebsocket\u001b[38;5;241m.\u001b[39msend(serialized_data), \u001b[38;5;28mself\u001b[39m\u001b[38;5;241m.\u001b[39mloop)\n",
      "\u001b[0;31mValueError\u001b[0m: Cannot wait for response when no websocket connection is established."
     ]
    }
   ],
   "source": [
    "lh.setup()"
   ]
  },
  {
   "cell_type": "markdown",
   "id": "15dd5a90",
   "metadata": {},
   "source": [
    "Call {func}`~pylabrobot.liquid_handling.backends.simulation.SimulatorBackend.wait_for_connection` to wait for the simulator to connect to the server. This may take a few seconds. (Be sure to open the file server link in the browser if it doesn't open automatically!)"
   ]
  },
  {
   "cell_type": "code",
   "execution_count": 6,
   "id": "62ead789",
   "metadata": {},
   "outputs": [
    {
     "name": "stdout",
     "output_type": "stream",
     "text": [
      "Done\n"
     ]
    }
   ],
   "source": [
    "sb.wait_for_connection()\n",
    "\n",
    "print(\"Done\")"
   ]
  },
  {
   "cell_type": "markdown",
   "id": "871184ce",
   "metadata": {},
   "source": [
    "For the optimal experience, we recommend that you run the notebook and simulator side by side."
   ]
  },
  {
   "cell_type": "markdown",
   "id": "3002429b",
   "metadata": {},
   "source": [
    "![The empty simulator](./img/simulator/empty.png)"
   ]
  },
  {
   "cell_type": "markdown",
   "id": "050ccefd",
   "metadata": {},
   "source": [
    "## Assigning plates and tips\n",
    "\n",
    "With the simulator, {func}`assigning resources <pylabrobot.resources.hamilton.STARLetDeck.assign_child_resource>` has the additional affect of placing the resources on the simulated deck. They will appear immediately."
   ]
  },
  {
   "cell_type": "code",
   "execution_count": 7,
   "id": "54736253",
   "metadata": {},
   "outputs": [],
   "source": [
    "from pylabrobot.resources import (\n",
    "  TIP_CAR_480_A00,\n",
    "  PLT_CAR_L5AC_A00,\n",
    "  Cos_96_DW_1mL,\n",
    "  STF_L\n",
    ")"
   ]
  },
  {
   "cell_type": "code",
   "execution_count": 8,
   "id": "23c07ba6",
   "metadata": {},
   "outputs": [],
   "source": [
    "tip_car = TIP_CAR_480_A00(name='tip carrier')\n",
    "for i in range(2):\n",
    "    tip_car[i] = STF_L(name=f'tip_rack_{i}')"
   ]
  },
  {
   "cell_type": "code",
   "execution_count": 9,
   "id": "cafa85b6",
   "metadata": {
    "scrolled": true
   },
   "outputs": [],
   "source": [
    "lh.deck.assign_child_resource(tip_car, rails=1, replace=True)"
   ]
  },
  {
   "cell_type": "markdown",
   "id": "27c1bc2e",
   "metadata": {},
   "source": [
    "When you set or delete subresources in a {class}`~pylabrobot.resources.abstract.Carrier`, that will immediately be reflected in the UI."
   ]
  },
  {
   "cell_type": "code",
   "execution_count": 10,
   "id": "628d9133",
   "metadata": {
    "scrolled": false
   },
   "outputs": [],
   "source": [
    "tip_car[2] = STF_L(name='tip_rack_2')"
   ]
  },
  {
   "cell_type": "code",
   "execution_count": 11,
   "id": "b8eedee6",
   "metadata": {},
   "outputs": [],
   "source": [
    "tip_car[3] = STF_L(name='tip_rack_3')"
   ]
  },
  {
   "cell_type": "code",
   "execution_count": 12,
   "id": "935a2c25",
   "metadata": {},
   "outputs": [],
   "source": [
    "del tip_car[3]"
   ]
  },
  {
   "cell_type": "code",
   "execution_count": 13,
   "id": "b753686a",
   "metadata": {},
   "outputs": [],
   "source": [
    "tip_car[4] = STF_L(name='tip_rack_4')"
   ]
  },
  {
   "cell_type": "code",
   "execution_count": 14,
   "id": "fdf9441f",
   "metadata": {},
   "outputs": [],
   "source": [
    "tip_car[4] = None"
   ]
  },
  {
   "cell_type": "code",
   "execution_count": 15,
   "id": "00c1c929",
   "metadata": {},
   "outputs": [],
   "source": [
    "tip_car[3] = None"
   ]
  },
  {
   "cell_type": "code",
   "execution_count": 16,
   "id": "953f2da1",
   "metadata": {},
   "outputs": [],
   "source": [
    "tip_car[3] = STF_L(name='tip_rack_3')"
   ]
  },
  {
   "cell_type": "code",
   "execution_count": 17,
   "id": "0c842523",
   "metadata": {},
   "outputs": [],
   "source": [
    "tip_car[4] = STF_L(name='tip_rack_4')"
   ]
  },
  {
   "cell_type": "code",
   "execution_count": 18,
   "id": "727936f3",
   "metadata": {},
   "outputs": [],
   "source": [
    "plt_car = PLT_CAR_L5AC_A00(name='plate carrier')\n",
    "for i in range(5):\n",
    "    plt_car[i] = Cos_96_DW_1mL(name=f'plate_{i}')"
   ]
  },
  {
   "cell_type": "code",
   "execution_count": 19,
   "id": "b676a360",
   "metadata": {},
   "outputs": [],
   "source": [
    "lh.deck.assign_child_resource(plt_car, rails=9, replace=True)"
   ]
  },
  {
   "cell_type": "markdown",
   "id": "21835f31",
   "metadata": {},
   "source": [
    "![The simulator after the resources have been assigned](./img/simulator/assignment.png)"
   ]
  },
  {
   "cell_type": "markdown",
   "id": "68a9721b",
   "metadata": {},
   "source": [
    "## Build the deck layout: placing resources\n",
    "\n",
    "Where you would manually place the resources like tips and liquid on the deck when using a physical system, with the Simulator you can add them using code."
   ]
  },
  {
   "cell_type": "markdown",
   "id": "daf99520",
   "metadata": {},
   "source": [
    "### Tips\n",
    "\n",
    "Let's {func}`~pylabrobot.liquid_handling.backends.simulation.SimulatorBackend.edit_tips` the tip racks to place tips. You can also use this method to remove tips."
   ]
  },
  {
   "cell_type": "code",
   "execution_count": 20,
   "id": "ca3152d0",
   "metadata": {},
   "outputs": [],
   "source": [
    "tip_rack_0 = lh.get_resource(\"tip_rack_0\")\n",
    "sb.fill_tip_rack(tip_rack_0)"
   ]
  },
  {
   "cell_type": "code",
   "execution_count": 21,
   "id": "346c8e43",
   "metadata": {},
   "outputs": [],
   "source": [
    "tip_rack_1 = lh.get_resource(\"tip_rack_1\")\n",
    "sb.fill_tip_rack(tip_rack_1)"
   ]
  },
  {
   "cell_type": "code",
   "execution_count": 22,
   "id": "8f574b8d",
   "metadata": {},
   "outputs": [],
   "source": [
    "tip_rack_2 = lh.get_resource(\"tip_rack_2\")\n",
    "sb.edit_tips(tip_rack_2, pattern=[[True, True, False, False]*3]*8)"
   ]
  },
  {
   "cell_type": "code",
   "execution_count": 23,
   "id": "8e1ed1e6",
   "metadata": {},
   "outputs": [],
   "source": [
    "tip_rack_3 = lh.get_resource(\"tip_rack_3\")\n",
    "sb.edit_tips(tip_rack_3, pattern=[[True, False]*6]*8)"
   ]
  },
  {
   "cell_type": "code",
   "execution_count": 24,
   "id": "0f9a5c0e",
   "metadata": {},
   "outputs": [],
   "source": [
    "tip_rack_4 = lh.get_resource(\"tip_rack_4\")\n",
    "sb.edit_tips(tip_rack_4, pattern=[[True]*6 + [False]*6]*8)"
   ]
  },
  {
   "cell_type": "markdown",
   "id": "594d8016",
   "metadata": {},
   "source": [
    "### Liquids\n",
    "\n",
    "Adding liquid to wells works similarly. You can use {func}`~pylabrobot.liquid_handling.backends.simulation.SimulatorBackend.adjust_well_volume` to adjust the volume of individual wells in each resource. Note that the opacity of the well matches the volume of the well."
   ]
  },
  {
   "cell_type": "code",
   "execution_count": 25,
   "id": "3cf87c52",
   "metadata": {},
   "outputs": [],
   "source": [
    "plate_2 = lh.get_resource(\"plate_2\")\n",
    "sb.adjust_well_volume(plate_2, pattern=[[100, 800]*6]*8)"
   ]
  },
  {
   "cell_type": "code",
   "execution_count": 26,
   "id": "5b76aac2",
   "metadata": {},
   "outputs": [],
   "source": [
    "plate_1 = lh.get_resource(\"plate_1\")\n",
    "sb.adjust_well_volume(plate_1, pattern=[[1000]*12]*8)"
   ]
  },
  {
   "cell_type": "code",
   "execution_count": 27,
   "id": "205e2625",
   "metadata": {},
   "outputs": [],
   "source": [
    "plate_0 = lh.get_resource(\"plate_0\")\n",
    "sb.adjust_well_volume(plate_0, pattern=[[0]*12]*8)"
   ]
  },
  {
   "cell_type": "markdown",
   "id": "66a27cfc",
   "metadata": {},
   "source": [
    "![Simulator after the tips have been placed and the volumes adjusted](./img/simulator/resources.png)"
   ]
  },
  {
   "cell_type": "markdown",
   "id": "27af93d8",
   "metadata": {},
   "source": [
    "## Liquid handling\n",
    "\n",
    "Once the layout is complete, you can run the same commands as described in the [basic liquid handling tutorial](basic)."
   ]
  },
  {
   "cell_type": "markdown",
   "id": "21c3f2cd",
   "metadata": {},
   "source": [
    "### Picking up tips"
   ]
  },
  {
   "cell_type": "code",
   "execution_count": 28,
   "id": "f97eadd4",
   "metadata": {},
   "outputs": [],
   "source": [
    "lh.pick_up_tips(tip_rack_0[\"A1:C1\"])"
   ]
  },
  {
   "cell_type": "code",
   "execution_count": 29,
   "id": "bf46e476",
   "metadata": {},
   "outputs": [
    {
     "ename": "KeyError",
     "evalue": "TipSpot(name=tip_rack_0_tipspot_0_0, location=(007.200, 068.300, -50.500), size_x=9.0, size_y=9.0, size_z=0, category=tip_spot)",
     "output_type": "error",
     "traceback": [
      "\u001b[0;31m---------------------------------------------------------------------------\u001b[0m",
      "\u001b[0;31mKeyError\u001b[0m                                  Traceback (most recent call last)",
      "Cell \u001b[0;32mIn[29], line 1\u001b[0m\n\u001b[0;32m----> 1\u001b[0m \u001b[43mlh\u001b[49m\u001b[38;5;241;43m.\u001b[39;49m\u001b[43mdiscard_tips\u001b[49m\u001b[43m(\u001b[49m\u001b[43mtip_rack_0\u001b[49m\u001b[43m[\u001b[49m\u001b[38;5;124;43m\"\u001b[39;49m\u001b[38;5;124;43mA1:C1\u001b[39;49m\u001b[38;5;124;43m\"\u001b[39;49m\u001b[43m]\u001b[49m\u001b[43m)\u001b[49m\n",
      "File \u001b[0;32m~/Projects/GOSH/gosh-col-dev/pylabrobot/pylabrobot/liquid_handling/liquid_handler.py:518\u001b[0m, in \u001b[0;36mLiquidHandler.discard_tips\u001b[0;34m(self, use_channels, **backend_kwargs)\u001b[0m\n\u001b[1;32m    515\u001b[0m offsets \u001b[38;5;241m=\u001b[39m trash\u001b[38;5;241m.\u001b[39mget_2d_center_offsets(n\u001b[38;5;241m=\u001b[39mn)\n\u001b[1;32m    516\u001b[0m offsets \u001b[38;5;241m=\u001b[39m \u001b[38;5;28mlist\u001b[39m(\u001b[38;5;28mreversed\u001b[39m(offsets))\n\u001b[0;32m--> 518\u001b[0m \u001b[38;5;28;01mreturn\u001b[39;00m \u001b[38;5;28;43mself\u001b[39;49m\u001b[38;5;241;43m.\u001b[39;49m\u001b[43mdrop_tips\u001b[49m\u001b[43m(\u001b[49m\n\u001b[1;32m    519\u001b[0m \u001b[43m    \u001b[49m\u001b[43mtip_spots\u001b[49m\u001b[38;5;241;43m=\u001b[39;49m\u001b[43m[\u001b[49m\u001b[43mtrash\u001b[49m\u001b[43m]\u001b[49m\u001b[38;5;241;43m*\u001b[39;49m\u001b[43mn\u001b[49m\u001b[43m,\u001b[49m\n\u001b[1;32m    520\u001b[0m \u001b[43m    \u001b[49m\u001b[43muse_channels\u001b[49m\u001b[38;5;241;43m=\u001b[39;49m\u001b[43muse_channels\u001b[49m\u001b[43m,\u001b[49m\n\u001b[1;32m    521\u001b[0m \u001b[43m    \u001b[49m\u001b[43moffsets\u001b[49m\u001b[38;5;241;43m=\u001b[39;49m\u001b[43moffsets\u001b[49m\u001b[43m,\u001b[49m\n\u001b[1;32m    522\u001b[0m \u001b[43m    \u001b[49m\u001b[38;5;241;43m*\u001b[39;49m\u001b[38;5;241;43m*\u001b[39;49m\u001b[43mbackend_kwargs\u001b[49m\u001b[43m)\u001b[49m\n",
      "File \u001b[0;32m~/Projects/GOSH/gosh-col-dev/pylabrobot/pylabrobot/liquid_handling/liquid_handler.py:61\u001b[0m, in \u001b[0;36mneed_setup_finished.<locals>.wrapper\u001b[0;34m(self, *args, **kwargs)\u001b[0m\n\u001b[1;32m     59\u001b[0m \u001b[38;5;28;01mif\u001b[39;00m \u001b[38;5;129;01mnot\u001b[39;00m \u001b[38;5;28mself\u001b[39m\u001b[38;5;241m.\u001b[39msetup_finished:\n\u001b[1;32m     60\u001b[0m   \u001b[38;5;28;01mraise\u001b[39;00m \u001b[38;5;167;01mRuntimeError\u001b[39;00m(\u001b[38;5;124m\"\u001b[39m\u001b[38;5;124mThe setup has not finished. See `LiquidHandler.setup`.\u001b[39m\u001b[38;5;124m\"\u001b[39m)\n\u001b[0;32m---> 61\u001b[0m \u001b[43mfunc\u001b[49m\u001b[43m(\u001b[49m\u001b[38;5;28;43mself\u001b[39;49m\u001b[43m,\u001b[49m\u001b[43m \u001b[49m\u001b[38;5;241;43m*\u001b[39;49m\u001b[43margs\u001b[49m\u001b[43m,\u001b[49m\u001b[43m \u001b[49m\u001b[38;5;241;43m*\u001b[39;49m\u001b[38;5;241;43m*\u001b[39;49m\u001b[43mkwargs\u001b[49m\u001b[43m)\u001b[49m\n",
      "File \u001b[0;32m~/Projects/GOSH/gosh-col-dev/pylabrobot/pylabrobot/liquid_handling/liquid_handler.py:417\u001b[0m, in \u001b[0;36mLiquidHandler.drop_tips\u001b[0;34m(self, tip_spots, use_channels, offsets, allow_nonzero_volume, **backend_kwargs)\u001b[0m\n\u001b[1;32m    415\u001b[0m tips \u001b[38;5;241m=\u001b[39m []\n\u001b[1;32m    416\u001b[0m \u001b[38;5;28;01mfor\u001b[39;00m channel \u001b[38;5;129;01min\u001b[39;00m use_channels:\n\u001b[0;32m--> 417\u001b[0m   tip \u001b[38;5;241m=\u001b[39m \u001b[38;5;28;43mself\u001b[39;49m\u001b[38;5;241;43m.\u001b[39;49m\u001b[43mhead\u001b[49m\u001b[43m[\u001b[49m\u001b[43mchannel\u001b[49m\u001b[43m]\u001b[49m\u001b[38;5;241m.\u001b[39mget_tip()\n\u001b[1;32m    418\u001b[0m   \u001b[38;5;28;01mif\u001b[39;00m tip \u001b[38;5;129;01mis\u001b[39;00m \u001b[38;5;28;01mNone\u001b[39;00m:\n\u001b[1;32m    419\u001b[0m     \u001b[38;5;28;01mraise\u001b[39;00m ChannelHasNoTipError(channel)\n",
      "\u001b[0;31mKeyError\u001b[0m: TipSpot(name=tip_rack_0_tipspot_0_0, location=(007.200, 068.300, -50.500), size_x=9.0, size_y=9.0, size_z=0, category=tip_spot)"
     ]
    }
   ],
   "source": [
    "lh.discard_tips(tip_rack_0[\"A1:C1\"])"
   ]
  },
  {
   "cell_type": "markdown",
   "id": "5c6948b2",
   "metadata": {},
   "source": [
    "### Aspirating and dispensing"
   ]
  },
  {
   "cell_type": "code",
   "execution_count": 30,
   "id": "947977c7",
   "metadata": {},
   "outputs": [
    {
     "ename": "TipSpotHasNoTipError",
     "evalue": "Tip spot has no tip.",
     "output_type": "error",
     "traceback": [
      "\u001b[0;31m---------------------------------------------------------------------------\u001b[0m",
      "\u001b[0;31mTipSpotHasNoTipError\u001b[0m                      Traceback (most recent call last)",
      "Cell \u001b[0;32mIn[30], line 1\u001b[0m\n\u001b[0;32m----> 1\u001b[0m \u001b[43mlh\u001b[49m\u001b[38;5;241;43m.\u001b[39;49m\u001b[43mpick_up_tips\u001b[49m\u001b[43m(\u001b[49m\u001b[43mtip_rack_0\u001b[49m\u001b[43m[\u001b[49m\u001b[38;5;124;43m\"\u001b[39;49m\u001b[38;5;124;43mA1\u001b[39;49m\u001b[38;5;124;43m\"\u001b[39;49m\u001b[43m]\u001b[49m\u001b[43m)\u001b[49m\n",
      "File \u001b[0;32m~/Projects/GOSH/gosh-col-dev/pylabrobot/pylabrobot/liquid_handling/liquid_handler.py:61\u001b[0m, in \u001b[0;36mneed_setup_finished.<locals>.wrapper\u001b[0;34m(self, *args, **kwargs)\u001b[0m\n\u001b[1;32m     59\u001b[0m \u001b[38;5;28;01mif\u001b[39;00m \u001b[38;5;129;01mnot\u001b[39;00m \u001b[38;5;28mself\u001b[39m\u001b[38;5;241m.\u001b[39msetup_finished:\n\u001b[1;32m     60\u001b[0m   \u001b[38;5;28;01mraise\u001b[39;00m \u001b[38;5;167;01mRuntimeError\u001b[39;00m(\u001b[38;5;124m\"\u001b[39m\u001b[38;5;124mThe setup has not finished. See `LiquidHandler.setup`.\u001b[39m\u001b[38;5;124m\"\u001b[39m)\n\u001b[0;32m---> 61\u001b[0m \u001b[43mfunc\u001b[49m\u001b[43m(\u001b[49m\u001b[38;5;28;43mself\u001b[39;49m\u001b[43m,\u001b[49m\u001b[43m \u001b[49m\u001b[38;5;241;43m*\u001b[39;49m\u001b[43margs\u001b[49m\u001b[43m,\u001b[49m\u001b[43m \u001b[49m\u001b[38;5;241;43m*\u001b[39;49m\u001b[38;5;241;43m*\u001b[39;49m\u001b[43mkwargs\u001b[49m\u001b[43m)\u001b[49m\n",
      "File \u001b[0;32m~/Projects/GOSH/gosh-col-dev/pylabrobot/pylabrobot/liquid_handling/liquid_handler.py:328\u001b[0m, in \u001b[0;36mLiquidHandler.pick_up_tips\u001b[0;34m(self, tip_spots, use_channels, offsets, **backend_kwargs)\u001b[0m\n\u001b[1;32m    326\u001b[0m tips: List[Tip] \u001b[38;5;241m=\u001b[39m []\n\u001b[1;32m    327\u001b[0m \u001b[38;5;28;01mfor\u001b[39;00m tip_spot \u001b[38;5;129;01min\u001b[39;00m tip_spots:\n\u001b[0;32m--> 328\u001b[0m   tips\u001b[38;5;241m.\u001b[39mappend(\u001b[43mtip_spot\u001b[49m\u001b[38;5;241;43m.\u001b[39;49m\u001b[43mget_tip\u001b[49m\u001b[43m(\u001b[49m\u001b[43m)\u001b[49m)\n\u001b[1;32m    330\u001b[0m pickups \u001b[38;5;241m=\u001b[39m [Pickup(resource\u001b[38;5;241m=\u001b[39mtip_spot, offset\u001b[38;5;241m=\u001b[39moffset, tip\u001b[38;5;241m=\u001b[39mtip)\n\u001b[1;32m    331\u001b[0m            \u001b[38;5;28;01mfor\u001b[39;00m tip_spot, offset, tip \u001b[38;5;129;01min\u001b[39;00m \u001b[38;5;28mzip\u001b[39m(tip_spots, offsets, tips)]\n\u001b[1;32m    333\u001b[0m \u001b[38;5;28;01mfor\u001b[39;00m channel, op \u001b[38;5;129;01min\u001b[39;00m \u001b[38;5;28mzip\u001b[39m(use_channels, pickups):\n",
      "File \u001b[0;32m~/Projects/GOSH/gosh-col-dev/pylabrobot/pylabrobot/resources/abstract/tip_rack.py:49\u001b[0m, in \u001b[0;36mTipSpot.get_tip\u001b[0;34m(self)\u001b[0m\n\u001b[1;32m     46\u001b[0m \u001b[38;5;28;01mif\u001b[39;00m \u001b[38;5;129;01mnot\u001b[39;00m \u001b[38;5;28mself\u001b[39m\u001b[38;5;241m.\u001b[39mtracker\u001b[38;5;241m.\u001b[39mhas_tip \u001b[38;5;129;01mand\u001b[39;00m \u001b[38;5;129;01mnot\u001b[39;00m tracks:\n\u001b[1;32m     47\u001b[0m   \u001b[38;5;28mself\u001b[39m\u001b[38;5;241m.\u001b[39mtracker\u001b[38;5;241m.\u001b[39mset_tip(\u001b[38;5;28mself\u001b[39m\u001b[38;5;241m.\u001b[39mmake_tip())\n\u001b[0;32m---> 49\u001b[0m \u001b[38;5;28;01mreturn\u001b[39;00m \u001b[38;5;28;43mself\u001b[39;49m\u001b[38;5;241;43m.\u001b[39;49m\u001b[43mtracker\u001b[49m\u001b[38;5;241;43m.\u001b[39;49m\u001b[43mget_tip\u001b[49m\u001b[43m(\u001b[49m\u001b[43m)\u001b[49m\n",
      "File \u001b[0;32m~/Projects/GOSH/gosh-col-dev/pylabrobot/pylabrobot/liquid_handling/tip_tracker.py:173\u001b[0m, in \u001b[0;36mSpotTipTracker.get_tip\u001b[0;34m(self)\u001b[0m\n\u001b[1;32m    171\u001b[0m \u001b[38;5;28;01mdef\u001b[39;00m \u001b[38;5;21mget_tip\u001b[39m(\u001b[38;5;28mself\u001b[39m) \u001b[38;5;241m-\u001b[39m\u001b[38;5;241m>\u001b[39m \u001b[38;5;124m\"\u001b[39m\u001b[38;5;124mTip\u001b[39m\u001b[38;5;124m\"\u001b[39m:\n\u001b[1;32m    172\u001b[0m   \u001b[38;5;28;01mif\u001b[39;00m \u001b[38;5;28mself\u001b[39m\u001b[38;5;241m.\u001b[39m_tip \u001b[38;5;129;01mis\u001b[39;00m \u001b[38;5;28;01mNone\u001b[39;00m:\n\u001b[0;32m--> 173\u001b[0m     \u001b[38;5;28;01mraise\u001b[39;00m TipSpotHasNoTipError(\u001b[38;5;124m\"\u001b[39m\u001b[38;5;124mTip spot has no tip.\u001b[39m\u001b[38;5;124m\"\u001b[39m)\n\u001b[1;32m    174\u001b[0m   \u001b[38;5;28;01mreturn\u001b[39;00m \u001b[38;5;28mself\u001b[39m\u001b[38;5;241m.\u001b[39m_tip\n",
      "\u001b[0;31mTipSpotHasNoTipError\u001b[0m: Tip spot has no tip."
     ]
    }
   ],
   "source": [
    "lh.pick_up_tips(tip_rack_0[\"A1\"])"
   ]
  },
  {
   "cell_type": "code",
   "execution_count": null,
   "id": "c25a147f",
   "metadata": {},
   "outputs": [],
   "source": [
    "lh.aspirate(plate_2[\"A2\"], vols=[300])"
   ]
  },
  {
   "cell_type": "code",
   "execution_count": null,
   "id": "e86428ea",
   "metadata": {},
   "outputs": [],
   "source": [
    "plate_4 = lh.get_resource(\"plate_4\")\n",
    "lh.dispense(plate_4[\"A2\"], vols=[300])"
   ]
  },
  {
   "cell_type": "code",
   "execution_count": null,
   "id": "70117e04",
   "metadata": {},
   "outputs": [],
   "source": [
    "lh.discard_tips(tip_rack_0[\"A1\"])"
   ]
  },
  {
   "cell_type": "markdown",
   "id": "8a8b3d59",
   "metadata": {},
   "source": [
    "### Aspirating using CoRe 96\n",
    "\n",
    "The CoRe 96 head supports liquid handling operations for 96 channels at once. Here's how to use:\n",
    "\n",
    "- {func}`~pylabrobot.liquid_handling.LiquidHandler.pick_up_tips_96` for picking up 96 tips;\n",
    "- {func}`~pylabrobot.liquid_handling.LiquidHandler.aspirate_plate` for aspirating liquid from the deck, where the `pattern` array controls which wells are aspirated from;\n",
    "- {func}`~pylabrobot.liquid_handling.LiquidHandler.dispense_plate` for dispensing liquid to the deck, where the `pattern` array controls which wells are dispensed to, and;\n",
    "- {func}`~pylabrobot.liquid_handling.LiquidHandler.discard_tips96` for discarding tips to the resource.\n"
   ]
  },
  {
   "cell_type": "code",
   "execution_count": null,
   "id": "b8c5706d",
   "metadata": {},
   "outputs": [],
   "source": [
    "lh.pick_up_tips96(tip_rack_0)"
   ]
  },
  {
   "cell_type": "code",
   "execution_count": null,
   "id": "c09144c9",
   "metadata": {},
   "outputs": [],
   "source": [
    "lh.aspirate_plate(plate_1, volume=400)"
   ]
  },
  {
   "cell_type": "code",
   "execution_count": null,
   "id": "2ba711bb",
   "metadata": {},
   "outputs": [],
   "source": [
    "lh.dispense_plate(plate_0, volume=400)"
   ]
  },
  {
   "cell_type": "code",
   "execution_count": null,
   "id": "59d3dae1",
   "metadata": {},
   "outputs": [],
   "source": [
    "lh.aspirate_plate(plate_1, volume=400)"
   ]
  },
  {
   "cell_type": "code",
   "execution_count": null,
   "id": "f506c35c",
   "metadata": {},
   "outputs": [],
   "source": [
    "lh.dispense_plate(plate_0, volume=400)"
   ]
  },
  {
   "cell_type": "code",
   "execution_count": null,
   "id": "6d205ea7",
   "metadata": {},
   "outputs": [],
   "source": [
    "lh.discard_tips96(tip_rack_0)"
   ]
  },
  {
   "cell_type": "markdown",
   "id": "9cc77505",
   "metadata": {},
   "source": [
    "![The simulator after the liquid handling operations completed](./img/simulator/after_lh.png)"
   ]
  },
  {
   "cell_type": "markdown",
   "id": "e49020a5",
   "metadata": {},
   "source": [
    "## Shutting down\n",
    "\n",
    "When you're done, remember to shut down the simulator by calling {func}`~pylabrobot.liquid_handling.LiquidHandler.stop`."
   ]
  },
  {
   "cell_type": "code",
   "execution_count": null,
   "id": "44a61431",
   "metadata": {},
   "outputs": [],
   "source": [
    "lh.stop()"
   ]
  },
  {
   "cell_type": "code",
   "execution_count": null,
   "id": "e1ef4650",
   "metadata": {},
   "outputs": [],
   "source": []
  }
 ],
 "metadata": {
  "kernelspec": {
   "display_name": "plr_env",
   "language": "python",
   "name": "plr_env"
  },
  "language_info": {
   "codemirror_mode": {
    "name": "ipython",
    "version": 3
   },
   "file_extension": ".py",
   "mimetype": "text/x-python",
   "name": "python",
   "nbconvert_exporter": "python",
   "pygments_lexer": "ipython3",
   "version": "3.10.9"
  },
  "vscode": {
   "interpreter": {
    "hash": "bf274dfc1b974177267b6b8fba8543eeb0bb4c5d64c637dde420829b05625268"
   }
  }
 },
 "nbformat": 4,
 "nbformat_minor": 5
}
