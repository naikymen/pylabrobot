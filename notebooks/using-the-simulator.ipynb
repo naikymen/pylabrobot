{
  "cells": [
    {
      "cell_type": "markdown",
      "id": "c3c71913",
      "metadata": {},
      "source": [
        "# Using the simulator\n",
        "\n",
        "In this notebook you will learn how to use the simulator to test out methods."
      ]
    },
    {
      "cell_type": "markdown",
      "id": "d6cdca52",
      "metadata": {},
      "source": [
        "## Setting up a connection with the robot\n",
        "\n",
        "As described in the [basic liquid handling tutorial](basic), we will use the {class}`~pylabrobot.liquid_handling.liquid_handler.LiquidHandler` class to control the robot. This time, however, instead of using the Hamilton {class}`~pylabrobot.liquid_handling.backends.hamilton.STAR` backend, we are using virtual the {class}`~pylabrobot.liquid_handling.backends.simulation.simulator_backend.SimulatorBackend` backend. This means that the liquid handling protocol will look exactly the same, but the commands are sent to the simulator instead of a real physical robot."
      ]
    },
    {
      "cell_type": "code",
      "execution_count": 1,
      "id": "7c5a2629",
      "metadata": {},
      "outputs": [],
      "source": [
        "from pylabrobot.liquid_handling import LiquidHandler\n",
        "from pylabrobot.liquid_handling.backends.simulation.simulator_backend import SimulatorBackend"
      ]
    },
    {
      "cell_type": "markdown",
      "id": "cc5b1b25",
      "metadata": {},
      "source": [
        "Again, we use the {class}`~pylabrobot.resources.hamilton.STARLetDeck`:"
      ]
    },
    {
      "cell_type": "code",
      "execution_count": 2,
      "id": "bfe831b6",
      "metadata": {},
      "outputs": [],
      "source": [
        "from pylabrobot.resources.hamilton import STARLetDeck"
      ]
    },
    {
      "cell_type": "code",
      "execution_count": 3,
      "id": "2e280caa",
      "metadata": {},
      "outputs": [],
      "source": [
        "sb = SimulatorBackend()\n",
        "lh = LiquidHandler(backend=sb, deck=STARLetDeck())"
      ]
    },
    {
      "cell_type": "markdown",
      "id": "30dcf4a1",
      "metadata": {},
      "source": [
        "Calling {func}`~pylabrobot.liquid_handling.backends.simulation.SimulatorBackend.setup` will set up the simulation server and open it in a new browser tab."
      ]
    },
    {
      "cell_type": "code",
      "execution_count": 4,
      "id": "1419f2b3",
      "metadata": {},
      "outputs": [
        {
          "name": "stdout",
          "output_type": "stream",
          "text": [
            "Simulation server started at http://127.0.0.1:2121\n",
            "File server started at http://127.0.0.1:1337. Open this URL in your browser.\n"
          ]
        }
      ],
      "source": [
        "lh.setup()"
      ]
    },
    {
      "cell_type": "markdown",
      "id": "15dd5a90",
      "metadata": {},
      "source": [
        "Call {func}`~pylabrobot.liquid_handling.backends.simulation.SimulatorBackend.wait_for_connection` to wait for the simulator to connect to the server. This may take a few seconds. (Be sure to open the file server link in the browser if it doesn't open automatically!)"
      ]
    },
    {
      "cell_type": "code",
      "execution_count": 5,
      "id": "62ead789",
      "metadata": {},
      "outputs": [],
      "source": [
        "sb.wait_for_connection()"
      ]
    },
    {
      "cell_type": "markdown",
      "id": "871184ce",
      "metadata": {},
      "source": [
        "For the optimal experience, we recommend that you run the notebook and simulator side by side."
      ]
    },
    {
      "cell_type": "markdown",
      "id": "3002429b",
      "metadata": {},
      "source": [
        "![The empty simulator](./img/simulator/empty.png)"
      ]
    },
    {
      "cell_type": "markdown",
      "id": "050ccefd",
      "metadata": {},
      "source": [
        "## Assigning plates and tips\n",
        "\n",
        "With the simulator, {func}`assigning resources <pylabrobot.resources.hamilton.STARLetDeck.assign_child_resource>` has the additional affect of placing the resources on the simulated deck. They will appear immediately."
      ]
    },
    {
      "cell_type": "code",
      "execution_count": 6,
      "id": "54736253",
      "metadata": {},
      "outputs": [],
      "source": [
        "from pylabrobot.resources import (\n",
        "  TIP_CAR_480_A00,\n",
        "  PLT_CAR_L5AC_A00,\n",
        "  Cos_96_DW_1mL,\n",
        "  STF_L\n",
        ")"
      ]
    },
    {
      "cell_type": "code",
      "execution_count": 7,
      "id": "23c07ba6",
      "metadata": {},
      "outputs": [],
      "source": [
        "tip_car = TIP_CAR_480_A00(name='tip carrier')\n",
        "for i in range(2):\n",
        "    tip_car[i] = STF_L(name=f'tip_rack_{i}')"
      ]
    },
    {
      "cell_type": "code",
      "execution_count": 8,
      "id": "cafa85b6",
      "metadata": {
        "scrolled": true
      },
      "outputs": [],
      "source": [
        "lh.deck.assign_child_resource(tip_car, rails=1, replace=True)"
      ]
    },
    {
      "cell_type": "markdown",
      "id": "27c1bc2e",
      "metadata": {},
      "source": [
        "When you set or delete subresources in a {class}`~pylabrobot.resources.abstract.Carrier`, that will immediately be reflected in the UI."
      ]
    },
    {
      "cell_type": "code",
      "execution_count": 9,
      "id": "628d9133",
      "metadata": {
        "scrolled": false
      },
      "outputs": [],
      "source": [
        "tip_car[2] = STF_L(name='tip_rack_2')"
      ]
    },
    {
      "cell_type": "code",
      "execution_count": 10,
      "id": "b8eedee6",
      "metadata": {},
      "outputs": [],
      "source": [
        "tip_car[3] = STF_L(name='tip_rack_3')"
      ]
    },
    {
      "cell_type": "code",
      "execution_count": 11,
      "id": "935a2c25",
      "metadata": {},
      "outputs": [],
      "source": [
        "del tip_car[3]"
      ]
    },
    {
      "cell_type": "code",
      "execution_count": 12,
      "id": "b753686a",
      "metadata": {},
      "outputs": [],
      "source": [
        "tip_car[4] = STF_L(name='tip_rack_4')"
      ]
    },
    {
      "cell_type": "code",
      "execution_count": 13,
      "id": "fdf9441f",
      "metadata": {},
      "outputs": [],
      "source": [
        "tip_car[4] = None"
      ]
    },
    {
      "cell_type": "code",
      "execution_count": 14,
      "id": "00c1c929",
      "metadata": {},
      "outputs": [],
      "source": [
        "tip_car[3] = None"
      ]
    },
    {
      "cell_type": "code",
      "execution_count": 15,
      "id": "953f2da1",
      "metadata": {},
      "outputs": [],
      "source": [
        "tip_car[3] = STF_L(name='tip_rack_3')"
      ]
    },
    {
      "cell_type": "code",
      "execution_count": 16,
      "id": "0c842523",
      "metadata": {},
      "outputs": [],
      "source": [
        "tip_car[4] = STF_L(name='tip_rack_4')"
      ]
    },
    {
      "cell_type": "code",
      "execution_count": 17,
      "id": "727936f3",
      "metadata": {},
      "outputs": [],
      "source": [
        "plt_car = PLT_CAR_L5AC_A00(name='plate carrier')\n",
        "for i in range(5):\n",
        "    plt_car[i] = Cos_96_DW_1mL(name=f'plate_{i}')"
      ]
    },
    {
      "cell_type": "code",
      "execution_count": 18,
      "id": "b676a360",
      "metadata": {},
      "outputs": [],
      "source": [
        "lh.deck.assign_child_resource(plt_car, rails=9, replace=True)"
      ]
    },
    {
      "cell_type": "markdown",
      "id": "21835f31",
      "metadata": {},
      "source": [
        "![The simulator after the resources have been assigned](./img/simulator/assignment.png)"
      ]
    },
    {
      "cell_type": "markdown",
      "id": "68a9721b",
      "metadata": {},
      "source": [
        "## Build the deck layout: placing resources\n",
        "\n",
        "Where you would manually place the resources like tips and liquid on the deck when using a physical system, with the Simulator you can add them using code."
      ]
    },
    {
      "cell_type": "markdown",
      "id": "daf99520",
      "metadata": {},
      "source": [
        "### Tips\n",
        "\n",
        "Let's {func}`~pylabrobot.liquid_handling.backends.simulation.SimulatorBackend.edit_tips` the tip racks to place tips. You can also use this method to remove tips."
      ]
    },
    {
      "cell_type": "code",
      "execution_count": 19,
      "id": "ca3152d0",
      "metadata": {},
      "outputs": [],
      "source": [
        "tip_rack_0 = lh.get_resource(\"tip_rack_0\")\n",
        "sb.fill_tip_rack(tip_rack_0)"
      ]
    },
    {
      "cell_type": "code",
      "execution_count": 20,
      "id": "346c8e43",
      "metadata": {},
      "outputs": [],
      "source": [
        "tip_rack_1 = lh.get_resource(\"tip_rack_1\")\n",
        "sb.fill_tip_rack(tip_rack_1)"
      ]
    },
    {
      "cell_type": "code",
      "execution_count": 21,
      "id": "8f574b8d",
      "metadata": {},
      "outputs": [],
      "source": [
        "tip_rack_2 = lh.get_resource(\"tip_rack_2\")\n",
        "sb.edit_tips(tip_rack_2, pattern=[[True, True, False, False]*3]*8)"
      ]
    },
    {
      "cell_type": "code",
      "execution_count": 22,
      "id": "8e1ed1e6",
      "metadata": {},
      "outputs": [],
      "source": [
        "tip_rack_3 = lh.get_resource(\"tip_rack_3\")\n",
        "sb.edit_tips(tip_rack_3, pattern=[[True, False]*6]*8)"
      ]
    },
    {
      "cell_type": "code",
      "execution_count": 23,
      "id": "0f9a5c0e",
      "metadata": {},
      "outputs": [],
      "source": [
        "tip_rack_4 = lh.get_resource(\"tip_rack_4\")\n",
        "sb.edit_tips(tip_rack_4, pattern=[[True]*6 + [False]*6]*8)"
      ]
    },
    {
      "cell_type": "markdown",
      "id": "594d8016",
      "metadata": {},
      "source": [
        "### Liquids\n",
        "\n",
        "Adding liquid to wells works similarly. You can use {func}`~pylabrobot.liquid_handling.backends.simulation.SimulatorBackend.adjust_well_volume` to adjust the volume of individual wells in each resource. Note that the opacity of the well matches the volume of the well."
      ]
    },
    {
      "cell_type": "code",
      "execution_count": 24,
      "id": "3cf87c52",
      "metadata": {},
      "outputs": [],
      "source": [
        "plate_2 = lh.get_resource(\"plate_2\")\n",
        "sb.adjust_well_volume(plate_2, pattern=[[100, 800]*6]*8)"
      ]
    },
    {
      "cell_type": "code",
      "execution_count": 25,
      "id": "5b76aac2",
      "metadata": {},
      "outputs": [],
      "source": [
        "plate_1 = lh.get_resource(\"plate_1\")\n",
        "sb.adjust_well_volume(plate_1, pattern=[[1000]*12]*8)"
      ]
    },
    {
      "cell_type": "code",
      "execution_count": 26,
      "id": "205e2625",
      "metadata": {},
      "outputs": [],
      "source": [
        "plate_0 = lh.get_resource(\"plate_0\")\n",
        "sb.adjust_well_volume(plate_0, pattern=[[0]*12]*8)"
      ]
    },
    {
      "cell_type": "markdown",
      "id": "66a27cfc",
      "metadata": {},
      "source": [
        "![Simulator after the tips have been placed and the volumes adjusted](./img/simulator/resources.png)"
      ]
    },
    {
      "cell_type": "markdown",
      "id": "27af93d8",
      "metadata": {},
      "source": [
        "## Liquid handling\n",
        "\n",
        "Once the layout is complete, you can run the same commands as described in the [basic liquid handling tutorial](basic)."
      ]
    },
    {
      "cell_type": "markdown",
      "id": "21c3f2cd",
      "metadata": {},
      "source": [
        "### Picking up tips"
      ]
    },
    {
      "cell_type": "code",
      "execution_count": 27,
      "id": "f97eadd4",
      "metadata": {},
      "outputs": [],
      "source": [
        "lh.pick_up_tips(tip_rack_0[\"A1:C1\"])"
      ]
    },
    {
      "cell_type": "code",
      "execution_count": 28,
      "id": "bf46e476",
      "metadata": {},
      "outputs": [],
      "source": [
        "lh.discard_tips(tip_rack_0[\"A1:C1\"])"
      ]
    },
    {
      "cell_type": "markdown",
      "id": "5c6948b2",
      "metadata": {},
      "source": [
        "### Aspirating and dispensing"
      ]
    },
    {
      "cell_type": "code",
      "execution_count": 29,
      "id": "947977c7",
      "metadata": {},
      "outputs": [],
      "source": [
        "lh.pick_up_tips(tip_rack_0[\"A1\"])"
      ]
    },
    {
      "cell_type": "code",
      "execution_count": 30,
      "id": "c25a147f",
      "metadata": {},
      "outputs": [],
      "source": [
        "lh.aspirate(plate_2[\"A2\"], vols=[300])"
      ]
    },
    {
      "cell_type": "code",
      "execution_count": 31,
      "id": "e86428ea",
      "metadata": {},
      "outputs": [],
      "source": [
        "plate_4 = lh.get_resource(\"plate_4\")\n",
        "lh.dispense(plate_4[\"A2\"], vols=[300])"
      ]
    },
    {
      "cell_type": "code",
      "execution_count": 32,
      "id": "70117e04",
      "metadata": {},
      "outputs": [],
      "source": [
        "lh.discard_tips(tip_rack_0[\"A1\"])"
      ]
    },
    {
      "cell_type": "markdown",
      "id": "8a8b3d59",
      "metadata": {},
      "source": [
        "### Aspirating using CoRe 96\n",
        "\n",
        "The CoRe 96 head supports liquid handling operations for 96 channels at once. Here's how to use:\n",
        "\n",
        "- {func}`~pylabrobot.liquid_handling.LiquidHandler.pick_up_tips_96` for picking up 96 tips;\n",
        "- {func}`~pylabrobot.liquid_handling.LiquidHandler.aspirate_plate` for aspirating liquid from the deck, where the `pattern` array controls which wells are aspirated from;\n",
        "- {func}`~pylabrobot.liquid_handling.LiquidHandler.dispense_plate` for dispensing liquid to the deck, where the `pattern` array controls which wells are dispensed to, and;\n",
        "- {func}`~pylabrobot.liquid_handling.LiquidHandler.discard_tips96` for discarding tips to the resource.\n"
      ]
    },
    {
      "cell_type": "code",
      "execution_count": 33,
      "id": "b8c5706d",
      "metadata": {},
      "outputs": [],
      "source": [
        "lh.pick_up_tips96(tip_rack_0)"
      ]
    },
    {
      "cell_type": "code",
      "execution_count": 34,
      "id": "c09144c9",
      "metadata": {},
      "outputs": [],
      "source": [
        "lh.aspirate_plate(plate_1, volume=400)"
      ]
    },
    {
      "cell_type": "code",
      "execution_count": 35,
      "id": "2ba711bb",
      "metadata": {},
      "outputs": [],
      "source": [
        "lh.dispense_plate(plate_0, volume=400)"
      ]
    },
    {
      "cell_type": "code",
      "execution_count": 36,
      "id": "59d3dae1",
      "metadata": {},
      "outputs": [],
      "source": [
        "lh.aspirate_plate(plate_1, volume=400)"
      ]
    },
    {
      "cell_type": "code",
      "execution_count": 37,
      "id": "f506c35c",
      "metadata": {},
      "outputs": [],
      "source": [
        "lh.dispense_plate(plate_0, volume=400)"
      ]
    },
    {
      "cell_type": "code",
      "execution_count": 38,
      "id": "6d205ea7",
      "metadata": {},
      "outputs": [],
      "source": [
        "lh.discard_tips96(tip_rack_0)"
      ]
    },
    {
      "cell_type": "markdown",
      "id": "9cc77505",
      "metadata": {},
      "source": [
        "![The simulator after the liquid handling operations completed](./img/simulator/after_lh.png)"
      ]
    },
    {
      "cell_type": "markdown",
      "id": "e49020a5",
      "metadata": {},
      "source": [
        "## Shutting down\n",
        "\n",
        "When you're done, remember to shut down the simulator by calling {func}`~pylabrobot.liquid_handling.LiquidHandler.stop`."
      ]
    },
    {
      "cell_type": "code",
      "execution_count": 39,
      "id": "44a61431",
      "metadata": {},
      "outputs": [],
      "source": [
        "lh.stop()"
      ]
    },
    {
      "cell_type": "code",
      "execution_count": null,
      "id": "e1ef4650",
      "metadata": {},
      "outputs": [],
      "source": []
    }
  ],
  "metadata": {
    "kernelspec": {
      "display_name": "Python 3.9.13 ('env': venv)",
      "language": "python",
      "name": "python3"
    },
    "language_info": {
      "codemirror_mode": {
        "name": "ipython",
        "version": 3
      },
      "file_extension": ".py",
      "mimetype": "text/x-python",
      "name": "python",
      "nbconvert_exporter": "python",
      "pygments_lexer": "ipython3",
      "version": "3.10.8"
    },
    "vscode": {
      "interpreter": {
        "hash": "bf274dfc1b974177267b6b8fba8543eeb0bb4c5d64c637dde420829b05625268"
      }
    }
  },
  "nbformat": 4,
  "nbformat_minor": 5
}
