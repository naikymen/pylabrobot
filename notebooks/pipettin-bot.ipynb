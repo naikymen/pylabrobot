{
    "cells": [
        {
            "cell_type": "markdown",
            "metadata": {},
            "source": [
                "# Setup\n"
            ]
        },
        {
            "cell_type": "code",
            "execution_count": 1,
            "metadata": {},
            "outputs": [],
            "source": [
                "from pylabrobot.resources import set_tip_tracking, set_volume_tracking\n",
                "\n",
                "# We enable tip and volume tracking globally using the `set_volume_tracking` and `set_tip_tracking` methods.\n",
                "set_volume_tracking(enabled=True)\n",
                "set_tip_tracking(enabled=True)"
            ]
        },
        {
            "cell_type": "code",
            "execution_count": 2,
            "metadata": {},
            "outputs": [],
            "source": [
                "from pylabrobot.liquid_handling.backends.piper_backend import PiperBackend\n",
                "import logging\n",
                "\n",
                "# 10.1.0.4\n",
                "# 192.168.11.221\n",
                "\n",
                "config = {\n",
                "  \"dry\": True, \"verbose\": True,\n",
                "  \"ws_address\": \"\", \"sio_address\": \"\",\n",
                "  # \"ws_address\": \"ws://localhost:7125/websocket\",\n",
                "  # \"sio_address\": \"http://localhost:3333\",\n",
                "  # \"loglevel\": 3,\n",
                "  # \"verbose\": True\n",
                "  \"datatools\": \"mongo\",\n",
                "  \"database\": {\n",
                "    \"database_url\": 'localhost:27017',\n",
                "    # \"env_file\": \"~/pipettin-bot/code/pipettin-gui/.env\",\n",
                "    \"database_name\": 'pipettin'\n",
                "  }\n",
                "}\n",
                "\n",
                "back = PiperBackend(config=config)"
            ]
        },
        {
            "cell_type": "code",
            "execution_count": null,
            "metadata": {},
            "outputs": [],
            "source": [
                "from pylabrobot.resources.pipettin import SilverDeck\n",
                "\n",
                "# Instantiate the SilverDeck.\n",
                "deck = SilverDeck(config=config, workspace_name=\"Experiment\")\n",
                "deck.summary()"
            ]
        },
        {
            "cell_type": "code",
            "execution_count": null,
            "metadata": {},
            "outputs": [],
            "source": [
                "from pylabrobot.liquid_handling import LiquidHandler\n",
                "\n",
                "lh = LiquidHandler(backend=back, deck=deck)\n",
                "\n",
                "await lh.setup()"
            ]
        },
        {
            "cell_type": "code",
            "execution_count": null,
            "metadata": {},
            "outputs": [],
            "source": [
                "await back._home_machine()"
            ]
        },
        {
            "cell_type": "markdown",
            "metadata": {},
            "source": [
                "# Send commands"
            ]
        },
        {
            "cell_type": "code",
            "execution_count": null,
            "metadata": {},
            "outputs": [],
            "source": [
                "tip_rack = deck.get_resource(\"Blue tip rack\")\n",
                "\n",
                "tip_rack.print_grid()"
            ]
        },
        {
            "cell_type": "code",
            "execution_count": null,
            "metadata": {},
            "outputs": [],
            "source": [
                "back.channels"
            ]
        },
        {
            "cell_type": "code",
            "execution_count": null,
            "metadata": {},
            "outputs": [],
            "source": [
                "pickups = await lh.pick_up_tips(tip_rack[\"A3\"], use_channels=back.channels.PMULTI)"
            ]
        },
        {
            "cell_type": "code",
            "execution_count": 2,
            "metadata": {},
            "outputs": [],
            "source": [
                "# TODO: Chequear que piper esté usando el tip que le pasé."
            ]
        },
        {
            "cell_type": "code",
            "execution_count": null,
            "metadata": {},
            "outputs": [],
            "source": [
                "tube_rack = deck[\"Tube Rack [5x16]\"]\n",
                "\n",
                "aspirations = await lh.aspirate(tube_rack[\"A1\"], vols=[100], use_channels=back.channels.PMULTI)"
            ]
        },
        {
            "cell_type": "code",
            "execution_count": null,
            "metadata": {},
            "outputs": [],
            "source": [
                "well_plate = deck[\"Standard 384-well plate\"]\n",
                "\n",
                "for well in well_plate[\"B2:B7\"]:\n",
                "  dispenses = await lh.dispense([well], vols=[15], use_channels=back.channels.PMULTI)"
            ]
        },
        {
            "cell_type": "code",
            "execution_count": null,
            "metadata": {},
            "outputs": [],
            "source": [
                "trash = deck[\"Tall Trash\"]\n",
                "\n",
                "await lh.drop_tips([trash], use_channels=back.channels.PMULTI, allow_nonzero_volume=True)"
            ]
        },
        {
            "cell_type": "markdown",
            "metadata": {},
            "source": [
                "# Close"
            ]
        },
        {
            "cell_type": "code",
            "execution_count": null,
            "metadata": {},
            "outputs": [],
            "source": [
                "await lh.stop()"
            ]
        },
        {
            "cell_type": "code",
            "execution_count": null,
            "metadata": {},
            "outputs": [],
            "source": []
        }
    ],
    "metadata": {
        "kernelspec": {
            "display_name": ".venv",
            "language": "python",
            "name": "python3"
        },
        "language_info": {
            "codemirror_mode": {
                "name": "ipython",
                "version": 3
            },
            "file_extension": ".py",
            "mimetype": "text/x-python",
            "name": "python",
            "nbconvert_exporter": "python",
            "pygments_lexer": "ipython3",
            "version": "3.13.1"
        }
    },
    "nbformat": 4,
    "nbformat_minor": 2
}
