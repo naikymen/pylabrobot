{
 "cells": [
  {
   "cell_type": "markdown",
   "metadata": {},
   "source": [
    "# Setup\n"
   ]
  },
  {
   "cell_type": "code",
   "execution_count": 1,
   "metadata": {},
   "outputs": [],
   "source": [
    "from pylabrobot.liquid_handling.backends.piper_backend import PiperBackend\n",
    "import logging\n",
    "\n",
    "back = PiperBackend(config={\n",
    "  \"dry\": True,\n",
    "  # \"ws_address\": \"\",\n",
    "  # \"ws_address\": \"ws://192.168.10.181:7125/websocket\",\n",
    "  \"ws_address\": \"ws://10.1.0.4:7125/websocket\",\n",
    "  \"sio_address\": \"http://10.1.0.4:3333\",\n",
    "  # \"loglevel\": 3,\n",
    "  # \"verbose\": True\n",
    "  \"datatools\": \"mongo\",\n",
    "  \"database\": {\n",
    "    \"mongo_url\": 'mongodb://10.1.0.4:27017/',\n",
    "    \"database_name\": 'pipettin-2024-09-26'\n",
    "  }\n",
    "})"
   ]
  },
  {
   "cell_type": "code",
   "execution_count": null,
   "metadata": {},
   "outputs": [],
   "source": [
    "from pylabrobot.resources.pipettin import SilverDeck\n",
    "\n",
    "# Instantiate and empty SilverDeck.\n",
    "deck = SilverDeck(\n",
    "  workspace=back.database_tools.getWorkspaceByName(\"Experiment 2024-09-27\"),\n",
    "  platforms=back.database_tools.platforms,\n",
    "  containers=back.database_tools.containers,\n",
    "  tools=back.database_tools.tools,\n",
    "  subset_platforms=False\n",
    ")\n",
    "deck.summary()"
   ]
  },
  {
   "cell_type": "code",
   "execution_count": null,
   "metadata": {},
   "outputs": [],
   "source": [
    "from pylabrobot.liquid_handling import LiquidHandler\n",
    "\n",
    "lh = LiquidHandler(backend=back, deck=deck)\n",
    "\n",
    "await lh.setup()"
   ]
  },
  {
   "cell_type": "code",
   "execution_count": null,
   "metadata": {},
   "outputs": [],
   "source": [
    "await back._home_machine()"
   ]
  },
  {
   "cell_type": "markdown",
   "metadata": {},
   "source": [
    "# Send commands"
   ]
  },
  {
   "cell_type": "code",
   "execution_count": null,
   "metadata": {},
   "outputs": [],
   "source": [
    "tip_rack = deck.get_resource(\"Blue tip rack\")\n",
    "\n",
    "pickups = await lh.pick_up_tips(tip_rack[\"A1\"], use_channels=[1])"
   ]
  },
  {
   "cell_type": "code",
   "execution_count": null,
   "metadata": {},
   "outputs": [],
   "source": [
    "tube_rack = deck[\"Tube Rack [5x16]\"]\n",
    "\n",
    "aspirations = await lh.aspirate(tube_rack[\"A1\"], vols=[100], use_channels=[1])"
   ]
  },
  {
   "cell_type": "code",
   "execution_count": null,
   "metadata": {},
   "outputs": [],
   "source": [
    "well_plate = deck[\"Standard 384-well plate\"]\n",
    "\n",
    "for well in well_plate[\"B2:B7\"]:\n",
    "  dispenses = await lh.dispense([well], vols=[15], use_channels=[1])"
   ]
  },
  {
   "cell_type": "code",
   "execution_count": 2,
   "metadata": {},
   "outputs": [],
   "source": [
    "# TODO: Chequear que piper esté usando el tip que le pasé."
   ]
  },
  {
   "cell_type": "code",
   "execution_count": null,
   "metadata": {},
   "outputs": [],
   "source": [
    "await lh.stop()"
   ]
  },
  {
   "cell_type": "code",
   "execution_count": null,
   "metadata": {},
   "outputs": [],
   "source": [
    "well_plate[\"B2:B7\"]"
   ]
  },
  {
   "cell_type": "code",
   "execution_count": null,
   "metadata": {},
   "outputs": [],
   "source": []
  }
 ],
 "metadata": {
  "kernelspec": {
   "display_name": ".venv",
   "language": "python",
   "name": "python3"
  },
  "language_info": {
   "codemirror_mode": {
    "name": "ipython",
    "version": 3
   },
   "file_extension": ".py",
   "mimetype": "text/x-python",
   "name": "python",
   "nbconvert_exporter": "python",
   "pygments_lexer": "ipython3",
   "version": "3.12.6"
  }
 },
 "nbformat": 4,
 "nbformat_minor": 2
}
