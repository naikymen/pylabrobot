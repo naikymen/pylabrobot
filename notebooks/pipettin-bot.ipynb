{
 "cells": [
  {
   "cell_type": "markdown",
   "metadata": {},
   "source": [
    "# Setup\n"
   ]
  },
  {
   "cell_type": "code",
   "execution_count": 1,
   "metadata": {},
   "outputs": [],
   "source": [
    "from pylabrobot.liquid_handling.backends.piper_backend import PiperBackend\n",
    "import logging\n",
    "\n",
    "back = PiperBackend(config={\n",
    "  \"dry\": True,\n",
    "  # \"ws_address\": \"\",\n",
    "  # \"ws_address\": \"ws://192.168.10.181:7125/websocket\",\n",
    "  \"ws_address\": \"ws://10.1.0.4:7125/websocket\",\n",
    "  \"sio_address\": \"\",\n",
    "  \"loglevel\": 3,\n",
    "  \"verbose\": True})"
   ]
  },
  {
   "cell_type": "code",
   "execution_count": 2,
   "metadata": {},
   "outputs": [],
   "source": [
    "from pylabrobot.resources.pipettin import make_silver\n",
    "\n",
    "# Instantiate and empty SilverDeck.\n",
    "deck = make_silver()"
   ]
  },
  {
   "cell_type": "code",
   "execution_count": null,
   "metadata": {},
   "outputs": [],
   "source": [
    "from pylabrobot.liquid_handling import LiquidHandler\n",
    "\n",
    "lh = LiquidHandler(backend=back, deck=deck)\n",
    "\n",
    "await lh.setup()"
   ]
  },
  {
   "cell_type": "markdown",
   "metadata": {},
   "source": [
    "# Send commands"
   ]
  },
  {
   "cell_type": "code",
   "execution_count": null,
   "metadata": {},
   "outputs": [],
   "source": [
    "tip_rack = deck.get_resource(\"Blue tip rack 1\")\n",
    "\n",
    "pickups = await lh.pick_up_tips(tip_rack[\"A1\"], use_channels=[0])"
   ]
  },
  {
   "cell_type": "code",
   "execution_count": null,
   "metadata": {},
   "outputs": [],
   "source": [
    "tube_rack = deck[\"Tube Rack [5x16] 1\"]\n",
    "\n",
    "aspirations = await lh.aspirate(tube_rack[\"A1\"], vols=[100], use_channels=[0])"
   ]
  },
  {
   "cell_type": "code",
   "execution_count": 2,
   "metadata": {},
   "outputs": [],
   "source": [
    "# TODO: Chequear que piper esté usando el tip que le pasé."
   ]
  },
  {
   "cell_type": "code",
   "execution_count": null,
   "metadata": {},
   "outputs": [],
   "source": [
    "await lh.stop()"
   ]
  },
  {
   "cell_type": "code",
   "execution_count": null,
   "metadata": {},
   "outputs": [],
   "source": []
  }
 ],
 "metadata": {
  "kernelspec": {
   "display_name": ".venv",
   "language": "python",
   "name": "python3"
  },
  "language_info": {
   "codemirror_mode": {
    "name": "ipython",
    "version": 3
   },
   "file_extension": ".py",
   "mimetype": "text/x-python",
   "name": "python",
   "nbconvert_exporter": "python",
   "pygments_lexer": "ipython3",
   "version": "3.12.6"
  }
 },
 "nbformat": 4,
 "nbformat_minor": 2
}
