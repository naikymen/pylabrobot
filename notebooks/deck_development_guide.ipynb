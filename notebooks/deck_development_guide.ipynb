{
 "cells": [
  {
   "cell_type": "markdown",
   "metadata": {},
   "source": [
    "# Agnostic methods for liquid handling\n"
   ]
  },
  {
   "cell_type": "markdown",
   "metadata": {},
   "source": [
    "## Setting up "
   ]
  },
  {
   "cell_type": "markdown",
   "metadata": {},
   "source": [
    "Check if the correct environment is in use:"
   ]
  },
  {
   "cell_type": "code",
   "execution_count": null,
   "metadata": {},
   "outputs": [],
   "source": [
    "!echo $VIRTUAL_ENV\n",
    "\n",
    "import os, sys\n",
    "print(\"Current working directory: \" + os.getcwd())\n",
    "print(\"Using python: \" + sys.executable)"
   ]
  },
  {
   "cell_type": "markdown",
   "metadata": {},
   "source": [
    "To install PLR from a local repository, run the following from the repository's directory:"
   ]
  },
  {
   "cell_type": "code",
   "execution_count": null,
   "metadata": {},
   "outputs": [],
   "source": [
    "# Note that adding \"fw\" will install some required dependencies. A plain \".\" will not.\n",
    "%pip install .[fw]"
   ]
  },
  {
   "cell_type": "markdown",
   "metadata": {},
   "source": [
    "?"
   ]
  },
  {
   "cell_type": "code",
   "execution_count": 7,
   "metadata": {},
   "outputs": [],
   "source": [
    "%load_ext autoreload\n",
    "%autoreload 2"
   ]
  },
  {
   "cell_type": "markdown",
   "metadata": {},
   "source": [
    "Basic imports:"
   ]
  },
  {
   "cell_type": "code",
   "execution_count": 8,
   "metadata": {},
   "outputs": [],
   "source": [
    "# Basic imports:\n",
    "# - liquid handler\n",
    "from pylabrobot.liquid_handling import LiquidHandler\n",
    "# - backend\n",
    "from pylabrobot.liquid_handling.backends import STAR\n",
    "# - deck\n",
    "from pylabrobot.resources.hamilton import STARLetDeck"
   ]
  },
  {
   "cell_type": "markdown",
   "metadata": {},
   "source": [
    "## Writing a custom deck"
   ]
  },
  {
   "cell_type": "code",
   "execution_count": 9,
   "metadata": {},
   "outputs": [],
   "source": [
    "import textwrap\n",
    "from typing import Optional, Callable\n",
    "\n",
    "from pylabrobot.resources import Coordinate, Deck, Trash\n",
    "\n",
    "\n",
    "class SilverDeck(Deck):\n",
    "  \"\"\" (Ag)nostic deck object.\n",
    "\n",
    "  Boilerplate code written by Rick: https://forums.pylabrobot.org/t/writing-a-new-backend-agnosticity/844/16\n",
    "  \"\"\"\n",
    "\n",
    "  def __init__(self,\n",
    "               name: str= \"silver_deck\",\n",
    "               # TODO: Update default size.\n",
    "               size_x: float = 250,\n",
    "               size_y: float = 350,\n",
    "               size_z: float = 200,\n",
    "               resource_assigned_callback: Optional[Callable] = None,\n",
    "               resource_unassigned_callback: Optional[Callable] = None,\n",
    "               # TODO: Update default origin.\n",
    "               origin: Coordinate = Coordinate(0, 0, 0),\n",
    "               # TODO: Update default trash location.\n",
    "               trash_location: Coordinate = Coordinate(x=82.84, y=53.56, z=5),\n",
    "               no_trash: bool = False):\n",
    "\n",
    "    # Run init from the base Deck class.\n",
    "    super().__init__(\n",
    "      name=name,\n",
    "      size_x=size_x, size_y=size_y, size_z=size_z,\n",
    "      resource_assigned_callback=resource_assigned_callback,\n",
    "      resource_unassigned_callback=resource_unassigned_callback,\n",
    "      origin=origin)\n",
    "\n",
    "    # TODO: write your init code, for example assign a \"trash\" resource:\n",
    "    if not no_trash:\n",
    "      self._assign_trash(location=trash_location)\n",
    "\n",
    "  def _assign_trash(self, location: Coordinate):\n",
    "    \"\"\" Assign the trash area to the deck. \"\"\"\n",
    "\n",
    "    trash = Trash(\n",
    "      name=\"trash\",\n",
    "      # TODO: Update default dimensions.\n",
    "      size_x=80,\n",
    "      size_y=120,\n",
    "      size_z=50\n",
    "    )\n",
    "\n",
    "    self.assign_child_resource(trash, location=location)\n",
    "\n",
    "  def summary(self) -> str:\n",
    "    \"\"\" Get a summary of the deck.\n",
    "\n",
    "    >>> print(deck.summary())\n",
    "\n",
    "    TODO: <write some printable ascii representation of the deck's current layout>\n",
    "    \"\"\"\n",
    "\n",
    "    return textwrap.dedent(f\"\"\"\\\n",
    "      +---------------------+\n",
    "      |                     |\n",
    "      |        TODO         |\n",
    "      |                     |\n",
    "      +---------------------+\n",
    "    \"\"\")\n"
   ]
  },
  {
   "cell_type": "markdown",
   "metadata": {},
   "source": [
    "Instantiate a new deck object:"
   ]
  },
  {
   "cell_type": "code",
   "execution_count": null,
   "metadata": {},
   "outputs": [],
   "source": [
    "deck = SilverDeck(name=\"basic deck 1\")"
   ]
  },
  {
   "cell_type": "markdown",
   "metadata": {},
   "source": [
    "Stuff can be added to the deck, which in PLR jargon is the same as \"assigning a child resource\" to the deck.\n",
    "\n",
    "This is typically accomplished by calling `assign_child_resource`, a method from the Resource class,\n",
    "which is also the baseclass for Deck.\n",
    "\n",
    "This means that our deck has a list of resources, which are considered children of the deck resource:"
   ]
  },
  {
   "cell_type": "code",
   "execution_count": null,
   "metadata": {},
   "outputs": [],
   "source": [
    "deck.children"
   ]
  },
  {
   "cell_type": "markdown",
   "metadata": {},
   "source": [
    "Lets add another resource, a well plate:"
   ]
  },
  {
   "cell_type": "code",
   "execution_count": null,
   "metadata": {},
   "outputs": [],
   "source": [
    "# Import the resource class\n",
    "from pylabrobot.resources import Cos_96_DW_1mL, LTF_L\n",
    "\n",
    "# Create an instance\n",
    "well_plate = Cos_96_DW_1mL(name='plate_01')\n",
    "tip_rack = LTF_L(name=\"tip rack 1\")"
   ]
  },
  {
   "cell_type": "markdown",
   "metadata": {},
   "source": [
    "Note that the well plate is also a resource, and also has children. Lets print the first five children, and realize that it has been populated with \"Well\" type resources:"
   ]
  },
  {
   "cell_type": "code",
   "execution_count": null,
   "metadata": {},
   "outputs": [],
   "source": [
    "well_plate.children[:5]"
   ]
  },
  {
   "cell_type": "markdown",
   "metadata": {},
   "source": [
    "Likewise, the tip rack has been populated with \"tip spot\" resources, where tips can be placed."
   ]
  },
  {
   "cell_type": "code",
   "execution_count": null,
   "metadata": {},
   "outputs": [],
   "source": [
    "tip_rack.children[:3]"
   ]
  },
  {
   "cell_type": "markdown",
   "metadata": {},
   "source": [
    "The tip spots on the rack can be filled with tips:"
   ]
  },
  {
   "cell_type": "code",
   "execution_count": null,
   "metadata": {},
   "outputs": [],
   "source": [
    "# tip_rack.fill()"
   ]
  },
  {
   "cell_type": "markdown",
   "metadata": {},
   "source": [
    "Now we will assign the well plate resource as a child of our deck resource using `assign_child_resource`.\n",
    "\n",
    "The `assign_child_resource` function inherited from base `Resource` class accepts an optional `location` parameter, with type `Coordinate` (another type of PLR object). If passed, it is used to override the `location` attribute of the Resource we want to add.\n",
    "\n",
    " Lets have a look:"
   ]
  },
  {
   "cell_type": "code",
   "execution_count": null,
   "metadata": {},
   "outputs": [],
   "source": [
    "# Note that the well has no default location.\n",
    "print(well_plate.location)"
   ]
  },
  {
   "cell_type": "code",
   "execution_count": null,
   "metadata": {},
   "outputs": [],
   "source": [
    "# Since some robots have \"slots\" or \"rails\", the syntax will vary.\n",
    "# For example, the pyhamilton deck has overriden the \"assign_child_resource\"\n",
    "# method from \"Resource\", such that it accepts a \"rail\" parameter instead\n",
    "# of a location/Coordinate.\n",
    "deck.assign_child_resource(well_plate, location=Coordinate(10, 10, 0))\n",
    "\n",
    "# Do the same for the tip rack.\n",
    "deck.assign_child_resource(tip_rack, location=Coordinate(10, 100, 0))"
   ]
  },
  {
   "cell_type": "code",
   "execution_count": null,
   "metadata": {},
   "outputs": [],
   "source": [
    "# Note that the well now has location.\n",
    "print(well_plate.location)"
   ]
  },
  {
   "cell_type": "code",
   "execution_count": null,
   "metadata": {},
   "outputs": [],
   "source": [
    "# Note that the well plate now has a parent\n",
    "print(well_plate.parent)"
   ]
  },
  {
   "cell_type": "code",
   "execution_count": null,
   "metadata": {},
   "outputs": [],
   "source": [
    "# Note that the deck now has an additional child.\n",
    "deck.children"
   ]
  },
  {
   "cell_type": "markdown",
   "metadata": {},
   "source": [
    "## Deck Serialization\n",
    "\n",
    "Lets see what serialization outputs:"
   ]
  },
  {
   "cell_type": "code",
   "execution_count": null,
   "metadata": {},
   "outputs": [],
   "source": [
    "import json\n",
    "data = deck.serialize()\n",
    "with open('data/deck.json', 'w', encoding='utf-8') as f:\n",
    "    json.dump(data, f, indent=4)\n"
   ]
  },
  {
   "cell_type": "markdown",
   "metadata": {},
   "source": [
    "## A couple ways of breaking PLR"
   ]
  },
  {
   "cell_type": "markdown",
   "metadata": {},
   "source": [
    "Lets try to break PLR by assigning the same object again:"
   ]
  },
  {
   "cell_type": "code",
   "execution_count": null,
   "metadata": {},
   "outputs": [],
   "source": [
    "try:\n",
    "  deck.assign_child_resource(well_plate, location=Coordinate(10, 10, 0), reassign=False)\n",
    "except Exception as e:\n",
    "  print(f\"Error: {e}\")\n",
    "else:\n",
    "  print(f\"No error :/\")"
   ]
  },
  {
   "cell_type": "markdown",
   "metadata": {},
   "source": [
    "Lets try to break PLR by re-assigning the same child to another parent, with the reassing disabled:"
   ]
  },
  {
   "cell_type": "code",
   "execution_count": null,
   "metadata": {},
   "outputs": [],
   "source": [
    "try:\n",
    "  deck2 = SilverDeck(name=\"second deck\")\n",
    "  deck2.assign_child_resource(well_plate, location=Coordinate(10, 10, 0), reassign=False)\n",
    "except Exception as e:\n",
    "  print(f\"Error: {e}\")\n",
    "else:\n",
    "  print(f\"No error :/\")"
   ]
  },
  {
   "cell_type": "markdown",
   "metadata": {},
   "source": [
    "Note that `reassing=True` (the default) actually reassigns the resource to a different parent."
   ]
  },
  {
   "cell_type": "code",
   "execution_count": null,
   "metadata": {},
   "outputs": [],
   "source": [
    "try:\n",
    "  deck2 = SilverDeck(name=\"second deck\")\n",
    "  deck2.assign_child_resource(well_plate, location=Coordinate(10, 10, 0))\n",
    "except Exception as e:\n",
    "  print(f\"Error: {e}\")\n"
   ]
  },
  {
   "cell_type": "code",
   "execution_count": null,
   "metadata": {},
   "outputs": [],
   "source": [
    "well_plate.parent.name"
   ]
  },
  {
   "cell_type": "markdown",
   "metadata": {},
   "source": [
    "Lets try to break PLR by assigning a Resource to itself:"
   ]
  },
  {
   "cell_type": "code",
   "execution_count": null,
   "metadata": {},
   "outputs": [],
   "source": [
    "try:\n",
    "  well_plate.assign_child_resource(well_plate, location=Coordinate(10, 10, 0))\n",
    "except Exception as e:\n",
    "  print(f\"Error: {e}\")\n",
    "else:\n",
    "  print(f\"No error :/\")"
   ]
  },
  {
   "cell_type": "markdown",
   "metadata": {},
   "source": [
    "# Pipettin Writer Objects\n",
    "\n",
    "JSON definition of a workspace: how does it match a PLR \"deck\"?"
   ]
  },
  {
   "cell_type": "markdown",
   "metadata": {},
   "source": [
    "## Object mapping\n",
    "\n",
    "I'm not sure if there is a 1-to-1 mapping between Pipttin's and PLR's objects.\n",
    "\n",
    "I'll start from here:\n",
    "\n",
    "| Pipettin Writer | PyLabRobot |  PW -> PLR  |  PW <- PLR  |\n",
    "|-----------------|------------|-------------|-------------|\n",
    "| Workspace       | Deck       |  Minimal    |  -          |\n",
    "| BUCKET          | Trash      |  -          |  -          |\n",
    "| TUBE_RACK       | Plate      |  -          |  -          |\n",
    "| TIP_RACK        | TipRack    |  Minimal    |  -          |\n",
    "| PETRI_DISH      | ?          |  -          |  -          |\n",
    "| Custom platform | ?          |  -          |  -          |\n",
    "| Tools           | ?          |  -          |  -          |\n",
    "\n",
    "Main points:\n",
    "\n",
    "1. The first obvious difference is that Pipettin uses \"tube rack\" for everything, while\n",
    "PLR only seems to have well \"plates\".\n",
    "1. Second, I'm not sure PLR has an object counterpart to a petri dish.\n",
    "2. PLR defines objects for wells and tip spots, while PW does not. These are inferred from the platform type, unless it's a custom platform with slots, or a petri dish (which does not really have predefined slots nor locations).\n",
    "3. To be continued...\n"
   ]
  },
  {
   "cell_type": "markdown",
   "metadata": {},
   "source": [
    "## Tip rack\n",
    "\n",
    "¿How should I port PW (pronounced \"pew\" because its cool) objects to PLR objects?\n",
    "\n",
    "Here is a relveant code chunk from `carrier_tests.py`:"
   ]
  },
  {
   "cell_type": "code",
   "execution_count": null,
   "metadata": {},
   "outputs": [],
   "source": [
    "# From \"carrier_tests.py\"\n",
    "from pylabrobot.resources.itemized_resource import create_equally_spaced\n",
    "from pylabrobot.resources.ml_star.tip_creators import standard_volume_tip_with_filter\n",
    "\n",
    "from pylabrobot.resources.carrier import Carrier, TipCarrier, create_homogenous_carrier_sites\n",
    "from pylabrobot.resources.coordinate import Coordinate\n",
    "from pylabrobot.resources.deck import Deck\n",
    "from pylabrobot.resources.resource import Resource\n",
    "from pylabrobot.resources.tip_rack import TipRack, TipSpot\n",
    "\n",
    "tip_rack = TipRack( # pylint: disable=invalid-name\n",
    "      name=\"custom tip rack\",\n",
    "      size_x=5, size_y=5, size_z=5,\n",
    "      items=create_equally_spaced(TipSpot,\n",
    "        dx=1, dy=1, dz=1,\n",
    "        num_items_x=1, num_items_y=1, item_size_x=5, item_size_y=5,\n",
    "        make_tip=standard_volume_tip_with_filter))"
   ]
  },
  {
   "cell_type": "markdown",
   "metadata": {},
   "source": [
    "The `create_equally_spaced` seems specially important.\n",
    "\n",
    "Paying attention to the `dy` and  `dx` arguments of the `create_equally_spaced` function. Those\n",
    "arguments seem to define the full size of the platform.\n",
    "\n"
   ]
  },
  {
   "cell_type": "code",
   "execution_count": null,
   "metadata": {},
   "outputs": [],
   "source": [
    "def create_equally_spaced(\n",
    "    klass: Type[T],\n",
    "    num_items_x: int, num_items_y: int,\n",
    "    dx: float, dy: float, dz: float,\n",
    "    item_size_x: float, item_size_y: float,\n",
    "    **kwargs\n",
    ") -> List[List[T]]:\n",
    "  \"\"\" Make equally spaced resources.\n",
    "\n",
    "  See :class:`ItemizedResource` for more details.\n",
    "\n",
    "  Args:\n",
    "    klass: The class of the resource to create\n",
    "    num_items_x: The number of items in the x direction\n",
    "    num_items_y: The number of items in the y direction\n",
    "    dx: The bottom left corner for items in the left column\n",
    "    dy: The bottom left corner for items in the top row\n",
    "    dz: The z coordinate for all items\n",
    "    item_size_x: The size of the items in the x direction\n",
    "    item_size_y: The size of the items in the y direction\n",
    "    **kwargs: Additional keyword arguments to pass to the resource constructor\n",
    "\n",
    "  Returns:\n",
    "    A list of lists of resources. The outer list contains the columns, and the inner list contains\n",
    "    the items in each column.\n",
    "  \"\"\"\n",
    "  pass"
   ]
  },
  {
   "cell_type": "markdown",
   "metadata": {},
   "source": [
    "The `item_size_x` and `item_size_y` arguments to that function define how the items are spaced.\n",
    "\n",
    "In most platforms this is set to the SBS spacing (9 mm, or its multiples).\n",
    "\n",
    "The `create_equally_spaced` function defines an item's location with the following (familiar) math:"
   ]
  },
  {
   "cell_type": "code",
   "execution_count": null,
   "metadata": {},
   "outputs": [],
   "source": [
    "item.location = Coordinate(x=dx + i * item_size_x, y=dy + (num_items_y-j-1) * item_size_y, z=dz)"
   ]
  },
  {
   "cell_type": "markdown",
   "metadata": {},
   "source": [
    "> Note: it's interesting to note that the \"tip\" object in PLR is _not_ a PLR \"resource\".\n",
    ">  \n",
    "> Tubes, in contrast, must be resources (examples further down), just as Wells are."
   ]
  },
  {
   "cell_type": "markdown",
   "metadata": {},
   "source": [
    "Lets load the platforms and a workspace, and find the info for a tip rack:"
   ]
  },
  {
   "cell_type": "code",
   "execution_count": null,
   "metadata": {},
   "outputs": [],
   "source": [
    "import json\n",
    "\n",
    "# 'data/ws_export.json'\n",
    "ws_export_file = 'data/pipettin-data-20240203/Workspaces.json'\n",
    "with open(ws_export_file, 'r', encoding='utf-8') as f:\n",
    "    workspaces = json.load(f)\n",
    "workspace = workspaces[0]\n",
    "\n",
    "pt_export_file = 'data/pipettin-data-20240203/Platforms.json'\n",
    "with open(pt_export_file, 'r', encoding='utf-8') as f:\n",
    "    platforms = json.load(f)\n",
    "\n",
    "# Get a tip rack platform (the first one that shows up).\n",
    "pew_tip_racks = [p for p in platforms if p[\"type\"] == \"TIP_RACK\"]\n",
    "pew_tip_rack = pew_tip_racks[0]\n",
    "\n",
    "# Get a workspace item matching that platform.\n",
    "pew_items = [i for i in workspace[\"items\"] if i[\"platform\"] == pew_tip_rack[\"name\"] ]\n",
    "pew_item = pew_items[0]\n",
    "\n",
    "# Get the item's position in the workspace.\n",
    "pew_item_pos = pew_item[\"position\"]\n",
    "pew_item_pos\n"
   ]
  },
  {
   "cell_type": "markdown",
   "metadata": {},
   "source": [
    "Now convert the position to a PLR XYZ coordinate object:"
   ]
  },
  {
   "cell_type": "code",
   "execution_count": null,
   "metadata": {},
   "outputs": [],
   "source": [
    "from pylabrobot.resources.coordinate import Coordinate\n",
    "\n",
    "pew_item_location = Coordinate(**pew_item_pos)\n",
    "pew_item_location"
   ]
  },
  {
   "cell_type": "markdown",
   "metadata": {},
   "source": [
    "Now get the tip's data:\n",
    "\n",
    "> Note that by using `create_equally_spaced` all tips must be identical."
   ]
  },
  {
   "cell_type": "code",
   "execution_count": null,
   "metadata": {},
   "outputs": [],
   "source": [
    "ct_export_file = 'data/pipettin-data-20240203/Containers.json'\n",
    "with open(ct_export_file, 'r', encoding='utf-8') as f:\n",
    "    containers = json.load(f)\n",
    "\n",
    "pew_item_contents = pew_item[\"content\"]\n",
    "tip_content = pew_item_contents[0]\n",
    "\n",
    "tip_container = [c for c in containers if c[\"name\"]==tip_content[\"container\"]][0]\n",
    "tip_container"
   ]
  },
  {
   "cell_type": "code",
   "execution_count": null,
   "metadata": {},
   "outputs": [],
   "source": [
    "# Get container offset\n",
    "tip_container_offset = [o for o in pew_tip_rack[\"containers\"] if o[\"container\"] == tip_container[\"name\"]][0]\n",
    "tip_container_offset"
   ]
  },
  {
   "cell_type": "markdown",
   "metadata": {},
   "source": [
    "Now we'll convert it to it's PLR conuterpart using `TipRack` and `create_equally_spaced`:"
   ]
  },
  {
   "cell_type": "code",
   "execution_count": null,
   "metadata": {},
   "outputs": [],
   "source": [
    "from pylabrobot.resources.tip import Tip\n",
    "from pylabrobot.resources.itemized_resource import create_equally_spaced\n",
    "\n",
    "def make_pew_tip():\n",
    "  \"\"\" Make single tip.\n",
    "\n",
    "  Attributes from the Tip class:\n",
    "    has_filter: whether the tip type has a filter\n",
    "    total_tip_length: total length of the tip, in in mm\n",
    "    maximal_volume: maximal volume of the tip, in ul\n",
    "    fitting_depth: the overlap between the tip and the pipette, in mm\n",
    "  \"\"\"\n",
    "  tip = Tip(\n",
    "    has_filter=False,\n",
    "    total_tip_length=tip_container[\"length\"],\n",
    "    maximal_volume=tip_container[\"maxVolume\"],\n",
    "    fitting_depth=tip_container[\"length\"]-tip_container[\"activeHeight\"]\n",
    "  )\n",
    "\n",
    "  return tip\n",
    "\n",
    "tip_rack_item = TipRack(\n",
    "    name=pew_item[\"name\"],\n",
    "    size_x=pew_tip_rack[\"width\"],\n",
    "    size_y=pew_tip_rack[\"length\"],\n",
    "    size_z=pew_tip_rack[\"height\"],\n",
    "    # category = \"tip_rack\", # The default.\n",
    "    model=pew_tip_rack[\"name\"], # Optional.\n",
    "    items=create_equally_spaced(TipSpot,\n",
    "      num_items_x=pew_tip_rack[\"wellsColumns\"],\n",
    "      num_items_y=pew_tip_rack[\"wellsRows\"],\n",
    "      # dx: The bottom left corner for items in the left column.\n",
    "      dx=pew_tip_rack[\"firstWellCenterX\"]-pew_tip_rack[\"wellSeparationX\"]/2,\n",
    "      # dy: The bottom left corner for items in the top row.\n",
    "      dy=pew_tip_rack[\"firstWellCenterY\"]-pew_tip_rack[\"wellSeparationY\"]/2,\n",
    "      # dz: The z coordinate for all items.\n",
    "      # TODO: I dont know how \"dz\" is used later on. Check that it corresponds to activeHeight.\n",
    "      dz=pew_tip_rack[\"activeHeight\"],\n",
    "      # XY distance between adjacent items in the grid.\n",
    "      item_size_x=pew_tip_rack[\"wellSeparationX\"],\n",
    "      item_size_y=pew_tip_rack[\"wellSeparationY\"],\n",
    "      # TODO: This function should be replaced.\n",
    "      # make_tip=standard_volume_tip_with_filter,\n",
    "      make_tip=make_pew_tip\n",
    "    ),\n",
    "    with_tips=False\n",
    "  )\n",
    "\n",
    "print(tip_rack_item)"
   ]
  },
  {
   "cell_type": "markdown",
   "metadata": {},
   "source": [
    "> Note: There is a \"location\" property set to `None`. It does not seem possible to set on instantiation."
   ]
  },
  {
   "cell_type": "markdown",
   "metadata": {},
   "source": [
    "### Reference implementations\n",
    "\n",
    "- [ ] Inspect `pylabrobot/resources/ml_star/tip_creators.py`."
   ]
  },
  {
   "cell_type": "markdown",
   "metadata": {},
   "source": [
    "## Tube rack\n",
    "\n",
    "There seem to be no abstractions for a \"tube\" in PLR. Furthermore, there seem to be no tube racks either. This is in line with the growing notion that robots can only use plates.\n",
    "\n",
    "Pipettin does not care. It will stab a tube if its lid is closed (?).\n",
    "\n",
    "Looking at `pylabrobot/resources/container.py`, there seems to be a useful `Container` class:\n",
    "\n",
    "> \"_A container is an abstract base class for a resource that can hold liquid._\"\n",
    "\n",
    "There is, however, an abstraction for a \"well\" at `pylabrobot/resources/well.py`, which subclasses Container. The only difference is that it assumes a cylindrical shape, and will estimate its maximum volume from the XZ dimensions on initialization.\n",
    "\n",
    "It makes sense that I should write a Tube class.\n",
    "\n",
    "There are some uncertainties though:\n",
    "\n",
    "- Tubes can be moved, wells cannot.\n",
    "\n",
    "### Issues with PLR\n",
    "\n",
    "PLR does not have a \"tube spot\" object as it does for tips. If I wrote a \"tube spot\" object, I would't rally know how to do the tracking stuff.\n",
    "\n",
    "I don't know how hard it would be to adapt the `itemized_resource` class to handle this scenario.\n",
    "\n",
    "Furthermore, I wouldn't know how to insert only the needed tubes, thereby leaving empty spaces, and still be able to use the \"A1:B2\" syntax for selection.\n",
    "\n",
    "This seems like a task for Rick/PLR folk.\n",
    "\n",
    "Since no one else will be using tube racks, one possibility is to just write my own class entierly.\n",
    "\n",
    "### My own class entirely\n",
    "\n",
    "This makes sense in the context of selection by the usual pipettin stuff:\n",
    "\n",
    "- name\n",
    "- index\n",
    "- label\n"
   ]
  },
  {
   "cell_type": "code",
   "execution_count": null,
   "metadata": {},
   "outputs": [],
   "source": [
    "# TODO: re-write the TubeRack class without using itemized_resource, and without \"A1:B2\" selection."
   ]
  },
  {
   "cell_type": "code",
   "execution_count": null,
   "metadata": {},
   "outputs": [],
   "source": [
    "from pylabrobot.resources.pipettin.tube_racks import TubeRack, Tube\n",
    "\n",
    "tube = Tube()\n",
    "\n",
    "tube_rack = TubeRack(\n",
    "  items=[[tube]]\n",
    ")"
   ]
  },
  {
   "cell_type": "markdown",
   "metadata": {},
   "source": [
    "\n",
    "## Trash bucket\n",
    "\n",
    "> Due\n",
    "\n",
    "## Petri Dish\n",
    "\n",
    "> Due\n",
    "\n",
    "## Custom platform\n",
    "\n",
    "> Due"
   ]
  },
  {
   "cell_type": "markdown",
   "metadata": {},
   "source": [
    "## Workspace"
   ]
  },
  {
   "cell_type": "code",
   "execution_count": null,
   "metadata": {},
   "outputs": [],
   "source": [
    "pew_deck = SilverDeck(\n",
    "  name=workspace[\"name\"],\n",
    "  # TODO: Update default size.\n",
    "  size_x = workspace[\"width\"],\n",
    "  size_y = workspace[\"length\"],\n",
    "  size_z = workspace[\"height\"],\n",
    "  resource_assigned_callback = None,\n",
    "  resource_unassigned_callback = None,\n",
    "  # TODO: Update default origin.\n",
    "  # origin = Coordinate(workspace[\"padding\"][\"left\"], workspace[\"padding\"][\"right\"], 0),\n",
    "  origin = Coordinate(0, 0, 0),\n",
    "  # TODO: Update default trash location.\n",
    "  trash_location = Coordinate(x=82.84, y=53.56, z=5),\n",
    "  no_trash = False\n",
    ")\n",
    "\n",
    "pew_deck"
   ]
  },
  {
   "cell_type": "markdown",
   "metadata": {},
   "source": [
    "Lets assign the TipRack we created earlier to this custom Deck:"
   ]
  },
  {
   "cell_type": "code",
   "execution_count": null,
   "metadata": {},
   "outputs": [],
   "source": [
    "pew_deck.assign_child_resource(resource=tip_rack_item, location=pew_item_location)"
   ]
  },
  {
   "cell_type": "markdown",
   "metadata": {},
   "source": [
    "Inspect the contents:"
   ]
  },
  {
   "cell_type": "code",
   "execution_count": null,
   "metadata": {},
   "outputs": [],
   "source": [
    "pew_deck.children"
   ]
  },
  {
   "cell_type": "markdown",
   "metadata": {},
   "source": [
    "Yay!"
   ]
  },
  {
   "cell_type": "markdown",
   "metadata": {},
   "source": [
    "# The SilverDeck \n",
    "\n",
    "> Have fun playing with my aberration."
   ]
  },
  {
   "cell_type": "markdown",
   "metadata": {},
   "source": [
    "## Setup"
   ]
  },
  {
   "cell_type": "markdown",
   "metadata": {},
   "source": [
    "The default data objects for Pipettin are available online. We'll use those for now."
   ]
  },
  {
   "cell_type": "code",
   "execution_count": null,
   "metadata": {
    "metadata": {}
   },
   "outputs": [],
   "source": [
    "# Example using exported data.\n",
    "from pylabrobot.resources.pipettin.utils import load_objects\n",
    "\n",
    "db_location = 'https://gitlab.com/pipettin-bot/pipettin-gui/-/raw/develop/api/src/db/defaults/databases.json'\n",
    "\n",
    "db = load_objects(db_location)[\"pipettin\"]"
   ]
  },
  {
   "cell_type": "markdown",
   "metadata": {},
   "source": [
    "Get the required objects:"
   ]
  },
  {
   "cell_type": "code",
   "execution_count": 2,
   "metadata": {},
   "outputs": [],
   "source": [
    "# Choose one workspace.\n",
    "workspace = db[\"workspaces\"][2]\n",
    "\n",
    "# Get all platforms and containers.\n",
    "platforms = db[\"platforms\"]\n",
    "containers = db[\"containers\"]\n",
    "tools = db[\"tools\"]"
   ]
  },
  {
   "cell_type": "markdown",
   "metadata": {},
   "source": [
    "With that information, we can instantiate the SilverDeck object:"
   ]
  },
  {
   "cell_type": "code",
   "execution_count": null,
   "metadata": {
    "metadata": {}
   },
   "outputs": [],
   "source": [
    "from pylabrobot.resources import SilverDeck\n",
    "\n",
    "# Instantiate the deck object.\n",
    "deck = SilverDeck(workspace, platforms, containers, tools)\n",
    "\n",
    "# Inspect the workspace's contents.\n",
    "print(deck.summary())"
   ]
  },
  {
   "cell_type": "markdown",
   "metadata": {},
   "source": [
    "### Anchor behaviour"
   ]
  },
  {
   "cell_type": "markdown",
   "metadata": {},
   "source": [
    "A workspace may have anchors, with platforms snapped on to them (much like slots on a deck).\n",
    "\n",
    "That's why platforms in the workspace may not show up as immediate children of the Silverdeck:"
   ]
  },
  {
   "cell_type": "code",
   "execution_count": null,
   "metadata": {
    "metadata": {}
   },
   "outputs": [],
   "source": [
    "# First children of the Deck.\n",
    "deck.children"
   ]
  },
  {
   "cell_type": "markdown",
   "metadata": {},
   "source": [
    "Instead, the anchors have them as children:"
   ]
  },
  {
   "cell_type": "code",
   "execution_count": null,
   "metadata": {},
   "outputs": [],
   "source": [
    "# Grand children of the Deck.\n",
    "children = [ child for first_child in deck.children for child in first_child.children ]\n",
    "children"
   ]
  },
  {
   "cell_type": "markdown",
   "metadata": {},
   "source": [
    "The locations of resources are converted, because PLR and Pipettin don't use the same coordinate system.\n",
    "\n",
    "PLR has a bottom-left origin (as in math plots), and Pipettin uses a top-left origin (as in matrices, images, well-plates, etc.)."
   ]
  },
  {
   "cell_type": "code",
   "execution_count": null,
   "metadata": {},
   "outputs": [],
   "source": [
    "anchor = deck.children[0]\n",
    "\n",
    "print(anchor.name, \"coordinates:\", anchor.location)\n",
    "print(anchor.name, \"absolute coordinates:\", anchor.get_absolute_location())"
   ]
  },
  {
   "cell_type": "code",
   "execution_count": null,
   "metadata": {},
   "outputs": [],
   "source": [
    "tip_rack = anchor.children[0]\n",
    "\n",
    "print(tip_rack.name, tip_rack.get_absolute_location())"
   ]
  },
  {
   "cell_type": "markdown",
   "metadata": {},
   "source": [
    "#### To-do\n",
    "\n",
    "- [ ] The coordinates of the anchor and its tip-rack child look wrong. Fix that."
   ]
  },
  {
   "cell_type": "markdown",
   "metadata": {},
   "source": [
    "## TipRack and coordinates"
   ]
  },
  {
   "cell_type": "code",
   "execution_count": null,
   "metadata": {
    "metadata": {}
   },
   "outputs": [],
   "source": [
    "tiprack = deck.get_resource(\"200ul_tip_rack_MULTITOOL 1\")\n",
    "\n",
    "# Check if all tip spots have tips.\n",
    "print(all([spot.tracker.has_tip for spot in tiprack.children]))\n",
    "\n",
    "# Print a grid representation.\n",
    "tiprack.print_grid()"
   ]
  },
  {
   "cell_type": "code",
   "execution_count": null,
   "metadata": {
    "metadata": {}
   },
   "outputs": [],
   "source": [
    "# A \"location\" is relative to the \"parents\".\n",
    "deck.location, tiprack.location"
   ]
  },
  {
   "cell_type": "code",
   "execution_count": null,
   "metadata": {
    "metadata": {}
   },
   "outputs": [],
   "source": [
    "# An \"absolute\" location is relative to the deck's origin (the top-level object).\n",
    "deck.get_absolute_location(), tiprack.get_absolute_location()"
   ]
  },
  {
   "cell_type": "markdown",
   "metadata": {},
   "source": [
    "What about tip spots?"
   ]
  },
  {
   "cell_type": "code",
   "execution_count": null,
   "metadata": {
    "metadata": {}
   },
   "outputs": [],
   "source": [
    "tip_spot = tiprack.get_item(\"H1\")\n",
    "\n",
    "tip_spot.location, tip_spot.get_absolute_location()"
   ]
  },
  {
   "cell_type": "markdown",
   "metadata": {},
   "source": [
    "Tips are not resources, but the have some dimensional properties:"
   ]
  },
  {
   "cell_type": "code",
   "execution_count": null,
   "metadata": {
    "metadata": {}
   },
   "outputs": [],
   "source": [
    "tip = tip_spot.get_tip()\n",
    "\n",
    "tip.total_tip_length, tip.fitting_depth"
   ]
  },
  {
   "cell_type": "markdown",
   "metadata": {},
   "source": [
    "### TipSpot Z calculation\n",
    "\n",
    "Let's check item 1:"
   ]
  },
  {
   "cell_type": "code",
   "execution_count": null,
   "metadata": {
    "metadata": {}
   },
   "outputs": [],
   "source": [
    "tiprack_item = next(i for i in workspace[\"items\"] if i[\"name\"] == tiprack.name)\n",
    "\n",
    "tipA1_content = next(t for t in tiprack_item[\"content\"] if t[\"index\"] == 1)\n",
    "\n",
    "tip1A_container = next(c for c in containers if c[\"name\"] == tipA1_content[\"container\"])\n",
    "\n",
    "tiprack_platform = next(p for p in platforms if p[\"name\"] == tiprack_item[\"platform\"])\n",
    "\n",
    "container_offset_z = next(l[\"containerOffsetZ\"]\n",
    "                          for l in tiprack_platform[\"containers\"]\n",
    "                          if l[\"container\"] == tip1A_container[\"name\"])\n",
    "\n",
    "tiprack_platform[\"activeHeight\"], container_offset_z"
   ]
  },
  {
   "cell_type": "markdown",
   "metadata": {},
   "source": [
    "Ahora calcular el Z del tip spot segun lo que dije:"
   ]
  },
  {
   "cell_type": "code",
   "execution_count": null,
   "metadata": {
    "metadata": {}
   },
   "outputs": [],
   "source": [
    "tip_spot_Z = tiprack_platform[\"activeHeight\"] - container_offset_z\n",
    "\n",
    "tip_spot_Z"
   ]
  },
  {
   "cell_type": "markdown",
   "metadata": {},
   "source": [
    "Y comparar con lo que calculé en PLR:"
   ]
  },
  {
   "cell_type": "code",
   "execution_count": null,
   "metadata": {
    "metadata": {}
   },
   "outputs": [],
   "source": [
    "tip_spot.location.z == tip_spot_Z"
   ]
  },
  {
   "cell_type": "markdown",
   "metadata": {},
   "source": [
    "Si fue \"True\" está todo bien ;)"
   ]
  },
  {
   "cell_type": "markdown",
   "metadata": {},
   "source": [
    "## Use with the Piper backend"
   ]
  },
  {
   "cell_type": "code",
   "execution_count": null,
   "metadata": {
    "metadata": {}
   },
   "outputs": [],
   "source": [
    "# Dummy backend.\n",
    "# from pylabrobot.liquid_handling.backends.chatterbox_backend import ChatterBoxBackend\n",
    "# back = ChatterBoxBackend()\n",
    "\n",
    "# Piper backend.\n",
    "from pylabrobot.liquid_handling.backends.piper_backend import PiperBackend\n",
    "tools_url = 'https://gitlab.com/pipettin-bot/pipettin-gui/-/raw/develop/api/src/db/defaults/tools.json'\n",
    "back = PiperBackend(config={\"dry\": True}, tool_defs=tools_url)"
   ]
  },
  {
   "cell_type": "code",
   "execution_count": null,
   "metadata": {
    "metadata": {}
   },
   "outputs": [],
   "source": [
    "from pylabrobot.liquid_handling import LiquidHandler\n",
    "\n",
    "# TODO: Ask for a better error message when a non-instantiated backend is passed.\n",
    "lh = LiquidHandler(backend=back, deck=deck)\n",
    "await lh.setup()"
   ]
  },
  {
   "cell_type": "code",
   "execution_count": null,
   "metadata": {
    "metadata": {}
   },
   "outputs": [],
   "source": [
    "from pylabrobot.resources import set_tip_tracking, set_volume_tracking\n",
    "\n",
    "# We enable tip and volume tracking globally using the `set_volume_tracking` and `set_tip_tracking` methods.\n",
    "set_volume_tracking(enabled=True)\n",
    "set_tip_tracking(enabled=True)"
   ]
  },
  {
   "cell_type": "code",
   "execution_count": null,
   "metadata": {
    "metadata": {}
   },
   "outputs": [],
   "source": [
    "tiprack = lh.get_resource(\"200ul_tip_rack_MULTITOOL 1\")\n",
    "\n",
    "tip_spots = tiprack[\"A1:B1\"]\n",
    "\n",
    "# TODO: Ask for a better error message when tips are passed instead of tip spots.\n",
    "pickups = await lh.pick_up_tips(tip_spots, use_channels=[0, 1])"
   ]
  },
  {
   "cell_type": "code",
   "execution_count": null,
   "metadata": {
    "metadata": {}
   },
   "outputs": [],
   "source": [
    "tiprack.print_grid()"
   ]
  },
  {
   "cell_type": "code",
   "execution_count": null,
   "metadata": {
    "metadata": {}
   },
   "outputs": [],
   "source": [
    "try:\n",
    "  # tips = tiprack.get_tip(\"A1\")  # NOTE: For the PiperBackend.\n",
    "  tips = tiprack.get_tips(\"A1:C1\")\n",
    "  print(tips)\n",
    "except Exception as e:\n",
    "  print(e)"
   ]
  },
  {
   "cell_type": "code",
   "execution_count": null,
   "metadata": {
    "metadata": {}
   },
   "outputs": [],
   "source": [
    "# plate = lh.get_resource(\"Standard 96-well plate 1\")\n",
    "\n",
    "tube_rack = lh.get_resource(\"5x16_1.5_rack 1\")\n",
    "tube_rack.print_grid()\n",
    "tube_rack[\"A1\"]\n",
    "\n",
    "# tube_spots = plate[\"A1:H12\"]\n",
    "# tube_spots = tube_rack.children\n",
    "#[spot.tracker.has_tube for spot in tube_spots]\n",
    "#[spot.tracker.has_tube for spot in plate.get_all_items()]\n",
    "#all([spot.tracker.has_tube for spot in tube_spots])\n",
    "#len([spot.tracker.has_tube for spot in plate.get_all_items()])\n",
    "\n",
    "tubes = tube_rack.get_all_tubes()\n",
    "tubes"
   ]
  },
  {
   "cell_type": "code",
   "execution_count": null,
   "metadata": {
    "metadata": {}
   },
   "outputs": [],
   "source": [
    "[tube.tracker.liquids for tube in tubes]"
   ]
  },
  {
   "cell_type": "code",
   "execution_count": null,
   "metadata": {
    "metadata": {}
   },
   "outputs": [],
   "source": [
    "tube = tubes[0]\n",
    "\n",
    "tube.tracker.is_disabled"
   ]
  },
  {
   "cell_type": "code",
   "execution_count": null,
   "metadata": {
    "metadata": {}
   },
   "outputs": [],
   "source": [
    "try:\n",
    "  await lh.aspirate(tubes, vols=[100.0, 50.0, 200.0])\n",
    "except Exception as e:\n",
    "    print(\"Error:\", e)\n",
    "\n",
    "# try:\n",
    "#   NOTE: Example for the PiperBackend.\n",
    "#   for tube, vol in zip(tubes, [100.0, 50.0, 200.0]):\n",
    "#     await lh.aspirate(tube, vol, tool_id=\"P20\")\n",
    "# except Exception as e:\n",
    "#     print(\"Error:\", e)"
   ]
  },
  {
   "cell_type": "code",
   "execution_count": null,
   "metadata": {
    "metadata": {}
   },
   "outputs": [],
   "source": [
    "try:\n",
    "  await lh.aspirate(tubes, vols=[100.0, 50.0, 200.0])\n",
    "except Exception as e:\n",
    "    print(e)\n",
    "\n",
    "[tube.tracker.liquids for tube in tubes]"
   ]
  },
  {
   "cell_type": "code",
   "execution_count": null,
   "metadata": {
    "metadata": {}
   },
   "outputs": [],
   "source": [
    "await lh.aspirate(tubes, vols=[90.0, 20.0, 9.0])\n",
    "\n",
    "[tube.tracker.liquids for tube in tubes]"
   ]
  },
  {
   "cell_type": "code",
   "execution_count": null,
   "metadata": {
    "metadata": {}
   },
   "outputs": [],
   "source": [
    "await lh.dispense(tubes, vols=[1.0, 1.0, 1.0])\n",
    "\n",
    "[tube.tracker.liquids for tube in tubes]"
   ]
  },
  {
   "cell_type": "code",
   "execution_count": null,
   "metadata": {},
   "outputs": [],
   "source": [
    "# plate = lh.get_resource(\"plate_01\")\n",
    "# await lh.aspirate(plate[\"A1:C1\"], vols=[100.0, 50.0, 200.0])\n",
    "# await lh.dispense(plate[\"D1:F1\"], vols=[100.0, 50.0, 200.0])"
   ]
  },
  {
   "cell_type": "markdown",
   "metadata": {},
   "source": [
    "## Check Pickup coordinates"
   ]
  },
  {
   "cell_type": "markdown",
   "metadata": {},
   "source": [
    "The \"pickup\" object is what a backend gets as argument to figure out the tip's coordinates.\n",
    "\n",
    "Turns out it only contains the tip spot and an offset (and the tip, which can be accessed through the tip spot too)."
   ]
  },
  {
   "cell_type": "code",
   "execution_count": null,
   "metadata": {
    "metadata": {}
   },
   "outputs": [],
   "source": [
    "from pylabrobot.liquid_handling.standard import Pickup\n",
    "from pylabrobot.resources.coordinate import Coordinate\n",
    "\n",
    "tip_spot = tiprack.get_item(\"F1\")\n",
    "\n",
    "pickup = Pickup(resource=tip_spot, offset=Coordinate(0,0,0,), tip=tip_spot.get_tip())\n",
    "\n",
    "vars(pickup)"
   ]
  },
  {
   "cell_type": "markdown",
   "metadata": {},
   "source": [
    "# Deck translation to PLR\n",
    "\n",
    "Development notes for translating PLR deck objects to Pipettin workspace objects."
   ]
  },
  {
   "cell_type": "code",
   "execution_count": 1,
   "metadata": {},
   "outputs": [],
   "source": [
    "# Example using exported data.\n",
    "from pylabrobot.resources import SilverDeck\n",
    "from pylabrobot.resources import set_tip_tracking, set_volume_tracking\n",
    "\n",
    "# Choose the database and a workspace.\n",
    "db_location = 'https://gitlab.com/pipettin-bot/pipettin-gui/-/raw/develop/api/src/db/defaults/databases.json'\n",
    "workspace_name = \"MK3 Baseplate\"\n",
    "\n",
    "# Enable tracking.\n",
    "set_volume_tracking(enabled=True)\n",
    "set_tip_tracking(enabled=True)"
   ]
  },
  {
   "cell_type": "code",
   "execution_count": null,
   "metadata": {},
   "outputs": [],
   "source": [
    "# Instantiate the deck object.\n",
    "deck = SilverDeck(db=db_location, workspace_name=workspace_name)\n",
    "\n",
    "# Inspect the workspace's contents.\n",
    "# print(deck.summary())\n",
    "deck.name"
   ]
  },
  {
   "cell_type": "code",
   "execution_count": null,
   "metadata": {},
   "outputs": [],
   "source": [
    "tip_rack = deck.get_resource(\"Blue tip rack\")\n",
    "tip_rack.print_grid()\n",
    "# tip_rack.fill()\n",
    "# tip_rack.print_grid()"
   ]
  },
  {
   "cell_type": "code",
   "execution_count": null,
   "metadata": {},
   "outputs": [],
   "source": [
    "well_plate = deck.get_resource(\"Standard 96-well plate\")\n",
    "well_plate.print_grid()\n",
    "# well_plate[\"B1\"][0].location, well_plate[\"A1\"][0].center()\n",
    "# well_plate[\"B1\"][0]"
   ]
  },
  {
   "cell_type": "markdown",
   "metadata": {},
   "source": [
    "## Approach 1: Serialize the Deck\n",
    "\n",
    "Should be good enough to get ChatGPT to make boilerplate code."
   ]
  },
  {
   "cell_type": "code",
   "execution_count": 10,
   "metadata": {},
   "outputs": [],
   "source": [
    "from newt.translators.plr import deck_to_workspaces\n",
    "\n",
    "# Serialize deck.\n",
    "deck_data = deck.serialize()\n",
    "# Convert to workspace.\n",
    "new_workspaces = deck_to_workspaces(deck_data)\n",
    "\n",
    "import json\n",
    "data = json.dumps(deck_data, indent = 4)\n",
    "with open(\"deck.json\", 'w', encoding='utf-8') as f:\n",
    "    f.write(data)\n",
    "data = json.dumps(new_workspaces, indent = 4)\n",
    "with open(\"workspace.json\", 'w', encoding='utf-8') as f:\n",
    "    f.write(data)\n"
   ]
  },
  {
   "cell_type": "markdown",
   "metadata": {},
   "source": [
    "## What about PLR well-plates"
   ]
  },
  {
   "cell_type": "markdown",
   "metadata": {},
   "source": [
    "Get a PLR test \"Plate\" object, not derived from Pipettin, to test conversion."
   ]
  },
  {
   "cell_type": "code",
   "execution_count": null,
   "metadata": {},
   "outputs": [],
   "source": [
    "# Import the resource class\n",
    "from pylabrobot.resources import pipettin_test_plate\n",
    "\n",
    "# Create an instance\n",
    "well_plate = pipettin_test_plate(name='plate_01')\n",
    "well_plate.set_well_liquids(liquids=(None, 123))\n",
    "\n",
    "well_plate.print_grid()"
   ]
  },
  {
   "cell_type": "markdown",
   "metadata": {},
   "source": [
    "Add the plate to a deck:"
   ]
  },
  {
   "cell_type": "code",
   "execution_count": 2,
   "metadata": {},
   "outputs": [],
   "source": [
    "from pylabrobot.resources import Deck, Coordinate\n",
    "\n",
    "deck = Deck(size_x=300, size_y=200)\n",
    "\n",
    "deck.assign_child_resource(well_plate, location=Coordinate(100,100,0))"
   ]
  },
  {
   "cell_type": "markdown",
   "metadata": {},
   "source": [
    "Convert:"
   ]
  },
  {
   "cell_type": "code",
   "execution_count": 4,
   "metadata": {},
   "outputs": [],
   "source": [
    "from newt.translators.plr import deck_to_workspaces, deck_to_db\n",
    "from pylabrobot.resources.pipettin.utils import json_dump\n",
    "\n",
    "# Serialize deck.\n",
    "deck_data = deck.serialize()\n",
    "# Convert to workspace.\n",
    "result = deck_to_db(deck_data)\n",
    "\n",
    "json_dump(deck_data, \"deck.json\")\n",
    "json_dump(result, \"db.json\")\n"
   ]
  },
  {
   "cell_type": "markdown",
   "metadata": {},
   "source": [
    "### OpenTrons objects\n",
    "\n",
    "Lets start with a plate."
   ]
  },
  {
   "cell_type": "code",
   "execution_count": null,
   "metadata": {},
   "outputs": [],
   "source": [
    "from pylabrobot.resources import Coordinate\n",
    "from pylabrobot.resources.opentrons import opentrons_96_tiprack_300ul\n",
    "\n",
    "# Instantiate the plate.\n",
    "ot_well_plate = opentrons_96_tiprack_300ul(\"plate_02\")\n",
    "\n",
    "# A coordinate can be set for floating resources.\n",
    "# ot_well_plate.location = Coordinate(10,10,10)\n",
    "\n",
    "from newt.translators.plr import convert_item\n",
    "\n",
    "# Convert the plate.\n",
    "piper_item, piper_platform, item_containers = convert_item(ot_well_plate.serialize(), 300)\n",
    "\n",
    "piper_platform"
   ]
  },
  {
   "cell_type": "markdown",
   "metadata": {},
   "source": [
    "Now lets use an OT resource with the SilverDeck:"
   ]
  },
  {
   "cell_type": "code",
   "execution_count": 2,
   "metadata": {},
   "outputs": [],
   "source": [
    "from pylabrobot.resources.pipettin import make_silver\n",
    "\n",
    "# Handy generator function.\n",
    "deck = make_silver(empty=True)"
   ]
  },
  {
   "cell_type": "code",
   "execution_count": null,
   "metadata": {},
   "outputs": [],
   "source": [
    "# Import the resource class\n",
    "from pylabrobot.resources import pipettin_test_plate, Coordinate\n",
    "from pylabrobot.resources.opentrons import opentrons_96_tiprack_300ul\n",
    "\n",
    "# New instance of a test \"Plate\".\n",
    "well_plate = pipettin_test_plate(name='plate_01')\n",
    "well_plate.set_well_liquids(liquids=(None, 123))\n",
    "well_plate.print_grid()\n",
    "\n",
    "# OpenTrons well-plate.\n",
    "ot_well_plate = opentrons_96_tiprack_300ul(\"plate_02\")"
   ]
  },
  {
   "cell_type": "code",
   "execution_count": 4,
   "metadata": {},
   "outputs": [],
   "source": [
    "# Assign the resources.\n",
    "deck.assign_child_resource(well_plate, location = Coordinate(100, 100))\n",
    "deck.assign_child_resource(ot_well_plate, location = Coordinate(100, 250))"
   ]
  },
  {
   "cell_type": "markdown",
   "metadata": {},
   "source": [
    "Convert and draw:"
   ]
  },
  {
   "cell_type": "code",
   "execution_count": null,
   "metadata": {},
   "outputs": [],
   "source": [
    "from newt.translators.plr import deck_to_db\n",
    "from newt.utils import draw_ascii_workspace\n",
    "from pprint import pprint\n",
    "\n",
    "d = deck.serialize()\n",
    "\n",
    "db = deck_to_db(d)\n",
    "w = db[\"workspaces\"][0]\n",
    "p = db[\"platforms\"]\n",
    "\n",
    "print(draw_ascii_workspace(w, p))"
   ]
  },
  {
   "cell_type": "markdown",
   "metadata": {},
   "source": [
    "### Translating Tip containers\n",
    "\n",
    "The interaction between Tips and Tip Racks is not fully parametrized in PLR.\n",
    "\n",
    "PLR parametrizes this relationship with one value: the Z-coordinate of the tip when sitting on its spot.\n",
    "\n",
    "There is no information in PLR about the contact surface between the tip and the spot. Which means that I'm missing the \"active height\" of the tip rack. This is the height of the top-contact surface of the tip rack, on which the tips sit.\n",
    "\n",
    "The tip's height (relative to the rack) is calculated as an offset from that surface (and maps to the length of the tip inserted into the rack).\n",
    "\n",
    "If I defaulted the rack's \"active height\" value to 0, then the container's Z-offset would map directly to the tip's Z-coordinate (which PLR has).\n",
    "\n",
    "This seems like a nice solution."
   ]
  },
  {
   "cell_type": "markdown",
   "metadata": {},
   "source": [
    "## Custom platforms"
   ]
  },
  {
   "cell_type": "markdown",
   "metadata": {},
   "source": [
    "Try importing and exporting the Pocket PCR custom platform.\n",
    "\n",
    "Because PLR objects don't really want to preserve information about their \"regular\" platforms (i.e grid-like platforms like well-plates and tip-racks), the \"custom\" platform type seems useful.\n",
    "\n",
    "Any \"platform-like\" resource that is not contemplated, may be translated to a custom platform."
   ]
  },
  {
   "cell_type": "code",
   "execution_count": 25,
   "metadata": {},
   "outputs": [],
   "source": [
    "# Example using exported data.\n",
    "from pylabrobot.resources import SilverDeck\n",
    "from pprint import pprint\n",
    "from copy import deepcopy\n",
    "from newt.translators.plr import deck_to_workspaces, convert_custom\n",
    "\n",
    "# Choose the database and a workspace.\n",
    "db_location = 'https://gitlab.com/pipettin-bot/pipettin-gui/-/raw/develop/api/src/db/defaults/databases.json'\n",
    "workspace_name = \"Basic Workspace\"\n",
    "item_name = \"Pocket PCR\"\n",
    "\n",
    "# Instantiate the deck object.\n",
    "deck = SilverDeck(db=db_location, workspace_name=workspace_name)\n",
    "\n",
    "pocket = deck.get_resource(item_name)\n",
    "pocket_serialized = pocket.serialize()\n",
    "\n",
    "data_converted = convert_custom(pocket_serialized, deck.get_size_y())"
   ]
  },
  {
   "cell_type": "markdown",
   "metadata": {},
   "source": [
    "## Using the OpenTrons Deck"
   ]
  },
  {
   "cell_type": "code",
   "execution_count": 4,
   "metadata": {},
   "outputs": [],
   "source": [
    "from pylabrobot.resources.opentrons import OTDeck\n",
    "\n",
    "# Instantiate the deck object.\n",
    "# deck = OTDeck()"
   ]
  },
  {
   "cell_type": "markdown",
   "metadata": {},
   "source": [
    "## Approach 2: Use PLR directly\n",
    "\n",
    "In this approach, I would load PLR, define a deck, and use the PLR objects directly to construct objects for pipettin, all within python.\n",
    "\n",
    "I don't like this option; I prefer to operate on hard data directly, even if it means building bridges between the programs and - for example - JSON as a middle man.\n",
    "\n",
    "There is something I don't like about having data in a programming language."
   ]
  },
  {
   "cell_type": "markdown",
   "metadata": {},
   "source": [
    "# To-do list\n",
    "\n",
    "In summary, I should:\n",
    "\n",
    "- [x] Have the SilverDeck set the PLR TipSpot Z coordinate from PW data..\n",
    "- [ ] Figure out coordinates for tubes and well plates.\n",
    "- [ ] Have SilverDeck translate new child resources into PW objects. And maybe save them to the DB.\n",
    "- [ ] Have the backend translate (during setup) non-PW decks to PW format, and save them to the database. This is essential when the deck is not PW-ish.\n",
    "- [ ] Have the database import container definitions in the \"containerData\" fields of PLR-exported platforms or items.\n",
    "- [ ] Review the output of `convert_custom`. I have not checked it at all.\n",
    "\n",
    "Well and TubeRack locations:\n",
    "\n",
    "- Figure out coordinates for tubes and well plates.\n",
    "\n",
    "PLR-PW new child translator - Part 1: Deck\n",
    "\n",
    "- Have SilverDeck translate new child resources into PW objects. And maybe save them to the DB.\n",
    "\n",
    "PLR-PW new child translator - Part 2: Back\n",
    "\n",
    "- Have the backend translate (during setup) non-PW decks to PW format, and save them to the database.\n",
    "  - This is essential when the deck is not PW-ish."
   ]
  },
  {
   "cell_type": "markdown",
   "metadata": {},
   "source": []
  },
  {
   "cell_type": "markdown",
   "metadata": {},
   "source": []
  }
 ],
 "metadata": {
  "kernelspec": {
   "display_name": ".venv",
   "language": "python",
   "name": "python3"
  },
  "language_info": {
   "codemirror_mode": {
    "name": "ipython",
    "version": 3
   },
   "file_extension": ".py",
   "mimetype": "text/x-python",
   "name": "python",
   "nbconvert_exporter": "python",
   "pygments_lexer": "ipython3",
   "version": "3.12.6"
  }
 },
 "nbformat": 4,
 "nbformat_minor": 4
}
