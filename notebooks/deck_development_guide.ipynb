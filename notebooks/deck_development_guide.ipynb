{
  "cells": [
    {
      "attachments": {},
      "cell_type": "markdown",
      "metadata": {},
      "source": [
        "# Agnostic methods for liquid handling\n"
      ]
    },
    {
      "attachments": {},
      "cell_type": "markdown",
      "metadata": {},
      "source": [
        "## Setting up "
      ]
    },
    {
      "attachments": {},
      "cell_type": "markdown",
      "metadata": {},
      "source": [
        "Check if the correct environment is in use:"
      ]
    },
    {
      "cell_type": "code",
      "execution_count": null,
      "metadata": {},
      "outputs": [],
      "source": [
        "!echo $VIRTUAL_ENV\n",
        "\n",
        "import os, sys\n",
        "print(\"Current working directory: \" + os.getcwd())\n",
        "print(\"Using python: \" + sys.executable)"
      ]
    },
    {
      "attachments": {},
      "cell_type": "markdown",
      "metadata": {},
      "source": [
        "?"
      ]
    },
    {
      "cell_type": "code",
      "execution_count": null,
      "metadata": {},
      "outputs": [],
      "source": [
        "%load_ext autoreload\n",
        "%autoreload 2"
      ]
    },
    {
      "attachments": {},
      "cell_type": "markdown",
      "metadata": {},
      "source": [
        "Basic imports:"
      ]
    },
    {
      "cell_type": "code",
      "execution_count": null,
      "metadata": {},
      "outputs": [],
      "source": [
        "# Basic imports:\n",
        "# - liquid handler\n",
        "from pylabrobot.liquid_handling import LiquidHandler\n",
        "# - backend\n",
        "from pylabrobot.liquid_handling.backends import STAR\n",
        "# - deck\n",
        "from pylabrobot.resources.hamilton import STARLetDeck"
      ]
    },
    {
      "attachments": {},
      "cell_type": "markdown",
      "metadata": {},
      "source": [
        "## Writing a custom deck"
      ]
    },
    {
      "cell_type": "code",
      "execution_count": null,
      "metadata": {},
      "outputs": [],
      "source": [
        "import textwrap\n",
        "from typing import Optional, Callable\n",
        "\n",
        "from pylabrobot.resources import Coordinate, Deck, Trash\n",
        "\n",
        "\n",
        "class SilverDeck(Deck):\n",
        "  \"\"\" (Ag)nostic deck object.\n",
        "  \n",
        "  Boilerplate code written by Rick: https://forums.pylabrobot.org/t/writing-a-new-backend-agnosticity/844/16\n",
        "  \"\"\"\n",
        "\n",
        "  def __init__(self, \n",
        "               name: str= \"silver_deck\",\n",
        "               # TODO: Update default size.\n",
        "               size_x: float = 250,\n",
        "               size_y: float = 350,\n",
        "               size_z: float = 200,\n",
        "               resource_assigned_callback: Optional[Callable] = None,\n",
        "               resource_unassigned_callback: Optional[Callable] = None,\n",
        "               # TODO: Update default origin.\n",
        "               origin: Coordinate = Coordinate(0, 0, 0),\n",
        "               # TODO: Update default trash location.\n",
        "               trash_location: Coordinate = Coordinate(x=82.84, y=53.56, z=5),\n",
        "               no_trash: bool = False):\n",
        "\n",
        "    # Run init from the base Deck class.\n",
        "    super().__init__(\n",
        "      name=name,\n",
        "      size_x=size_x, size_y=size_y, size_z=size_z,\n",
        "      resource_assigned_callback=resource_assigned_callback,\n",
        "      resource_unassigned_callback=resource_unassigned_callback,\n",
        "      origin=origin)\n",
        "    \n",
        "    # TODO: write your init code, for example assign a \"trash\" resource:\n",
        "    if not no_trash:\n",
        "      self._assign_trash(location=trash_location)\n",
        "\n",
        "  def _assign_trash(self, location: Coordinate):\n",
        "    \"\"\" Assign the trash area to the deck. \"\"\"\n",
        "\n",
        "    trash = Trash(\n",
        "      name=\"trash\",\n",
        "      # TODO: Update default dimensions.\n",
        "      size_x=80,\n",
        "      size_y=120,\n",
        "      size_z=50\n",
        "    )\n",
        "\n",
        "    self.assign_child_resource(trash, location=location)\n",
        "\n",
        "  def summary(self) -> str:\n",
        "    \"\"\" Get a summary of the deck.\n",
        "\n",
        "    >>> print(deck.summary())\n",
        "\n",
        "    TODO: <write some printable ascii representation of the deck's current layout>\n",
        "    \"\"\"\n",
        "\n",
        "    return textwrap.dedent(f\"\"\"\\\n",
        "      +---------------------+\n",
        "      |                     |\n",
        "      |        TODO         |\n",
        "      |                     |\n",
        "      +---------------------+\n",
        "    \"\"\")\n"
      ]
    },
    {
      "attachments": {},
      "cell_type": "markdown",
      "metadata": {},
      "source": [
        "Instantiate a new deck object:"
      ]
    },
    {
      "cell_type": "code",
      "execution_count": null,
      "metadata": {},
      "outputs": [],
      "source": [
        "deck = SilverDeck(name=\"basic deck 1\")"
      ]
    },
    {
      "attachments": {},
      "cell_type": "markdown",
      "metadata": {},
      "source": [
        "Stuff can be added to the deck, which in PLR jargon is the same as \"assigning a child resource\" to the deck.\n",
        "\n",
        "This is typically accomplished by calling `assign_child_resource`, a method from the Resource class,\n",
        "which is also the baseclass for Deck.\n",
        "\n",
        "This means that our deck has a list of resources, which are considered children of the deck resource:"
      ]
    },
    {
      "cell_type": "code",
      "execution_count": null,
      "metadata": {},
      "outputs": [],
      "source": [
        "deck.children"
      ]
    },
    {
      "attachments": {},
      "cell_type": "markdown",
      "metadata": {},
      "source": [
        "Lets add another resource, a well plate:"
      ]
    },
    {
      "cell_type": "code",
      "execution_count": null,
      "metadata": {},
      "outputs": [],
      "source": [
        "# Import the resource class\n",
        "from pylabrobot.resources import Cos_96_DW_1mL\n",
        "\n",
        "# Create an instance\n",
        "well_plate = Cos_96_DW_1mL(name='plate_01')"
      ]
    },
    {
      "attachments": {},
      "cell_type": "markdown",
      "metadata": {},
      "source": [
        "Note that the well plate is also a resource, and also has children. Lets print the first five children, and realize that it has been populated with \"Well\" type resources:"
      ]
    },
    {
      "cell_type": "code",
      "execution_count": null,
      "metadata": {},
      "outputs": [],
      "source": [
        "well_plate.children[:5]"
      ]
    },
    {
      "attachments": {},
      "cell_type": "markdown",
      "metadata": {},
      "source": [
        "Now we will assign the well plate resource as a child of our deck resource using `assign_child_resource`.\n",
        "\n",
        "The `assign_child_resource` function inherited from base `Resource` class accepts an optional `location` parameter, with type `Coordinate` (another type of PLR object). If passed, it is used to override the `location` attribute of the Resource we want to add.\n",
        "\n",
        " Lets have a look:"
      ]
    },
    {
      "cell_type": "code",
      "execution_count": null,
      "metadata": {},
      "outputs": [],
      "source": [
        "# Note that the well has no default location.\n",
        "print(well_plate.location)"
      ]
    },
    {
      "cell_type": "code",
      "execution_count": null,
      "metadata": {},
      "outputs": [],
      "source": [
        "# Since some robots have \"slots\" or \"rails\", the syntax will vary.\n",
        "# For example, the pyhamilton deck has overriden the \"assign_child_resource\"\n",
        "# method from \"Resource\", such that it accepts a \"rail\" parameter instead \n",
        "# of a location/Coordinate.\n",
        "deck.assign_child_resource(well_plate, location=Coordinate(10, 10, 0))"
      ]
    },
    {
      "cell_type": "code",
      "execution_count": null,
      "metadata": {},
      "outputs": [],
      "source": [
        "# Note that the well now has location.\n",
        "print(well_plate.location)"
      ]
    },
    {
      "cell_type": "code",
      "execution_count": null,
      "metadata": {},
      "outputs": [],
      "source": [
        "# Note that the well plate now has a parent\n",
        "print(well_plate.parent)"
      ]
    },
    {
      "cell_type": "code",
      "execution_count": null,
      "metadata": {},
      "outputs": [],
      "source": [
        "# Note that the deck now has an additional child.\n",
        "deck.children"
      ]
    },
    {
      "attachments": {},
      "cell_type": "markdown",
      "metadata": {},
      "source": [
        "Lets try to break PLR by assigning the same object again:"
      ]
    },
    {
      "cell_type": "code",
      "execution_count": null,
      "metadata": {},
      "outputs": [],
      "source": [
        "try:\n",
        "  deck.assign_child_resource(well_plate, location=Coordinate(10, 10, 0), reassign=False)\n",
        "except Exception as e:\n",
        "  print(f\"Error: {e}\")\n",
        "else:\n",
        "  print(f\"No error :/\")"
      ]
    },
    {
      "attachments": {},
      "cell_type": "markdown",
      "metadata": {},
      "source": [
        "Lets try to break PLR by re-assigning the same child to another parent, with the reassing disabled:"
      ]
    },
    {
      "cell_type": "code",
      "execution_count": null,
      "metadata": {},
      "outputs": [],
      "source": [
        "try:\n",
        "  deck2 = SilverDeck(name=\"second deck\")\n",
        "  deck2.assign_child_resource(well_plate, location=Coordinate(10, 10, 0), reassign=False)\n",
        "except Exception as e:\n",
        "  print(f\"Error: {e}\")\n",
        "else:\n",
        "  print(f\"No error :/\")"
      ]
    },
    {
      "attachments": {},
      "cell_type": "markdown",
      "metadata": {},
      "source": [
        "Note that `reassing=True` (the default) actually reassigns the resource to a different parent."
      ]
    },
    {
      "cell_type": "code",
      "execution_count": null,
      "metadata": {},
      "outputs": [],
      "source": [
        "try:\n",
        "  deck2 = SilverDeck(name=\"second deck\")\n",
        "  deck2.assign_child_resource(well_plate, location=Coordinate(10, 10, 0))\n",
        "except Exception as e:\n",
        "  print(f\"Error: {e}\")\n"
      ]
    },
    {
      "cell_type": "code",
      "execution_count": null,
      "metadata": {},
      "outputs": [],
      "source": [
        "well_plate.parent.name"
      ]
    },
    {
      "cell_type": "markdown",
      "metadata": {},
      "source": [
        "Lets try to break PLR by assigning a Resource to itself:"
      ]
    },
    {
      "cell_type": "code",
      "execution_count": null,
      "metadata": {},
      "outputs": [],
      "source": [
        "try:\n",
        "  well_plate.assign_child_resource(well_plate, location=Coordinate(10, 10, 0))\n",
        "except Exception as e:\n",
        "  print(f\"Error: {e}\")\n",
        "else:\n",
        "  print(f\"No error :/\")"
      ]
    },
    {
      "attachments": {},
      "cell_type": "markdown",
      "metadata": {},
      "source": [
        "## STAR deck examples\n"
      ]
    },
    {
      "cell_type": "markdown",
      "metadata": {},
      "source": [
        "Create a new liquid handler using `STAR` as its backend, and the hamilton \"deck\"."
      ]
    },
    {
      "cell_type": "code",
      "execution_count": null,
      "metadata": {},
      "outputs": [],
      "source": [
        "backend = STAR()\n",
        "lh = LiquidHandler(backend=backend, deck=STARLetDeck())"
      ]
    },
    {
      "cell_type": "markdown",
      "metadata": {},
      "source": [
        "The final step is to open communication with the robot. This is done using the {func}`~pylabrobot.liquid_handling.LiquidHandler.setup` method."
      ]
    },
    {
      "cell_type": "code",
      "execution_count": null,
      "metadata": {},
      "outputs": [],
      "source": [
        "await lh.setup()"
      ]
    },
    {
      "attachments": {},
      "cell_type": "markdown",
      "metadata": {},
      "source": [
        "\n",
        "Now that we have a `LiquidHandler` instance, we can define the deck layout.\n",
        "\n",
        "The layout in this tutorial will contain five sets of standard volume tips with filter, 1 set of 96 1mL wells, and tip and plate carriers on which these resources are positioned.\n",
        "\n",
        "Start by importing the relevant objects and variables from the PyHamilton package. This notebook uses the following resources:\n",
        "\n",
        "- {class}`~pylabrobot.resources.ml_star.tip_carriers.TIP_CAR_480_A00` tip carrier\n",
        "- {class}`~pylabrobot.resources.ml_star.plate_carriers.PLT_CAR_L5AC_A00` plate carrier\n",
        "- {class}`~pylabrobot.resources.corning_costar.plates.Cos_96_DW_1mL` wells\n",
        "- {class}`~pylabrobot.resources.ml_star.tip_racks.HTF_L` tips"
      ]
    },
    {
      "cell_type": "code",
      "execution_count": null,
      "metadata": {},
      "outputs": [],
      "source": [
        "from pylabrobot.resources import (\n",
        "    TIP_CAR_480_A00,\n",
        "    PLT_CAR_L5AC_A00,\n",
        "    Cos_96_DW_1mL,\n",
        "    HTF_L\n",
        ")"
      ]
    },
    {
      "cell_type": "markdown",
      "metadata": {},
      "source": [
        "Then create a tip carrier named `tip carrier`, which will contain tip rack at all 5 positions. These positions can be accessed using `tip_car[x]`, and are 0 indexed."
      ]
    },
    {
      "cell_type": "code",
      "execution_count": null,
      "metadata": {},
      "outputs": [],
      "source": [
        "tip_car = TIP_CAR_480_A00(name='tip carrier')\n",
        "tip_car[0] = HTF_L(name='tips_01')"
      ]
    },
    {
      "cell_type": "markdown",
      "metadata": {},
      "source": [
        "Use {func}`~pylabrobot.resources.abstract.assign_child_resources` to assign the tip carrier to the deck of the liquid handler. All resources contained by this carrier will be assigned automatically.\n",
        "\n",
        "In the `rails` parameter, we can pass the location of the tip carrier. The locations of the tips will automatically be calculated."
      ]
    },
    {
      "cell_type": "code",
      "execution_count": null,
      "metadata": {},
      "outputs": [],
      "source": [
        "lh.deck.assign_child_resource(tip_car, rails=3)"
      ]
    },
    {
      "cell_type": "markdown",
      "metadata": {},
      "source": [
        "Repeat this for the plates."
      ]
    },
    {
      "cell_type": "code",
      "execution_count": null,
      "metadata": {},
      "outputs": [],
      "source": [
        "plt_car = PLT_CAR_L5AC_A00(name='plate carrier')\n",
        "plt_car[0] = Cos_96_DW_1mL(name='plate_01')"
      ]
    },
    {
      "cell_type": "code",
      "execution_count": null,
      "metadata": {},
      "outputs": [],
      "source": [
        "lh.deck.assign_child_resource(plt_car, rails=15)"
      ]
    },
    {
      "cell_type": "markdown",
      "metadata": {},
      "source": [
        "Let's look at a summary of the deck layout using {func}`~pylabrobot.liquid_handling.LiquidHandler.summary`."
      ]
    },
    {
      "cell_type": "code",
      "execution_count": null,
      "metadata": {},
      "outputs": [],
      "source": [
        "lh.summary()"
      ]
    },
    {
      "cell_type": "markdown",
      "metadata": {},
      "source": [
        "## Picking up tips\n",
        "\n",
        "Picking up tips is as easy as querying the tips from the tiprack."
      ]
    },
    {
      "cell_type": "code",
      "execution_count": null,
      "metadata": {},
      "outputs": [],
      "source": [
        "tiprack = lh.get_resource(\"tips_01\")\n",
        "await lh.pick_up_tips(tiprack[\"A1:C1\"])"
      ]
    },
    {
      "cell_type": "markdown",
      "metadata": {},
      "source": [
        "## Aspirating and dispensing"
      ]
    },
    {
      "cell_type": "markdown",
      "metadata": {},
      "source": [
        "Aspirating and dispensing work similarly to picking up tips: where you use booleans to specify which tips to pick up, with aspiration and dispensing you use floats to specify the volume to aspirate or dispense in $\\mu L$.\n",
        "\n",
        "The cells below move liquid from wells `'A1:C1'` to `'D1:F1'` using channels 1, 2, and 3 using the {func}`~pylabrobot.liquid_handling.LiquidHandler.aspirate` and {func}`~pylabrobot.liquid_handling.LiquidHandler.dispense` methods."
      ]
    },
    {
      "cell_type": "code",
      "execution_count": null,
      "metadata": {},
      "outputs": [],
      "source": [
        "plate = lh.get_resource(\"plate_01\")\n",
        "await lh.aspirate(plate[\"A1:C1\"], vols=[100.0, 50.0, 200.0])"
      ]
    },
    {
      "cell_type": "markdown",
      "metadata": {},
      "source": [
        "After the liquid has been aspirated, dispense it in the wells below. Note that while we specify different wells, we are still using the same channels. This is needed because only these channels contain liquid, of course."
      ]
    },
    {
      "cell_type": "code",
      "execution_count": null,
      "metadata": {},
      "outputs": [],
      "source": [
        "await lh.dispense(plate[\"D1:F1\"], vols=[100.0, 50.0, 200.0])"
      ]
    },
    {
      "cell_type": "markdown",
      "metadata": {},
      "source": [
        "Let's move the liquid back to the original wells."
      ]
    },
    {
      "cell_type": "code",
      "execution_count": null,
      "metadata": {},
      "outputs": [],
      "source": [
        "await lh.aspirate(plate[\"D1:F1\"], vols=[100.0, 50.0, 200.0])\n",
        "await lh.dispense(plate[\"A1:C1\"], vols=[100.0, 50.0, 200.0])"
      ]
    },
    {
      "cell_type": "markdown",
      "metadata": {},
      "source": [
        "## Discarding tips\n",
        "\n",
        "Finally, you can discard tips by using the {func}`~pylabrobot.liquid_handling.LiquidHandler.discard_tips` method."
      ]
    },
    {
      "cell_type": "code",
      "execution_count": null,
      "metadata": {},
      "outputs": [],
      "source": [
        "await lh.drop_tips(tiprack[\"A1:C1\"])"
      ]
    },
    {
      "cell_type": "code",
      "execution_count": null,
      "metadata": {},
      "outputs": [],
      "source": [
        "await lh.stop()"
      ]
    }
  ],
  "metadata": {
    "kernelspec": {
      "display_name": "venv",
      "language": "python",
      "name": "python3"
    },
    "language_info": {
      "codemirror_mode": {
        "name": "ipython",
        "version": 3
      },
      "file_extension": ".py",
      "mimetype": "text/x-python",
      "name": "python",
      "nbconvert_exporter": "python",
      "pygments_lexer": "ipython3",
      "version": "3.10.10"
    }
  },
  "nbformat": 4,
  "nbformat_minor": 2
}
