{
 "cells": [
  {
   "cell_type": "markdown",
   "metadata": {},
   "source": [
    "# Agnostic methods for liquid handling\n"
   ]
  },
  {
   "cell_type": "markdown",
   "metadata": {},
   "source": [
    "## Setting up "
   ]
  },
  {
   "cell_type": "markdown",
   "metadata": {},
   "source": [
    "Check if the correct environment is in use:"
   ]
  },
  {
   "cell_type": "code",
   "execution_count": null,
   "metadata": {},
   "outputs": [],
   "source": [
    "!echo $VIRTUAL_ENV\n",
    "\n",
    "import os, sys\n",
    "print(\"Current working directory: \" + os.getcwd())\n",
    "print(\"Using python: \" + sys.executable)"
   ]
  },
  {
   "cell_type": "markdown",
   "metadata": {},
   "source": [
    "?"
   ]
  },
  {
   "cell_type": "code",
   "execution_count": null,
   "metadata": {},
   "outputs": [],
   "source": [
    "%load_ext autoreload\n",
    "%autoreload 2"
   ]
  },
  {
   "cell_type": "markdown",
   "metadata": {},
   "source": [
    "Basic imports:"
   ]
  },
  {
   "cell_type": "code",
   "execution_count": null,
   "metadata": {},
   "outputs": [],
   "source": [
    "# Basic imports:\n",
    "# - liquid handler\n",
    "from pylabrobot.liquid_handling import LiquidHandler\n",
    "# - backend\n",
    "from pylabrobot.liquid_handling.backends import STAR\n",
    "# - deck\n",
    "from pylabrobot.resources.hamilton import STARLetDeck"
   ]
  },
  {
   "cell_type": "markdown",
   "metadata": {},
   "source": [
    "## Writing a custom deck"
   ]
  },
  {
   "cell_type": "code",
   "execution_count": null,
   "metadata": {},
   "outputs": [],
   "source": [
    "import textwrap\n",
    "from typing import Optional, Callable\n",
    "\n",
    "from pylabrobot.resources import Coordinate, Deck, Trash\n",
    "\n",
    "\n",
    "class SilverDeck(Deck):\n",
    "  \"\"\" (Ag)nostic deck object.\n",
    "\n",
    "  Boilerplate code written by Rick: https://forums.pylabrobot.org/t/writing-a-new-backend-agnosticity/844/16\n",
    "  \"\"\"\n",
    "\n",
    "  def __init__(self,\n",
    "               name: str= \"silver_deck\",\n",
    "               # TODO: Update default size.\n",
    "               size_x: float = 250,\n",
    "               size_y: float = 350,\n",
    "               size_z: float = 200,\n",
    "               resource_assigned_callback: Optional[Callable] = None,\n",
    "               resource_unassigned_callback: Optional[Callable] = None,\n",
    "               # TODO: Update default origin.\n",
    "               origin: Coordinate = Coordinate(0, 0, 0),\n",
    "               # TODO: Update default trash location.\n",
    "               trash_location: Coordinate = Coordinate(x=82.84, y=53.56, z=5),\n",
    "               no_trash: bool = False):\n",
    "\n",
    "    # Run init from the base Deck class.\n",
    "    super().__init__(\n",
    "      name=name,\n",
    "      size_x=size_x, size_y=size_y, size_z=size_z,\n",
    "      resource_assigned_callback=resource_assigned_callback,\n",
    "      resource_unassigned_callback=resource_unassigned_callback,\n",
    "      origin=origin)\n",
    "\n",
    "    # TODO: write your init code, for example assign a \"trash\" resource:\n",
    "    if not no_trash:\n",
    "      self._assign_trash(location=trash_location)\n",
    "\n",
    "  def _assign_trash(self, location: Coordinate):\n",
    "    \"\"\" Assign the trash area to the deck. \"\"\"\n",
    "\n",
    "    trash = Trash(\n",
    "      name=\"trash\",\n",
    "      # TODO: Update default dimensions.\n",
    "      size_x=80,\n",
    "      size_y=120,\n",
    "      size_z=50\n",
    "    )\n",
    "\n",
    "    self.assign_child_resource(trash, location=location)\n",
    "\n",
    "  def summary(self) -> str:\n",
    "    \"\"\" Get a summary of the deck.\n",
    "\n",
    "    >>> print(deck.summary())\n",
    "\n",
    "    TODO: <write some printable ascii representation of the deck's current layout>\n",
    "    \"\"\"\n",
    "\n",
    "    return textwrap.dedent(f\"\"\"\\\n",
    "      +---------------------+\n",
    "      |                     |\n",
    "      |        TODO         |\n",
    "      |                     |\n",
    "      +---------------------+\n",
    "    \"\"\")\n"
   ]
  },
  {
   "cell_type": "markdown",
   "metadata": {},
   "source": [
    "Instantiate a new deck object:"
   ]
  },
  {
   "cell_type": "code",
   "execution_count": null,
   "metadata": {},
   "outputs": [],
   "source": [
    "deck = SilverDeck(name=\"basic deck 1\")"
   ]
  },
  {
   "cell_type": "markdown",
   "metadata": {},
   "source": [
    "Stuff can be added to the deck, which in PLR jargon is the same as \"assigning a child resource\" to the deck.\n",
    "\n",
    "This is typically accomplished by calling `assign_child_resource`, a method from the Resource class,\n",
    "which is also the baseclass for Deck.\n",
    "\n",
    "This means that our deck has a list of resources, which are considered children of the deck resource:"
   ]
  },
  {
   "cell_type": "code",
   "execution_count": null,
   "metadata": {},
   "outputs": [],
   "source": [
    "deck.children"
   ]
  },
  {
   "cell_type": "markdown",
   "metadata": {},
   "source": [
    "Lets add another resource, a well plate:"
   ]
  },
  {
   "cell_type": "code",
   "execution_count": null,
   "metadata": {},
   "outputs": [],
   "source": [
    "# Import the resource class\n",
    "from pylabrobot.resources import Cos_96_DW_1mL, LTF_L\n",
    "\n",
    "# Create an instance\n",
    "well_plate = Cos_96_DW_1mL(name='plate_01')\n",
    "tip_rack = LTF_L(name=\"tip rack 1\")"
   ]
  },
  {
   "cell_type": "markdown",
   "metadata": {},
   "source": [
    "Note that the well plate is also a resource, and also has children. Lets print the first five children, and realize that it has been populated with \"Well\" type resources:"
   ]
  },
  {
   "cell_type": "code",
   "execution_count": null,
   "metadata": {},
   "outputs": [],
   "source": [
    "well_plate.children[:5]"
   ]
  },
  {
   "cell_type": "markdown",
   "metadata": {},
   "source": [
    "Likewise, the tip rack has been populated with \"tip spot\" resources, where tips can be placed."
   ]
  },
  {
   "cell_type": "code",
   "execution_count": null,
   "metadata": {},
   "outputs": [],
   "source": [
    "tip_rack.children[:3]"
   ]
  },
  {
   "cell_type": "markdown",
   "metadata": {},
   "source": [
    "The tip spots on the rack can be filled with tips:"
   ]
  },
  {
   "cell_type": "code",
   "execution_count": null,
   "metadata": {},
   "outputs": [],
   "source": [
    "# tip_rack.fill()"
   ]
  },
  {
   "cell_type": "markdown",
   "metadata": {},
   "source": [
    "Now we will assign the well plate resource as a child of our deck resource using `assign_child_resource`.\n",
    "\n",
    "The `assign_child_resource` function inherited from base `Resource` class accepts an optional `location` parameter, with type `Coordinate` (another type of PLR object). If passed, it is used to override the `location` attribute of the Resource we want to add.\n",
    "\n",
    " Lets have a look:"
   ]
  },
  {
   "cell_type": "code",
   "execution_count": null,
   "metadata": {},
   "outputs": [],
   "source": [
    "# Note that the well has no default location.\n",
    "print(well_plate.location)"
   ]
  },
  {
   "cell_type": "code",
   "execution_count": null,
   "metadata": {},
   "outputs": [],
   "source": [
    "# Since some robots have \"slots\" or \"rails\", the syntax will vary.\n",
    "# For example, the pyhamilton deck has overriden the \"assign_child_resource\"\n",
    "# method from \"Resource\", such that it accepts a \"rail\" parameter instead\n",
    "# of a location/Coordinate.\n",
    "deck.assign_child_resource(well_plate, location=Coordinate(10, 10, 0))\n",
    "\n",
    "# Do the same for the tip rack.\n",
    "deck.assign_child_resource(tip_rack, location=Coordinate(10, 100, 0))"
   ]
  },
  {
   "cell_type": "code",
   "execution_count": null,
   "metadata": {},
   "outputs": [],
   "source": [
    "# Note that the well now has location.\n",
    "print(well_plate.location)"
   ]
  },
  {
   "cell_type": "code",
   "execution_count": null,
   "metadata": {},
   "outputs": [],
   "source": [
    "# Note that the well plate now has a parent\n",
    "print(well_plate.parent)"
   ]
  },
  {
   "cell_type": "code",
   "execution_count": null,
   "metadata": {},
   "outputs": [],
   "source": [
    "# Note that the deck now has an additional child.\n",
    "deck.children"
   ]
  },
  {
   "cell_type": "markdown",
   "metadata": {},
   "source": [
    "## Deck Serialization\n",
    "\n",
    "Lets see what serialization outputs:"
   ]
  },
  {
   "cell_type": "code",
   "execution_count": null,
   "metadata": {},
   "outputs": [],
   "source": [
    "import json\n",
    "data = deck.serialize()\n",
    "with open('data/deck.json', 'w', encoding='utf-8') as f:\n",
    "    json.dump(data, f, indent=4)\n"
   ]
  },
  {
   "cell_type": "markdown",
   "metadata": {},
   "source": [
    "## A couple ways of breaking PLR"
   ]
  },
  {
   "cell_type": "markdown",
   "metadata": {},
   "source": [
    "Lets try to break PLR by assigning the same object again:"
   ]
  },
  {
   "cell_type": "code",
   "execution_count": null,
   "metadata": {},
   "outputs": [],
   "source": [
    "try:\n",
    "  deck.assign_child_resource(well_plate, location=Coordinate(10, 10, 0), reassign=False)\n",
    "except Exception as e:\n",
    "  print(f\"Error: {e}\")\n",
    "else:\n",
    "  print(f\"No error :/\")"
   ]
  },
  {
   "cell_type": "markdown",
   "metadata": {},
   "source": [
    "Lets try to break PLR by re-assigning the same child to another parent, with the reassing disabled:"
   ]
  },
  {
   "cell_type": "code",
   "execution_count": null,
   "metadata": {},
   "outputs": [],
   "source": [
    "try:\n",
    "  deck2 = SilverDeck(name=\"second deck\")\n",
    "  deck2.assign_child_resource(well_plate, location=Coordinate(10, 10, 0), reassign=False)\n",
    "except Exception as e:\n",
    "  print(f\"Error: {e}\")\n",
    "else:\n",
    "  print(f\"No error :/\")"
   ]
  },
  {
   "cell_type": "markdown",
   "metadata": {},
   "source": [
    "Note that `reassing=True` (the default) actually reassigns the resource to a different parent."
   ]
  },
  {
   "cell_type": "code",
   "execution_count": null,
   "metadata": {},
   "outputs": [],
   "source": [
    "try:\n",
    "  deck2 = SilverDeck(name=\"second deck\")\n",
    "  deck2.assign_child_resource(well_plate, location=Coordinate(10, 10, 0))\n",
    "except Exception as e:\n",
    "  print(f\"Error: {e}\")\n"
   ]
  },
  {
   "cell_type": "code",
   "execution_count": null,
   "metadata": {},
   "outputs": [],
   "source": [
    "well_plate.parent.name"
   ]
  },
  {
   "cell_type": "markdown",
   "metadata": {},
   "source": [
    "Lets try to break PLR by assigning a Resource to itself:"
   ]
  },
  {
   "cell_type": "code",
   "execution_count": null,
   "metadata": {},
   "outputs": [],
   "source": [
    "try:\n",
    "  well_plate.assign_child_resource(well_plate, location=Coordinate(10, 10, 0))\n",
    "except Exception as e:\n",
    "  print(f\"Error: {e}\")\n",
    "else:\n",
    "  print(f\"No error :/\")"
   ]
  },
  {
   "cell_type": "markdown",
   "metadata": {},
   "source": [
    "# Pipettin Writer Objects\n",
    "\n",
    "JSON definition of a workspace: how does it match a PLR \"deck\"?"
   ]
  },
  {
   "cell_type": "markdown",
   "metadata": {},
   "source": [
    "## Object mapping\n",
    "\n",
    "I'm not sure if there is a 1-to-1 mapping between Pipttin's and PLR's objects.\n",
    "\n",
    "I'll start from here:\n",
    "\n",
    "| Pipettin Writer | PyLabRobot |  PW -> PLR  |  PW <- PLR  |\n",
    "|-----------------|------------|-------------|-------------|\n",
    "| Workspace       | Deck       |  Minimal    |  -          |\n",
    "| BUCKET          | Trash      |  -          |  -          |\n",
    "| TUBE_RACK       | Plate      |  -          |  -          |\n",
    "| TIP_RACK        | TipRack    |  Minimal    |  -          |\n",
    "| PETRI_DISH      | ?          |  -          |  -          |\n",
    "| Custom platform | ?          |  -          |  -          |\n",
    "| Tools           | ?          |  -          |  -          |\n",
    "\n",
    "Main points:\n",
    "\n",
    "1. The first obvious difference is that Pipettin uses \"tube rack\" for everything, while\n",
    "PLR only seems to have well \"plates\".\n",
    "1. Second, I'm not sure PLR has an object counterpart to a petri dish.\n",
    "2. PLR defines objects for wells and tip spots, while PW does not. These are inferred from the platform type, unless it's a custom platform with slots, or a petri dish (which does not really have predefined slots nor locations).\n",
    "3. To be continued...\n"
   ]
  },
  {
   "cell_type": "markdown",
   "metadata": {},
   "source": [
    "## Tip rack\n",
    "\n",
    "¿How should I port PW (pronounced \"pew\" because its cool) objects to PLR objects?\n",
    "\n",
    "Here is a relveant code chunk from `carrier_tests.py`:"
   ]
  },
  {
   "cell_type": "code",
   "execution_count": null,
   "metadata": {},
   "outputs": [],
   "source": [
    "# From \"carrier_tests.py\"\n",
    "from pylabrobot.resources.itemized_resource import create_equally_spaced\n",
    "from pylabrobot.resources.ml_star.tip_creators import standard_volume_tip_with_filter\n",
    "\n",
    "from pylabrobot.resources.carrier import Carrier, TipCarrier, create_homogenous_carrier_sites\n",
    "from pylabrobot.resources.coordinate import Coordinate\n",
    "from pylabrobot.resources.deck import Deck\n",
    "from pylabrobot.resources.resource import Resource\n",
    "from pylabrobot.resources.tip_rack import TipRack, TipSpot\n",
    "\n",
    "tip_rack = TipRack( # pylint: disable=invalid-name\n",
    "      name=\"custom tip rack\",\n",
    "      size_x=5, size_y=5, size_z=5,\n",
    "      items=create_equally_spaced(TipSpot,\n",
    "        dx=1, dy=1, dz=1,\n",
    "        num_items_x=1, num_items_y=1, item_size_x=5, item_size_y=5,\n",
    "        make_tip=standard_volume_tip_with_filter))"
   ]
  },
  {
   "cell_type": "markdown",
   "metadata": {},
   "source": [
    "The `create_equally_spaced` seems specially important.\n",
    "\n",
    "Paying attention to the `dy` and  `dx` arguments of the `create_equally_spaced` function. Those\n",
    "arguments seem to define the full size of the platform.\n",
    "\n",
    "```python\n",
    "def create_equally_spaced(\n",
    "    klass: Type[T],\n",
    "    num_items_x: int, num_items_y: int,\n",
    "    dx: float, dy: float, dz: float,\n",
    "    item_size_x: float, item_size_y: float,\n",
    "    **kwargs\n",
    ") -> List[List[T]]:\n",
    "  \"\"\" Make equally spaced resources.\n",
    "\n",
    "  See :class:`ItemizedResource` for more details.\n",
    "\n",
    "  Args:\n",
    "    klass: The class of the resource to create\n",
    "    num_items_x: The number of items in the x direction\n",
    "    num_items_y: The number of items in the y direction\n",
    "    dx: The bottom left corner for items in the left column\n",
    "    dy: The bottom left corner for items in the top row\n",
    "    dz: The z coordinate for all items\n",
    "    item_size_x: The size of the items in the x direction\n",
    "    item_size_y: The size of the items in the y direction\n",
    "    **kwargs: Additional keyword arguments to pass to the resource constructor\n",
    "\n",
    "  Returns:\n",
    "    A list of lists of resources. The outer list contains the columns, and the inner list contains\n",
    "    the items in each column.\n",
    "  \"\"\"\n",
    "```\n",
    "\n",
    "\n",
    "The `item_size_x` and `item_size_y` arguments to that function define how the items are spaced.\n",
    "\n",
    "In most platforms this is set to the SBS spacing (9 mm, or its multiples).\n",
    "\n",
    "```python\n",
    "item.location=Coordinate(x=dx + i * item_size_x, y=dy + (num_items_y-j-1) * item_size_y, z=dz)\n",
    "```\n"
   ]
  },
  {
   "cell_type": "markdown",
   "metadata": {},
   "source": [
    "> Note: it's interesting to note that the \"tip\" object in PLR is _not_ a PLR \"resource\".\n",
    "> \n",
    "> Tubes, in contrast, are (examples further down)."
   ]
  },
  {
   "cell_type": "markdown",
   "metadata": {},
   "source": [
    "Lets load the platforms and a workspace, and find the info for a tip rack:"
   ]
  },
  {
   "cell_type": "code",
   "execution_count": null,
   "metadata": {},
   "outputs": [],
   "source": [
    "import json\n",
    "\n",
    "# 'data/ws_export.json'\n",
    "ws_export_file = 'data/pipettin-data-20240203/Workspaces.json'\n",
    "with open(ws_export_file, 'r', encoding='utf-8') as f:\n",
    "    workspaces = json.load(f)\n",
    "workspace = workspaces[0]\n",
    "\n",
    "pt_export_file = 'data/pipettin-data-20240203/Platforms.json'\n",
    "with open(pt_export_file, 'r', encoding='utf-8') as f:\n",
    "    platforms = json.load(f)\n",
    "\n",
    "# Get a tip rack platform (the first one that shows up).\n",
    "pew_tip_racks = [p for p in platforms if p[\"type\"] == \"TIP_RACK\"]\n",
    "pew_tip_rack = pew_tip_racks[0]\n",
    "\n",
    "# Get a workspace item matching that platform.\n",
    "pew_items = [i for i in workspace[\"items\"] if i[\"platform\"] == pew_tip_rack[\"name\"] ]\n",
    "pew_item = pew_items[0]\n",
    "\n",
    "# Get the item's position in the workspace.\n",
    "pew_item_pos = pew_item[\"position\"]\n",
    "pew_item_pos\n"
   ]
  },
  {
   "cell_type": "markdown",
   "metadata": {},
   "source": [
    "Now convert the position to a PLR XYZ coordinate object:"
   ]
  },
  {
   "cell_type": "code",
   "execution_count": null,
   "metadata": {},
   "outputs": [],
   "source": [
    "from pylabrobot.resources.coordinate import Coordinate\n",
    "\n",
    "pew_item_location = Coordinate(**pew_item_pos)\n",
    "pew_item_location"
   ]
  },
  {
   "cell_type": "markdown",
   "metadata": {},
   "source": [
    "Now get the tip's data:\n",
    "\n",
    "> Note that by using `create_equally_spaced` all tips must be identical."
   ]
  },
  {
   "cell_type": "code",
   "execution_count": null,
   "metadata": {},
   "outputs": [],
   "source": [
    "ct_export_file = 'data/pipettin-data-20240203/Containers.json'\n",
    "with open(ct_export_file, 'r', encoding='utf-8') as f:\n",
    "    containers = json.load(f)\n",
    "\n",
    "pew_item_contents = pew_item[\"content\"]\n",
    "tip_content = pew_item_contents[0]\n",
    "\n",
    "tip_container = [c for c in containers if c[\"name\"]==tip_content[\"container\"]][0]\n",
    "tip_container"
   ]
  },
  {
   "cell_type": "code",
   "execution_count": null,
   "metadata": {},
   "outputs": [],
   "source": [
    "# Get container offset\n",
    "tip_container_offset = [o for o in pew_tip_rack[\"containers\"] if o[\"container\"] == tip_container[\"name\"]][0]\n",
    "tip_container_offset"
   ]
  },
  {
   "cell_type": "markdown",
   "metadata": {},
   "source": [
    "Now we'll convert it to it's PLR conuterpart using `TipRack` and `create_equally_spaced`:"
   ]
  },
  {
   "cell_type": "code",
   "execution_count": null,
   "metadata": {},
   "outputs": [],
   "source": [
    "from pylabrobot.resources.tip import Tip\n",
    "from pylabrobot.resources.itemized_resource import create_equally_spaced\n",
    "\n",
    "def make_pew_tip():\n",
    "  \"\"\" Make single tip.\n",
    "\n",
    "  Attributes from the Tip class:\n",
    "    has_filter: whether the tip type has a filter\n",
    "    total_tip_length: total length of the tip, in in mm\n",
    "    maximal_volume: maximal volume of the tip, in ul\n",
    "    fitting_depth: the overlap between the tip and the pipette, in mm\n",
    "  \"\"\"\n",
    "  tip = Tip(\n",
    "    has_filter=False,\n",
    "    total_tip_length=tip_container[\"length\"],\n",
    "    maximal_volume=tip_container[\"maxVolume\"],\n",
    "    fitting_depth=tip_container[\"length\"]-tip_container[\"activeHeight\"]\n",
    "  )\n",
    "\n",
    "  return tip\n",
    "\n",
    "tip_rack_item = TipRack(\n",
    "    name=pew_item[\"name\"],\n",
    "    size_x=pew_tip_rack[\"width\"],\n",
    "    size_y=pew_tip_rack[\"length\"],\n",
    "    size_z=pew_tip_rack[\"height\"],\n",
    "    # category = \"tip_rack\", # The default.\n",
    "    model=pew_tip_rack[\"name\"], # Optional.\n",
    "    items=create_equally_spaced(TipSpot,\n",
    "      num_items_x=pew_tip_rack[\"wellsColumns\"],\n",
    "      num_items_y=pew_tip_rack[\"wellsRows\"],\n",
    "      # dx: The bottom left corner for items in the left column.\n",
    "      dx=pew_tip_rack[\"firstWellCenterX\"]-pew_tip_rack[\"wellSeparationX\"]/2,\n",
    "      # dy: The bottom left corner for items in the top row.\n",
    "      dy=pew_tip_rack[\"firstWellCenterY\"]-pew_tip_rack[\"wellSeparationY\"]/2,\n",
    "      # dz: The z coordinate for all items.\n",
    "      # TODO: I dont know how \"dz\" is used later on. Check that it corresponds to activeHeight.\n",
    "      dz=pew_tip_rack[\"activeHeight\"],\n",
    "      # XY distance between adjacent items in the grid.\n",
    "      item_size_x=pew_tip_rack[\"wellSeparationX\"],\n",
    "      item_size_y=pew_tip_rack[\"wellSeparationY\"],\n",
    "      # TODO: This function should be replaced.\n",
    "      # make_tip=standard_volume_tip_with_filter,\n",
    "      make_tip=make_pew_tip\n",
    "    ),\n",
    "    with_tips=False\n",
    "  )\n",
    "\n",
    "print(tip_rack_item)"
   ]
  },
  {
   "cell_type": "markdown",
   "metadata": {},
   "source": [
    "> Note: There is a \"location\" property set to `None`. It does not seem possible to set on instantiation."
   ]
  },
  {
   "cell_type": "markdown",
   "metadata": {},
   "source": [
    "### Reference implementations\n",
    "\n",
    "- [ ] Inspect `pylabrobot/resources/ml_star/tip_creators.py`."
   ]
  },
  {
   "cell_type": "markdown",
   "metadata": {},
   "source": [
    "## Tube rack\n",
    "\n",
    "There seem to be no abstractions for a \"tube\" in PLR. Furthermore, there seem to be no tube racks either. This is in line with the growing notion that robots can only use plates.\n",
    "\n",
    "Pipettin does not care. It will stab a tube if its lid is closed (?).\n",
    "\n",
    "Looking at `pylabrobot/resources/container.py`, there seems to be a useful `Container` class:\n",
    "\n",
    "> \"_A container is an abstract base class for a resource that can hold liquid._\"\n",
    "\n",
    "There is, however, an abstraction for a \"well\" at `pylabrobot/resources/well.py`, which subclasses Container. The only difference is that it assumes a cylindrical shape, and will estimate its maximum volume from the XZ dimensions on initialization.\n",
    "\n",
    "It makes sense that I should write a Tube class.\n",
    "\n",
    "There are some uncertainties though:\n",
    "\n",
    "- Tubes can be moved, wells cannot.\n",
    "\n",
    "### Issues with PLR\n",
    "\n",
    "PLR does not have a \"tube spot\" object as it does for tips. If I wrote a \"tube spot\" object, I would't rally know how to do the tracking stuff.\n",
    "\n",
    "I don't know how hard it would be to adapt the `itemized_resource` class to handle this scenario.\n",
    "\n",
    "Furthermore, I wouldn't know how to insert only the needed tubes, thereby leaving empty spaces, and still be able to use the \"A1:B2\" syntax for selection.\n",
    "\n",
    "This seems like a task for Rick/PLR folk.\n",
    "\n",
    "Since no one else will be using tube racks, one possibility is to just write my own class entierly.\n",
    "\n",
    "### My own class entirely\n",
    "\n",
    "This makes sense in the context of selection by the usual pipettin stuff:\n",
    "\n",
    "- name\n",
    "- index\n",
    "- label\n"
   ]
  },
  {
   "cell_type": "code",
   "execution_count": 1,
   "metadata": {},
   "outputs": [],
   "source": [
    "# TODO: re-write the TubeRack class without using itemized_resource, and without \"A1:B2\" selection."
   ]
  },
  {
   "cell_type": "code",
   "execution_count": null,
   "metadata": {},
   "outputs": [],
   "source": [
    "from pylabrobot.resources.pipettin.tube_racks import TubeRack, Tube\n",
    "\n",
    "tube = Tube()\n",
    "\n",
    "tube_rack = TubeRack(\n",
    "  items=[[tube]]\n",
    ")"
   ]
  },
  {
   "cell_type": "markdown",
   "metadata": {},
   "source": [
    "\n",
    "## Trash bucket\n",
    "\n",
    "> Due\n",
    "\n",
    "## Petri Dish\n",
    "\n",
    "> Due\n",
    "\n",
    "## Custom platform\n",
    "\n",
    "> Due"
   ]
  },
  {
   "cell_type": "markdown",
   "metadata": {},
   "source": [
    "## Workspace"
   ]
  },
  {
   "cell_type": "code",
   "execution_count": null,
   "metadata": {},
   "outputs": [],
   "source": [
    "pew_deck = SilverDeck(\n",
    "  name=workspace[\"name\"],\n",
    "  # TODO: Update default size.\n",
    "  size_x = workspace[\"width\"],\n",
    "  size_y = workspace[\"length\"],\n",
    "  size_z = workspace[\"height\"],\n",
    "  resource_assigned_callback = None,\n",
    "  resource_unassigned_callback = None,\n",
    "  # TODO: Update default origin.\n",
    "  # origin = Coordinate(workspace[\"padding\"][\"left\"], workspace[\"padding\"][\"right\"], 0),\n",
    "  origin = Coordinate(0, 0, 0),\n",
    "  # TODO: Update default trash location.\n",
    "  trash_location = Coordinate(x=82.84, y=53.56, z=5),\n",
    "  no_trash = False\n",
    ")\n",
    "\n",
    "pew_deck"
   ]
  },
  {
   "cell_type": "markdown",
   "metadata": {},
   "source": [
    "Lets assign the TipRack we created earlier to this custom Deck:"
   ]
  },
  {
   "cell_type": "code",
   "execution_count": null,
   "metadata": {},
   "outputs": [],
   "source": [
    "pew_deck.assign_child_resource(resource=tip_rack_item, location=pew_item_location)"
   ]
  },
  {
   "cell_type": "markdown",
   "metadata": {},
   "source": [
    "Inspect the contents:"
   ]
  },
  {
   "cell_type": "code",
   "execution_count": null,
   "metadata": {},
   "outputs": [],
   "source": [
    "pew_deck.children"
   ]
  },
  {
   "cell_type": "markdown",
   "metadata": {},
   "source": [
    "Yay!"
   ]
  },
  {
   "cell_type": "markdown",
   "metadata": {},
   "source": [
    "## STAR deck examples\n"
   ]
  },
  {
   "cell_type": "markdown",
   "metadata": {},
   "source": [
    "Create a new liquid handler using `STAR` as its backend, and the hamilton \"deck\"."
   ]
  },
  {
   "cell_type": "code",
   "execution_count": null,
   "metadata": {},
   "outputs": [],
   "source": [
    "backend = STAR()\n",
    "lh = LiquidHandler(backend=backend, deck=STARLetDeck())"
   ]
  },
  {
   "cell_type": "markdown",
   "metadata": {},
   "source": [
    "The final step is to open communication with the robot. This is done using the {func}`~pylabrobot.liquid_handling.LiquidHandler.setup` method."
   ]
  },
  {
   "cell_type": "code",
   "execution_count": null,
   "metadata": {},
   "outputs": [],
   "source": [
    "await lh.setup()"
   ]
  },
  {
   "cell_type": "markdown",
   "metadata": {},
   "source": [
    "\n",
    "Now that we have a `LiquidHandler` instance, we can define the deck layout.\n",
    "\n",
    "The layout in this tutorial will contain five sets of standard volume tips with filter, 1 set of 96 1mL wells, and tip and plate carriers on which these resources are positioned.\n",
    "\n",
    "Start by importing the relevant objects and variables from the PyHamilton package. This notebook uses the following resources:\n",
    "\n",
    "- {class}`~pylabrobot.resources.ml_star.tip_carriers.TIP_CAR_480_A00` tip carrier\n",
    "- {class}`~pylabrobot.resources.ml_star.plate_carriers.PLT_CAR_L5AC_A00` plate carrier\n",
    "- {class}`~pylabrobot.resources.corning_costar.plates.Cos_96_DW_1mL` wells\n",
    "- {class}`~pylabrobot.resources.ml_star.tip_racks.HTF_L` tips"
   ]
  },
  {
   "cell_type": "code",
   "execution_count": null,
   "metadata": {},
   "outputs": [],
   "source": [
    "from pylabrobot.resources import (\n",
    "    TIP_CAR_480_A00,\n",
    "    PLT_CAR_L5AC_A00,\n",
    "    Cos_96_DW_1mL,\n",
    "    HTF_L\n",
    ")"
   ]
  },
  {
   "cell_type": "markdown",
   "metadata": {},
   "source": [
    "Then create a tip carrier named `tip carrier`, which will contain tip rack at all 5 positions. These positions can be accessed using `tip_car[x]`, and are 0 indexed."
   ]
  },
  {
   "cell_type": "code",
   "execution_count": null,
   "metadata": {},
   "outputs": [],
   "source": [
    "tip_car = TIP_CAR_480_A00(name='tip carrier')\n",
    "tip_car[0] = HTF_L(name='tips_01')"
   ]
  },
  {
   "cell_type": "markdown",
   "metadata": {},
   "source": [
    "Use {func}`~pylabrobot.resources.abstract.assign_child_resources` to assign the tip carrier to the deck of the liquid handler. All resources contained by this carrier will be assigned automatically.\n",
    "\n",
    "In the `rails` parameter, we can pass the location of the tip carrier. The locations of the tips will automatically be calculated."
   ]
  },
  {
   "cell_type": "code",
   "execution_count": null,
   "metadata": {},
   "outputs": [],
   "source": [
    "lh.deck.assign_child_resource(tip_car, rails=3)"
   ]
  },
  {
   "cell_type": "markdown",
   "metadata": {},
   "source": [
    "Repeat this for the plates."
   ]
  },
  {
   "cell_type": "code",
   "execution_count": null,
   "metadata": {},
   "outputs": [],
   "source": [
    "plt_car = PLT_CAR_L5AC_A00(name='plate carrier')\n",
    "plt_car[0] = Cos_96_DW_1mL(name='plate_01')"
   ]
  },
  {
   "cell_type": "code",
   "execution_count": null,
   "metadata": {},
   "outputs": [],
   "source": [
    "lh.deck.assign_child_resource(plt_car, rails=15)"
   ]
  },
  {
   "cell_type": "markdown",
   "metadata": {},
   "source": [
    "Let's look at a summary of the deck layout using {func}`~pylabrobot.liquid_handling.LiquidHandler.summary`."
   ]
  },
  {
   "cell_type": "code",
   "execution_count": null,
   "metadata": {},
   "outputs": [],
   "source": [
    "lh.summary()"
   ]
  },
  {
   "cell_type": "markdown",
   "metadata": {},
   "source": [
    "## Picking up tips\n",
    "\n",
    "Picking up tips is as easy as querying the tips from the tiprack."
   ]
  },
  {
   "cell_type": "code",
   "execution_count": null,
   "metadata": {},
   "outputs": [],
   "source": [
    "tiprack = lh.get_resource(\"tips_01\")\n",
    "await lh.pick_up_tips(tiprack[\"A1:C1\"])"
   ]
  },
  {
   "cell_type": "markdown",
   "metadata": {},
   "source": [
    "## Aspirating and dispensing"
   ]
  },
  {
   "cell_type": "markdown",
   "metadata": {},
   "source": [
    "Aspirating and dispensing work similarly to picking up tips: where you use booleans to specify which tips to pick up, with aspiration and dispensing you use floats to specify the volume to aspirate or dispense in $\\mu L$.\n",
    "\n",
    "The cells below move liquid from wells `'A1:C1'` to `'D1:F1'` using channels 1, 2, and 3 using the {func}`~pylabrobot.liquid_handling.LiquidHandler.aspirate` and {func}`~pylabrobot.liquid_handling.LiquidHandler.dispense` methods."
   ]
  },
  {
   "cell_type": "code",
   "execution_count": null,
   "metadata": {},
   "outputs": [],
   "source": [
    "plate = lh.get_resource(\"plate_01\")\n",
    "await lh.aspirate(plate[\"A1:C1\"], vols=[100.0, 50.0, 200.0])"
   ]
  },
  {
   "cell_type": "markdown",
   "metadata": {},
   "source": [
    "After the liquid has been aspirated, dispense it in the wells below. Note that while we specify different wells, we are still using the same channels. This is needed because only these channels contain liquid, of course."
   ]
  },
  {
   "cell_type": "code",
   "execution_count": null,
   "metadata": {},
   "outputs": [],
   "source": [
    "await lh.dispense(plate[\"D1:F1\"], vols=[100.0, 50.0, 200.0])"
   ]
  },
  {
   "cell_type": "markdown",
   "metadata": {},
   "source": [
    "Let's move the liquid back to the original wells."
   ]
  },
  {
   "cell_type": "code",
   "execution_count": null,
   "metadata": {},
   "outputs": [],
   "source": [
    "await lh.aspirate(plate[\"D1:F1\"], vols=[100.0, 50.0, 200.0])\n",
    "await lh.dispense(plate[\"A1:C1\"], vols=[100.0, 50.0, 200.0])"
   ]
  },
  {
   "cell_type": "markdown",
   "metadata": {},
   "source": [
    "## Discarding tips\n",
    "\n",
    "Finally, you can discard tips by using the {func}`~pylabrobot.liquid_handling.LiquidHandler.discard_tips` method."
   ]
  },
  {
   "cell_type": "code",
   "execution_count": null,
   "metadata": {},
   "outputs": [],
   "source": [
    "await lh.drop_tips(tiprack[\"A1:C1\"])"
   ]
  },
  {
   "cell_type": "code",
   "execution_count": null,
   "metadata": {},
   "outputs": [],
   "source": [
    "await lh.stop()"
   ]
  }
 ],
 "metadata": {
  "kernelspec": {
   "display_name": ".venv",
   "language": "python",
   "name": "python3"
  },
  "language_info": {
   "codemirror_mode": {
    "name": "ipython",
    "version": 3
   },
   "file_extension": ".py",
   "mimetype": "text/x-python",
   "name": "python",
   "nbconvert_exporter": "python",
   "pygments_lexer": "ipython3",
   "version": "3.11.6"
  }
 },
 "nbformat": 4,
 "nbformat_minor": 4
}
